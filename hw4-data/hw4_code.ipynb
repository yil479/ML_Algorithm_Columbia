{
 "cells": [
  {
   "cell_type": "code",
   "execution_count": 1,
   "metadata": {},
   "outputs": [],
   "source": [
    "import numpy as np\n",
    "import pandas as pd\n",
    "from numpy import linalg as LA\n",
    "from scipy.sparse.linalg import eigs\n",
    "import matplotlib.pyplot as plt"
   ]
  },
  {
   "cell_type": "code",
   "execution_count": 43,
   "metadata": {},
   "outputs": [
    {
     "data": {
      "text/html": [
       "<div>\n",
       "<style scoped>\n",
       "    .dataframe tbody tr th:only-of-type {\n",
       "        vertical-align: middle;\n",
       "    }\n",
       "\n",
       "    .dataframe tbody tr th {\n",
       "        vertical-align: top;\n",
       "    }\n",
       "\n",
       "    .dataframe thead th {\n",
       "        text-align: right;\n",
       "    }\n",
       "</style>\n",
       "<table border=\"1\" class=\"dataframe\">\n",
       "  <thead>\n",
       "    <tr style=\"text-align: right;\">\n",
       "      <th></th>\n",
       "      <th>Team_A_index</th>\n",
       "      <th>Team_A_points</th>\n",
       "      <th>Team_B_index</th>\n",
       "      <th>Team_B_points</th>\n",
       "    </tr>\n",
       "  </thead>\n",
       "  <tbody>\n",
       "    <tr>\n",
       "      <th>0</th>\n",
       "      <td>695</td>\n",
       "      <td>34</td>\n",
       "      <td>141</td>\n",
       "      <td>14</td>\n",
       "    </tr>\n",
       "    <tr>\n",
       "      <th>1</th>\n",
       "      <td>392</td>\n",
       "      <td>20</td>\n",
       "      <td>218</td>\n",
       "      <td>24</td>\n",
       "    </tr>\n",
       "    <tr>\n",
       "      <th>2</th>\n",
       "      <td>29</td>\n",
       "      <td>38</td>\n",
       "      <td>270</td>\n",
       "      <td>45</td>\n",
       "    </tr>\n",
       "    <tr>\n",
       "      <th>3</th>\n",
       "      <td>721</td>\n",
       "      <td>6</td>\n",
       "      <td>531</td>\n",
       "      <td>16</td>\n",
       "    </tr>\n",
       "    <tr>\n",
       "      <th>4</th>\n",
       "      <td>769</td>\n",
       "      <td>45</td>\n",
       "      <td>560</td>\n",
       "      <td>22</td>\n",
       "    </tr>\n",
       "    <tr>\n",
       "      <th>5</th>\n",
       "      <td>9</td>\n",
       "      <td>19</td>\n",
       "      <td>7</td>\n",
       "      <td>24</td>\n",
       "    </tr>\n",
       "    <tr>\n",
       "      <th>6</th>\n",
       "      <td>317</td>\n",
       "      <td>7</td>\n",
       "      <td>31</td>\n",
       "      <td>30</td>\n",
       "    </tr>\n",
       "    <tr>\n",
       "      <th>7</th>\n",
       "      <td>464</td>\n",
       "      <td>10</td>\n",
       "      <td>46</td>\n",
       "      <td>41</td>\n",
       "    </tr>\n",
       "    <tr>\n",
       "      <th>8</th>\n",
       "      <td>436</td>\n",
       "      <td>3</td>\n",
       "      <td>80</td>\n",
       "      <td>46</td>\n",
       "    </tr>\n",
       "    <tr>\n",
       "      <th>9</th>\n",
       "      <td>687</td>\n",
       "      <td>30</td>\n",
       "      <td>85</td>\n",
       "      <td>12</td>\n",
       "    </tr>\n",
       "  </tbody>\n",
       "</table>\n",
       "</div>"
      ],
      "text/plain": [
       "   Team_A_index  Team_A_points  Team_B_index  Team_B_points\n",
       "0           695             34           141             14\n",
       "1           392             20           218             24\n",
       "2            29             38           270             45\n",
       "3           721              6           531             16\n",
       "4           769             45           560             22\n",
       "5             9             19             7             24\n",
       "6           317              7            31             30\n",
       "7           464             10            46             41\n",
       "8           436              3            80             46\n",
       "9           687             30            85             12"
      ]
     },
     "execution_count": 43,
     "metadata": {},
     "output_type": "execute_result"
    }
   ],
   "source": [
    "#1(a)\n",
    "scores = pd.read_csv(\"CFB2019_scores.csv\", header = None)\n",
    "scores.columns = ['Team_A_index','Team_A_points',\n",
    "                'Team_B_index', 'Team_B_points']\n",
    "scores.head(10)"
   ]
  },
  {
   "cell_type": "code",
   "execution_count": 44,
   "metadata": {},
   "outputs": [
    {
     "data": {
      "text/plain": [
       "769"
      ]
     },
     "execution_count": 44,
     "metadata": {},
     "output_type": "execute_result"
    }
   ],
   "source": [
    "scores['Team_A_index'].nunique()"
   ]
  },
  {
   "cell_type": "code",
   "execution_count": 51,
   "metadata": {},
   "outputs": [],
   "source": [
    "#construct random walk matrix\n",
    "RW_M = np.zeros((scores['Team_A_index'].nunique(), scores['Team_A_index'].nunique()))\n",
    "#team rankings\n",
    "for i in range(0, scores.shape[0]):\n",
    "    \n",
    "    j1=scores.iloc[i,:].Team_A_index-1\n",
    "    j2=scores.iloc[i,:].Team_B_index-1\n",
    "    points_j1=scores.iloc[i,:].Team_A_points\n",
    "    points_j2=scores.iloc[i,:].Team_B_points\n",
    "    #teamA WIN\n",
    "    if points_j1 > points_j2:\n",
    "        RW_M[int(j1), int(j1)] += 1+points_j1/(points_j1+points_j2)\n",
    "        RW_M[int(j2), int(j2)] += points_j2/(points_j1+points_j2)\n",
    "        RW_M[int(j1), int(j2)] += points_j2/(points_j1+points_j2)\n",
    "        RW_M[int(j2), int(j1)] += 1+points_j1/(points_j1+points_j2)\n",
    "    #teamB WIN\n",
    "    elif points_j1 < points_j2:\n",
    "        RW_M[int(j1), int(j1)] += points_j1/(points_j1+points_j2)\n",
    "        RW_M[int(j2), int(j2)] += 1+points_j2/(points_j1+points_j2)\n",
    "        RW_M[int(j1), int(j2)] += 1+points_j2/(points_j1+points_j2)\n",
    "        RW_M[int(j2), int(j1)] += points_j1/(points_j1+points_j2)"
   ]
  },
  {
   "cell_type": "code",
   "execution_count": 52,
   "metadata": {},
   "outputs": [
    {
     "data": {
      "text/plain": [
       "array([[10.74594258,  0.        ,  0.        , ...,  0.        ,\n",
       "         0.        ,  0.        ],\n",
       "       [ 0.        ,  8.09443602,  0.        , ...,  0.        ,\n",
       "         0.        ,  0.        ],\n",
       "       [ 0.        ,  0.        ,  9.12861765, ...,  0.        ,\n",
       "         0.        ,  0.        ],\n",
       "       ...,\n",
       "       [ 0.        ,  0.        ,  0.        , ..., 15.56046372,\n",
       "         0.        ,  0.        ],\n",
       "       [ 0.        ,  0.        ,  0.        , ...,  0.        ,\n",
       "        14.98976876,  0.        ],\n",
       "       [ 0.        ,  0.        ,  0.        , ...,  0.        ,\n",
       "         0.        , 12.50661548]])"
      ]
     },
     "execution_count": 52,
     "metadata": {},
     "output_type": "execute_result"
    }
   ],
   "source": [
    "RW_M"
   ]
  },
  {
   "cell_type": "code",
   "execution_count": 48,
   "metadata": {},
   "outputs": [],
   "source": [
    "#team name list\n",
    "team_name = pd.read_csv('TeamNames.txt',sep=\"\\n\", header=None)"
   ]
  },
  {
   "cell_type": "code",
   "execution_count": 67,
   "metadata": {},
   "outputs": [],
   "source": [
    "def rank_top25_team(t):\n",
    "    M = RW_M/np.sum(RW_M, axis=1).reshape(-1,1)\n",
    "    w0 = np.ones(RW_M.shape[0])*np.array(1/(RW_M.shape[0])).reshape(1,-1)\n",
    "    W_t = np.matmul(w0,M)\n",
    "    for i in range(t-1):\n",
    "        W_t = np.matmul(W_t,M)\n",
    "        \n",
    "    df = pd.DataFrame({'wt':W_t.tolist()[0]}).sort_values(by=['wt'],ascending=False)\n",
    "    top25 = pd.concat([df, team_name], axis=1, join='inner').head(25)\n",
    "    top25.columns=['wt','team_name']\n",
    "    return top25"
   ]
  },
  {
   "cell_type": "code",
   "execution_count": 68,
   "metadata": {},
   "outputs": [
    {
     "data": {
      "text/html": [
       "<div>\n",
       "<style scoped>\n",
       "    .dataframe tbody tr th:only-of-type {\n",
       "        vertical-align: middle;\n",
       "    }\n",
       "\n",
       "    .dataframe tbody tr th {\n",
       "        vertical-align: top;\n",
       "    }\n",
       "\n",
       "    .dataframe thead th {\n",
       "        text-align: right;\n",
       "    }\n",
       "</style>\n",
       "<table border=\"1\" class=\"dataframe\">\n",
       "  <thead>\n",
       "    <tr style=\"text-align: right;\">\n",
       "      <th></th>\n",
       "      <th>wt</th>\n",
       "      <th>team_name</th>\n",
       "    </tr>\n",
       "  </thead>\n",
       "  <tbody>\n",
       "    <tr>\n",
       "      <th>466</th>\n",
       "      <td>0.012812</td>\n",
       "      <td>NorthCentral</td>\n",
       "    </tr>\n",
       "    <tr>\n",
       "      <th>326</th>\n",
       "      <td>0.012578</td>\n",
       "      <td>LSU</td>\n",
       "    </tr>\n",
       "    <tr>\n",
       "      <th>436</th>\n",
       "      <td>0.011511</td>\n",
       "      <td>Morningside</td>\n",
       "    </tr>\n",
       "    <tr>\n",
       "      <th>744</th>\n",
       "      <td>0.011088</td>\n",
       "      <td>Wheaton</td>\n",
       "    </tr>\n",
       "    <tr>\n",
       "      <th>405</th>\n",
       "      <td>0.009633</td>\n",
       "      <td>MinnSt-Mankato</td>\n",
       "    </tr>\n",
       "    <tr>\n",
       "      <th>440</th>\n",
       "      <td>0.009507</td>\n",
       "      <td>Muhlenberg</td>\n",
       "    </tr>\n",
       "    <tr>\n",
       "      <th>492</th>\n",
       "      <td>0.009241</td>\n",
       "      <td>OhioState</td>\n",
       "    </tr>\n",
       "    <tr>\n",
       "      <th>679</th>\n",
       "      <td>0.009165</td>\n",
       "      <td>UW-Whitewater</td>\n",
       "    </tr>\n",
       "    <tr>\n",
       "      <th>468</th>\n",
       "      <td>0.009137</td>\n",
       "      <td>NorthDakotaSt</td>\n",
       "    </tr>\n",
       "    <tr>\n",
       "      <th>135</th>\n",
       "      <td>0.008941</td>\n",
       "      <td>Clemson</td>\n",
       "    </tr>\n",
       "    <tr>\n",
       "      <th>726</th>\n",
       "      <td>0.008785</td>\n",
       "      <td>WestFlorida</td>\n",
       "    </tr>\n",
       "    <tr>\n",
       "      <th>367</th>\n",
       "      <td>0.008515</td>\n",
       "      <td>MarianIN</td>\n",
       "    </tr>\n",
       "    <tr>\n",
       "      <th>606</th>\n",
       "      <td>0.008488</td>\n",
       "      <td>StJohnsMN</td>\n",
       "    </tr>\n",
       "    <tr>\n",
       "      <th>438</th>\n",
       "      <td>0.007653</td>\n",
       "      <td>MountUnion</td>\n",
       "    </tr>\n",
       "    <tr>\n",
       "      <th>212</th>\n",
       "      <td>0.007122</td>\n",
       "      <td>FerrisSt</td>\n",
       "    </tr>\n",
       "    <tr>\n",
       "      <th>252</th>\n",
       "      <td>0.007114</td>\n",
       "      <td>GrandView</td>\n",
       "    </tr>\n",
       "    <tr>\n",
       "      <th>243</th>\n",
       "      <td>0.007013</td>\n",
       "      <td>Georgia</td>\n",
       "    </tr>\n",
       "    <tr>\n",
       "      <th>374</th>\n",
       "      <td>0.006778</td>\n",
       "      <td>MaryHardin-Baylor</td>\n",
       "    </tr>\n",
       "    <tr>\n",
       "      <th>340</th>\n",
       "      <td>0.006163</td>\n",
       "      <td>Lenoir-Rhyne</td>\n",
       "    </tr>\n",
       "    <tr>\n",
       "      <th>575</th>\n",
       "      <td>0.006088</td>\n",
       "      <td>SlipperyRock</td>\n",
       "    </tr>\n",
       "    <tr>\n",
       "      <th>501</th>\n",
       "      <td>0.005900</td>\n",
       "      <td>Oregon</td>\n",
       "    </tr>\n",
       "    <tr>\n",
       "      <th>175</th>\n",
       "      <td>0.005840</td>\n",
       "      <td>DelawareValley</td>\n",
       "    </tr>\n",
       "    <tr>\n",
       "      <th>303</th>\n",
       "      <td>0.005666</td>\n",
       "      <td>JamesMadison</td>\n",
       "    </tr>\n",
       "    <tr>\n",
       "      <th>690</th>\n",
       "      <td>0.005544</td>\n",
       "      <td>ValdostaSt</td>\n",
       "    </tr>\n",
       "    <tr>\n",
       "      <th>217</th>\n",
       "      <td>0.005437</td>\n",
       "      <td>Florida</td>\n",
       "    </tr>\n",
       "  </tbody>\n",
       "</table>\n",
       "</div>"
      ],
      "text/plain": [
       "           wt          team_name\n",
       "466  0.012812       NorthCentral\n",
       "326  0.012578                LSU\n",
       "436  0.011511        Morningside\n",
       "744  0.011088            Wheaton\n",
       "405  0.009633     MinnSt-Mankato\n",
       "440  0.009507         Muhlenberg\n",
       "492  0.009241          OhioState\n",
       "679  0.009165      UW-Whitewater\n",
       "468  0.009137      NorthDakotaSt\n",
       "135  0.008941            Clemson\n",
       "726  0.008785        WestFlorida\n",
       "367  0.008515           MarianIN\n",
       "606  0.008488          StJohnsMN\n",
       "438  0.007653         MountUnion\n",
       "212  0.007122           FerrisSt\n",
       "252  0.007114          GrandView\n",
       "243  0.007013            Georgia\n",
       "374  0.006778  MaryHardin-Baylor\n",
       "340  0.006163       Lenoir-Rhyne\n",
       "575  0.006088       SlipperyRock\n",
       "501  0.005900             Oregon\n",
       "175  0.005840     DelawareValley\n",
       "303  0.005666       JamesMadison\n",
       "690  0.005544         ValdostaSt\n",
       "217  0.005437            Florida"
      ]
     },
     "execution_count": 68,
     "metadata": {},
     "output_type": "execute_result"
    }
   ],
   "source": [
    "#t=10\n",
    "t_10 = rank_top25_team(10)\n",
    "t_10"
   ]
  },
  {
   "cell_type": "code",
   "execution_count": 69,
   "metadata": {},
   "outputs": [
    {
     "data": {
      "text/html": [
       "<div>\n",
       "<style scoped>\n",
       "    .dataframe tbody tr th:only-of-type {\n",
       "        vertical-align: middle;\n",
       "    }\n",
       "\n",
       "    .dataframe tbody tr th {\n",
       "        vertical-align: top;\n",
       "    }\n",
       "\n",
       "    .dataframe thead th {\n",
       "        text-align: right;\n",
       "    }\n",
       "</style>\n",
       "<table border=\"1\" class=\"dataframe\">\n",
       "  <thead>\n",
       "    <tr style=\"text-align: right;\">\n",
       "      <th></th>\n",
       "      <th>wt</th>\n",
       "      <th>team_name</th>\n",
       "    </tr>\n",
       "  </thead>\n",
       "  <tbody>\n",
       "    <tr>\n",
       "      <th>326</th>\n",
       "      <td>0.043642</td>\n",
       "      <td>LSU</td>\n",
       "    </tr>\n",
       "    <tr>\n",
       "      <th>744</th>\n",
       "      <td>0.025822</td>\n",
       "      <td>Wheaton</td>\n",
       "    </tr>\n",
       "    <tr>\n",
       "      <th>466</th>\n",
       "      <td>0.024442</td>\n",
       "      <td>NorthCentral</td>\n",
       "    </tr>\n",
       "    <tr>\n",
       "      <th>135</th>\n",
       "      <td>0.023704</td>\n",
       "      <td>Clemson</td>\n",
       "    </tr>\n",
       "    <tr>\n",
       "      <th>492</th>\n",
       "      <td>0.022688</td>\n",
       "      <td>OhioState</td>\n",
       "    </tr>\n",
       "    <tr>\n",
       "      <th>436</th>\n",
       "      <td>0.022621</td>\n",
       "      <td>Morningside</td>\n",
       "    </tr>\n",
       "    <tr>\n",
       "      <th>243</th>\n",
       "      <td>0.017165</td>\n",
       "      <td>Georgia</td>\n",
       "    </tr>\n",
       "    <tr>\n",
       "      <th>606</th>\n",
       "      <td>0.014990</td>\n",
       "      <td>StJohnsMN</td>\n",
       "    </tr>\n",
       "    <tr>\n",
       "      <th>726</th>\n",
       "      <td>0.013367</td>\n",
       "      <td>WestFlorida</td>\n",
       "    </tr>\n",
       "    <tr>\n",
       "      <th>5</th>\n",
       "      <td>0.012917</td>\n",
       "      <td>Alabama</td>\n",
       "    </tr>\n",
       "    <tr>\n",
       "      <th>679</th>\n",
       "      <td>0.012836</td>\n",
       "      <td>UW-Whitewater</td>\n",
       "    </tr>\n",
       "    <tr>\n",
       "      <th>217</th>\n",
       "      <td>0.012440</td>\n",
       "      <td>Florida</td>\n",
       "    </tr>\n",
       "    <tr>\n",
       "      <th>440</th>\n",
       "      <td>0.011238</td>\n",
       "      <td>Muhlenberg</td>\n",
       "    </tr>\n",
       "    <tr>\n",
       "      <th>501</th>\n",
       "      <td>0.010530</td>\n",
       "      <td>Oregon</td>\n",
       "    </tr>\n",
       "    <tr>\n",
       "      <th>39</th>\n",
       "      <td>0.010021</td>\n",
       "      <td>Auburn</td>\n",
       "    </tr>\n",
       "    <tr>\n",
       "      <th>495</th>\n",
       "      <td>0.010012</td>\n",
       "      <td>Oklahoma</td>\n",
       "    </tr>\n",
       "    <tr>\n",
       "      <th>405</th>\n",
       "      <td>0.009752</td>\n",
       "      <td>MinnSt-Mankato</td>\n",
       "    </tr>\n",
       "    <tr>\n",
       "      <th>367</th>\n",
       "      <td>0.009583</td>\n",
       "      <td>MarianIN</td>\n",
       "    </tr>\n",
       "    <tr>\n",
       "      <th>510</th>\n",
       "      <td>0.009534</td>\n",
       "      <td>PennState</td>\n",
       "    </tr>\n",
       "    <tr>\n",
       "      <th>690</th>\n",
       "      <td>0.008894</td>\n",
       "      <td>ValdostaSt</td>\n",
       "    </tr>\n",
       "    <tr>\n",
       "      <th>340</th>\n",
       "      <td>0.008070</td>\n",
       "      <td>Lenoir-Rhyne</td>\n",
       "    </tr>\n",
       "    <tr>\n",
       "      <th>760</th>\n",
       "      <td>0.008019</td>\n",
       "      <td>Wisconsin</td>\n",
       "    </tr>\n",
       "    <tr>\n",
       "      <th>485</th>\n",
       "      <td>0.007866</td>\n",
       "      <td>NotreDame</td>\n",
       "    </tr>\n",
       "    <tr>\n",
       "      <th>407</th>\n",
       "      <td>0.007532</td>\n",
       "      <td>Minnesota</td>\n",
       "    </tr>\n",
       "    <tr>\n",
       "      <th>252</th>\n",
       "      <td>0.007521</td>\n",
       "      <td>GrandView</td>\n",
       "    </tr>\n",
       "  </tbody>\n",
       "</table>\n",
       "</div>"
      ],
      "text/plain": [
       "           wt       team_name\n",
       "326  0.043642             LSU\n",
       "744  0.025822         Wheaton\n",
       "466  0.024442    NorthCentral\n",
       "135  0.023704         Clemson\n",
       "492  0.022688       OhioState\n",
       "436  0.022621     Morningside\n",
       "243  0.017165         Georgia\n",
       "606  0.014990       StJohnsMN\n",
       "726  0.013367     WestFlorida\n",
       "5    0.012917         Alabama\n",
       "679  0.012836   UW-Whitewater\n",
       "217  0.012440         Florida\n",
       "440  0.011238      Muhlenberg\n",
       "501  0.010530          Oregon\n",
       "39   0.010021          Auburn\n",
       "495  0.010012        Oklahoma\n",
       "405  0.009752  MinnSt-Mankato\n",
       "367  0.009583        MarianIN\n",
       "510  0.009534       PennState\n",
       "690  0.008894      ValdostaSt\n",
       "340  0.008070    Lenoir-Rhyne\n",
       "760  0.008019       Wisconsin\n",
       "485  0.007866       NotreDame\n",
       "407  0.007532       Minnesota\n",
       "252  0.007521       GrandView"
      ]
     },
     "execution_count": 69,
     "metadata": {},
     "output_type": "execute_result"
    }
   ],
   "source": [
    "#t=100\n",
    "t_100 = rank_top25_team(100)\n",
    "t_100 "
   ]
  },
  {
   "cell_type": "markdown",
   "metadata": {},
   "source": [
    "**t=1000**"
   ]
  },
  {
   "cell_type": "code",
   "execution_count": 70,
   "metadata": {},
   "outputs": [
    {
     "data": {
      "text/html": [
       "<div>\n",
       "<style scoped>\n",
       "    .dataframe tbody tr th:only-of-type {\n",
       "        vertical-align: middle;\n",
       "    }\n",
       "\n",
       "    .dataframe tbody tr th {\n",
       "        vertical-align: top;\n",
       "    }\n",
       "\n",
       "    .dataframe thead th {\n",
       "        text-align: right;\n",
       "    }\n",
       "</style>\n",
       "<table border=\"1\" class=\"dataframe\">\n",
       "  <thead>\n",
       "    <tr style=\"text-align: right;\">\n",
       "      <th></th>\n",
       "      <th>wt</th>\n",
       "      <th>team_name</th>\n",
       "    </tr>\n",
       "  </thead>\n",
       "  <tbody>\n",
       "    <tr>\n",
       "      <th>326</th>\n",
       "      <td>0.084419</td>\n",
       "      <td>LSU</td>\n",
       "    </tr>\n",
       "    <tr>\n",
       "      <th>135</th>\n",
       "      <td>0.045527</td>\n",
       "      <td>Clemson</td>\n",
       "    </tr>\n",
       "    <tr>\n",
       "      <th>492</th>\n",
       "      <td>0.043452</td>\n",
       "      <td>OhioState</td>\n",
       "    </tr>\n",
       "    <tr>\n",
       "      <th>243</th>\n",
       "      <td>0.032720</td>\n",
       "      <td>Georgia</td>\n",
       "    </tr>\n",
       "    <tr>\n",
       "      <th>5</th>\n",
       "      <td>0.024679</td>\n",
       "      <td>Alabama</td>\n",
       "    </tr>\n",
       "    <tr>\n",
       "      <th>217</th>\n",
       "      <td>0.023696</td>\n",
       "      <td>Florida</td>\n",
       "    </tr>\n",
       "    <tr>\n",
       "      <th>501</th>\n",
       "      <td>0.019266</td>\n",
       "      <td>Oregon</td>\n",
       "    </tr>\n",
       "    <tr>\n",
       "      <th>39</th>\n",
       "      <td>0.019037</td>\n",
       "      <td>Auburn</td>\n",
       "    </tr>\n",
       "    <tr>\n",
       "      <th>495</th>\n",
       "      <td>0.018703</td>\n",
       "      <td>Oklahoma</td>\n",
       "    </tr>\n",
       "    <tr>\n",
       "      <th>510</th>\n",
       "      <td>0.017974</td>\n",
       "      <td>PennState</td>\n",
       "    </tr>\n",
       "    <tr>\n",
       "      <th>760</th>\n",
       "      <td>0.015165</td>\n",
       "      <td>Wisconsin</td>\n",
       "    </tr>\n",
       "    <tr>\n",
       "      <th>485</th>\n",
       "      <td>0.014647</td>\n",
       "      <td>NotreDame</td>\n",
       "    </tr>\n",
       "    <tr>\n",
       "      <th>407</th>\n",
       "      <td>0.014201</td>\n",
       "      <td>Minnesota</td>\n",
       "    </tr>\n",
       "    <tr>\n",
       "      <th>54</th>\n",
       "      <td>0.012704</td>\n",
       "      <td>Baylor</td>\n",
       "    </tr>\n",
       "    <tr>\n",
       "      <th>393</th>\n",
       "      <td>0.012045</td>\n",
       "      <td>Michigan</td>\n",
       "    </tr>\n",
       "    <tr>\n",
       "      <th>686</th>\n",
       "      <td>0.011703</td>\n",
       "      <td>Utah</td>\n",
       "    </tr>\n",
       "    <tr>\n",
       "      <th>385</th>\n",
       "      <td>0.011663</td>\n",
       "      <td>Memphis</td>\n",
       "    </tr>\n",
       "    <tr>\n",
       "      <th>296</th>\n",
       "      <td>0.011006</td>\n",
       "      <td>Iowa</td>\n",
       "    </tr>\n",
       "    <tr>\n",
       "      <th>26</th>\n",
       "      <td>0.010923</td>\n",
       "      <td>AppalachianSt</td>\n",
       "    </tr>\n",
       "    <tr>\n",
       "      <th>637</th>\n",
       "      <td>0.010187</td>\n",
       "      <td>Texas</td>\n",
       "    </tr>\n",
       "    <tr>\n",
       "      <th>468</th>\n",
       "      <td>0.009224</td>\n",
       "      <td>NorthDakotaSt</td>\n",
       "    </tr>\n",
       "    <tr>\n",
       "      <th>445</th>\n",
       "      <td>0.009071</td>\n",
       "      <td>Navy</td>\n",
       "    </tr>\n",
       "    <tr>\n",
       "      <th>640</th>\n",
       "      <td>0.008933</td>\n",
       "      <td>TexasA&amp;M</td>\n",
       "    </tr>\n",
       "    <tr>\n",
       "      <th>75</th>\n",
       "      <td>0.008306</td>\n",
       "      <td>BoiseSt</td>\n",
       "    </tr>\n",
       "    <tr>\n",
       "      <th>311</th>\n",
       "      <td>0.007334</td>\n",
       "      <td>KansasSt</td>\n",
       "    </tr>\n",
       "  </tbody>\n",
       "</table>\n",
       "</div>"
      ],
      "text/plain": [
       "           wt      team_name\n",
       "326  0.084419            LSU\n",
       "135  0.045527        Clemson\n",
       "492  0.043452      OhioState\n",
       "243  0.032720        Georgia\n",
       "5    0.024679        Alabama\n",
       "217  0.023696        Florida\n",
       "501  0.019266         Oregon\n",
       "39   0.019037         Auburn\n",
       "495  0.018703       Oklahoma\n",
       "510  0.017974      PennState\n",
       "760  0.015165      Wisconsin\n",
       "485  0.014647      NotreDame\n",
       "407  0.014201      Minnesota\n",
       "54   0.012704         Baylor\n",
       "393  0.012045       Michigan\n",
       "686  0.011703           Utah\n",
       "385  0.011663        Memphis\n",
       "296  0.011006           Iowa\n",
       "26   0.010923  AppalachianSt\n",
       "637  0.010187          Texas\n",
       "468  0.009224  NorthDakotaSt\n",
       "445  0.009071           Navy\n",
       "640  0.008933       TexasA&M\n",
       "75   0.008306        BoiseSt\n",
       "311  0.007334       KansasSt"
      ]
     },
     "execution_count": 70,
     "metadata": {},
     "output_type": "execute_result"
    }
   ],
   "source": [
    "#t=1000\n",
    "t_1000 = rank_top25_team(1000)\n",
    "t_1000"
   ]
  },
  {
   "cell_type": "code",
   "execution_count": 71,
   "metadata": {},
   "outputs": [
    {
     "data": {
      "text/html": [
       "<div>\n",
       "<style scoped>\n",
       "    .dataframe tbody tr th:only-of-type {\n",
       "        vertical-align: middle;\n",
       "    }\n",
       "\n",
       "    .dataframe tbody tr th {\n",
       "        vertical-align: top;\n",
       "    }\n",
       "\n",
       "    .dataframe thead th {\n",
       "        text-align: right;\n",
       "    }\n",
       "</style>\n",
       "<table border=\"1\" class=\"dataframe\">\n",
       "  <thead>\n",
       "    <tr style=\"text-align: right;\">\n",
       "      <th></th>\n",
       "      <th>wt</th>\n",
       "      <th>team_name</th>\n",
       "    </tr>\n",
       "  </thead>\n",
       "  <tbody>\n",
       "    <tr>\n",
       "      <th>326</th>\n",
       "      <td>0.091366</td>\n",
       "      <td>LSU</td>\n",
       "    </tr>\n",
       "    <tr>\n",
       "      <th>135</th>\n",
       "      <td>0.049262</td>\n",
       "      <td>Clemson</td>\n",
       "    </tr>\n",
       "    <tr>\n",
       "      <th>492</th>\n",
       "      <td>0.047009</td>\n",
       "      <td>OhioState</td>\n",
       "    </tr>\n",
       "    <tr>\n",
       "      <th>243</th>\n",
       "      <td>0.035382</td>\n",
       "      <td>Georgia</td>\n",
       "    </tr>\n",
       "    <tr>\n",
       "      <th>5</th>\n",
       "      <td>0.026695</td>\n",
       "      <td>Alabama</td>\n",
       "    </tr>\n",
       "    <tr>\n",
       "      <th>217</th>\n",
       "      <td>0.025624</td>\n",
       "      <td>Florida</td>\n",
       "    </tr>\n",
       "    <tr>\n",
       "      <th>501</th>\n",
       "      <td>0.020779</td>\n",
       "      <td>Oregon</td>\n",
       "    </tr>\n",
       "    <tr>\n",
       "      <th>39</th>\n",
       "      <td>0.020582</td>\n",
       "      <td>Auburn</td>\n",
       "    </tr>\n",
       "    <tr>\n",
       "      <th>495</th>\n",
       "      <td>0.020202</td>\n",
       "      <td>Oklahoma</td>\n",
       "    </tr>\n",
       "    <tr>\n",
       "      <th>510</th>\n",
       "      <td>0.019429</td>\n",
       "      <td>PennState</td>\n",
       "    </tr>\n",
       "    <tr>\n",
       "      <th>760</th>\n",
       "      <td>0.016392</td>\n",
       "      <td>Wisconsin</td>\n",
       "    </tr>\n",
       "    <tr>\n",
       "      <th>485</th>\n",
       "      <td>0.015820</td>\n",
       "      <td>NotreDame</td>\n",
       "    </tr>\n",
       "    <tr>\n",
       "      <th>407</th>\n",
       "      <td>0.015347</td>\n",
       "      <td>Minnesota</td>\n",
       "    </tr>\n",
       "    <tr>\n",
       "      <th>54</th>\n",
       "      <td>0.013716</td>\n",
       "      <td>Baylor</td>\n",
       "    </tr>\n",
       "    <tr>\n",
       "      <th>393</th>\n",
       "      <td>0.013023</td>\n",
       "      <td>Michigan</td>\n",
       "    </tr>\n",
       "    <tr>\n",
       "      <th>686</th>\n",
       "      <td>0.012617</td>\n",
       "      <td>Utah</td>\n",
       "    </tr>\n",
       "    <tr>\n",
       "      <th>385</th>\n",
       "      <td>0.012590</td>\n",
       "      <td>Memphis</td>\n",
       "    </tr>\n",
       "    <tr>\n",
       "      <th>296</th>\n",
       "      <td>0.011894</td>\n",
       "      <td>Iowa</td>\n",
       "    </tr>\n",
       "    <tr>\n",
       "      <th>26</th>\n",
       "      <td>0.011792</td>\n",
       "      <td>AppalachianSt</td>\n",
       "    </tr>\n",
       "    <tr>\n",
       "      <th>637</th>\n",
       "      <td>0.011003</td>\n",
       "      <td>Texas</td>\n",
       "    </tr>\n",
       "    <tr>\n",
       "      <th>445</th>\n",
       "      <td>0.009785</td>\n",
       "      <td>Navy</td>\n",
       "    </tr>\n",
       "    <tr>\n",
       "      <th>468</th>\n",
       "      <td>0.009717</td>\n",
       "      <td>NorthDakotaSt</td>\n",
       "    </tr>\n",
       "    <tr>\n",
       "      <th>640</th>\n",
       "      <td>0.009658</td>\n",
       "      <td>TexasA&amp;M</td>\n",
       "    </tr>\n",
       "    <tr>\n",
       "      <th>75</th>\n",
       "      <td>0.008943</td>\n",
       "      <td>BoiseSt</td>\n",
       "    </tr>\n",
       "    <tr>\n",
       "      <th>311</th>\n",
       "      <td>0.007916</td>\n",
       "      <td>KansasSt</td>\n",
       "    </tr>\n",
       "  </tbody>\n",
       "</table>\n",
       "</div>"
      ],
      "text/plain": [
       "           wt      team_name\n",
       "326  0.091366            LSU\n",
       "135  0.049262        Clemson\n",
       "492  0.047009      OhioState\n",
       "243  0.035382        Georgia\n",
       "5    0.026695        Alabama\n",
       "217  0.025624        Florida\n",
       "501  0.020779         Oregon\n",
       "39   0.020582         Auburn\n",
       "495  0.020202       Oklahoma\n",
       "510  0.019429      PennState\n",
       "760  0.016392      Wisconsin\n",
       "485  0.015820      NotreDame\n",
       "407  0.015347      Minnesota\n",
       "54   0.013716         Baylor\n",
       "393  0.013023       Michigan\n",
       "686  0.012617           Utah\n",
       "385  0.012590        Memphis\n",
       "296  0.011894           Iowa\n",
       "26   0.011792  AppalachianSt\n",
       "637  0.011003          Texas\n",
       "445  0.009785           Navy\n",
       "468  0.009717  NorthDakotaSt\n",
       "640  0.009658       TexasA&M\n",
       "75   0.008943        BoiseSt\n",
       "311  0.007916       KansasSt"
      ]
     },
     "execution_count": 71,
     "metadata": {},
     "output_type": "execute_result"
    }
   ],
   "source": [
    "#t=10000\n",
    "t_10000 = rank_top25_team(10000)\n",
    "t_10000 "
   ]
  },
  {
   "cell_type": "code",
   "execution_count": 78,
   "metadata": {},
   "outputs": [
    {
     "data": {
      "text/plain": [
       "Text(0, 0.5, 'difference')"
      ]
     },
     "execution_count": 78,
     "metadata": {},
     "output_type": "execute_result"
    },
    {
     "data": {
      "image/png": "[encoded data removed]",
      "text/plain": [
       "<Figure size 576x576 with 1 Axes>"
      ]
     },
     "metadata": {
      "needs_background": "light"
     },
     "output_type": "display_data"
    }
   ],
   "source": [
    "#1(b)\n",
    "M_transpose = (RW_M/np.sum(RW_M, axis=1).reshape(-1,1)).transpose()\n",
    "#u1 is the first eigenvecot of M transpose\n",
    "lambda1, u1 = eigs(M_transpose,k=1)\n",
    "\n",
    "#w_infinite\n",
    "W_inf = u1.flatten()/np.sum(u1.flatten())\n",
    "#normalized random walk matrix\n",
    "M = RW_M/np.sum(RW_M, axis=1).reshape(-1,1)\n",
    "#w_0\n",
    "w0 = np.ones(RW_M.shape[0])*np.array(1/(RW_M.shape[0])).reshape(1,-1)\n",
    "#w_1\n",
    "W_t = np.matmul(w0,M)\n",
    "\n",
    "diff = []\n",
    "diff.append(np.sum(abs(W_t - W_inf))) \n",
    "for i in range(10000-1):\n",
    "    #w_t\n",
    "    W_t = np.matmul(W_t,M) \n",
    "    diff.append(np.sum(abs(W_t - W_inf)))  \n",
    "    \n",
    "#plot    \n",
    "plt.figure(figsize=(8,8))\n",
    "plt.plot(np.arange(1,10001), diff)\n",
    "plt.xlabel('t')\n",
    "plt.ylabel('difference')\n"
   ]
  },
  {
   "cell_type": "markdown",
   "metadata": {},
   "source": [
    "## Problem 2 Nonnegative Matrix Factorization"
   ]
  },
  {
   "cell_type": "markdown",
   "metadata": {},
   "source": [
    "### a)"
   ]
  },
  {
   "cell_type": "markdown",
   "metadata": {},
   "source": [
    "Number of vocabulary = 3012; Numer of document = 8447"
   ]
  },
  {
   "cell_type": "code",
   "execution_count": null,
   "metadata": {},
   "outputs": [],
   "source": [
    "nyt = pd.read_csv('nyt_data.txt',sep='\\n',header=None)"
   ]
  },
  {
   "cell_type": "code",
   "execution_count": null,
   "metadata": {},
   "outputs": [],
   "source": [
    "nyt.head()"
   ]
  },
  {
   "cell_type": "code",
   "execution_count": null,
   "metadata": {},
   "outputs": [],
   "source": [
    "nyt.shape[0]"
   ]
  },
  {
   "cell_type": "code",
   "execution_count": null,
   "metadata": {},
   "outputs": [],
   "source": [
    "nyt.iloc[0,:].tolist()[0].split(',')[0].split(':')[0]"
   ]
  },
  {
   "cell_type": "markdown",
   "metadata": {},
   "source": [
    "Construct Matrix X"
   ]
  },
  {
   "cell_type": "code",
   "execution_count": null,
   "metadata": {},
   "outputs": [],
   "source": [
    "X = np.zeros([3012,8447])"
   ]
  },
  {
   "cell_type": "code",
   "execution_count": null,
   "metadata": {},
   "outputs": [],
   "source": [
    "X.shape"
   ]
  },
  {
   "cell_type": "code",
   "execution_count": null,
   "metadata": {},
   "outputs": [],
   "source": [
    "document_index = 0\n",
    "acc_temp=[]\n",
    "for i in range(0, nyt.shape[0]):\n",
    "    #print(document_index)\n",
    "    row = nyt.iloc[i,:].tolist()[0].split(',')\n",
    "    for item in row:\n",
    "        one_word = item.split(':')\n",
    "        X[int(one_word[0])-1, document_index] = int(one_word[1])\n",
    "        acc_temp.append(int(one_word[0]))\n",
    "    document_index += 1"
   ]
  },
  {
   "cell_type": "code",
   "execution_count": null,
   "metadata": {},
   "outputs": [],
   "source": [
    "X"
   ]
  },
  {
   "cell_type": "code",
   "execution_count": null,
   "metadata": {},
   "outputs": [],
   "source": [
    "np.sum(X)"
   ]
  },
  {
   "cell_type": "markdown",
   "metadata": {},
   "source": [
    "Initialize matrix W and H: each value in W and H can be initialized randomly to a positive number, e.g., from a Uniform(1,2) distribution."
   ]
  },
  {
   "cell_type": "code",
   "execution_count": null,
   "metadata": {},
   "outputs": [],
   "source": [
    "W = np.random.uniform(1,2,(3012,25))\n",
    "H = np.random.uniform(1,2,(25,8447))"
   ]
  },
  {
   "cell_type": "markdown",
   "metadata": {},
   "source": [
    "Implement Matrix Factorization using divergence objective"
   ]
  },
  {
   "cell_type": "code",
   "execution_count": null,
   "metadata": {},
   "outputs": [],
   "source": [
    "purple = X/np.matmul(W,H)"
   ]
  },
  {
   "cell_type": "code",
   "execution_count": null,
   "metadata": {},
   "outputs": [],
   "source": [
    "purple.shape"
   ]
  },
  {
   "cell_type": "code",
   "execution_count": null,
   "metadata": {},
   "outputs": [],
   "source": [
    "W_trans = W.transpose()"
   ]
  },
  {
   "cell_type": "code",
   "execution_count": null,
   "metadata": {},
   "outputs": [],
   "source": [
    "W_norm = W_trans/np.sum(W_trans, axis=1).reshape(-1,1) #normalize rows"
   ]
  },
  {
   "cell_type": "code",
   "execution_count": null,
   "metadata": {},
   "outputs": [],
   "source": [
    "W_norm.shape"
   ]
  },
  {
   "cell_type": "code",
   "execution_count": null,
   "metadata": {},
   "outputs": [],
   "source": [
    "part2 = np.matmul(W_norm, purple)"
   ]
  },
  {
   "cell_type": "code",
   "execution_count": null,
   "metadata": {},
   "outputs": [],
   "source": [
    "part2.shape"
   ]
  },
  {
   "cell_type": "code",
   "execution_count": null,
   "metadata": {},
   "outputs": [],
   "source": [
    "new_H = np.multiply(H, part2)"
   ]
  },
  {
   "cell_type": "code",
   "execution_count": null,
   "metadata": {},
   "outputs": [],
   "source": [
    "new_H.shape"
   ]
  },
  {
   "cell_type": "code",
   "execution_count": null,
   "metadata": {},
   "outputs": [],
   "source": [
    "def NMF(W, H, num_iteration):\n",
    "    \"\"\"\n",
    "    Return W, H, divergence objective funtion after num_iterations.\n",
    "    \n",
    "    W: initialized W\n",
    "    H: initialized H\n",
    "    num_iteration: number of iterations\n",
    "    \"\"\"\n",
    "    obj_acc = []\n",
    "    for i in range(0,num_iteration):\n",
    "        #update H\n",
    "        purple = X/(np.matmul(W,H)+1e-16)\n",
    "        W_trans = W.transpose()\n",
    "        W_norm = W_trans/np.sum(W_trans, axis=1).reshape(-1,1) #normalize rows\n",
    "        part2 = np.matmul(W_norm, purple)\n",
    "        new_H = np.multiply(H, part2)\n",
    "        H = new_H\n",
    "        #update W\n",
    "        #recalculate purple\n",
    "        purple = X/(np.matmul(W,H)+1e-16)\n",
    "        H_trans = H.transpose()\n",
    "        H_norm = H_trans/np.sum(H_trans, axis=0) #normalize columns\n",
    "        middle = np.matmul(purple, H_norm)\n",
    "        new_W = np.multiply(W, middle)\n",
    "        W = new_W\n",
    "\n",
    "        #update objective\n",
    "        WH = np.matmul(W,H)\n",
    "        obj = np.sum(np.multiply(np.log(1/(WH+1e-16)),X) + WH)\n",
    "        obj_acc.append(obj)\n",
    "    \n",
    "    return W, H, obj_acc\n"
   ]
  },
  {
   "cell_type": "code",
   "execution_count": null,
   "metadata": {},
   "outputs": [],
   "source": [
    "init_W = np.random.uniform(1,2,(3012,25))\n",
    "init_H = np.random.uniform(1,2,(25,8447))\n",
    "W_NMF, H_NMF, obj_lst = NMF(init_W, init_H,100)"
   ]
  },
  {
   "cell_type": "code",
   "execution_count": null,
   "metadata": {},
   "outputs": [],
   "source": [
    "plt.figure(figsize=(8,6))\n",
    "x_axis = np.arange(0,100)\n",
    "plt.plot(x_axis, obj_lst)\n",
    "plt.title('Divergence Objective of Non-Negative Matrix Factorization after 100 iterations')\n",
    "plt.xlabel('iterations')\n",
    "plt.ylabel('divergence objective')"
   ]
  },
  {
   "cell_type": "markdown",
   "metadata": {},
   "source": [
    "### b)"
   ]
  },
  {
   "cell_type": "markdown",
   "metadata": {},
   "source": [
    "After running the algorithm, normalize the columns of W so they sum to one. For each column of W, list the 10 words having the largest weight and show the weight. Theith row of W corresponds to the ith word in the “dictionary” provided with the data. Organize these lists in a 5×5 table."
   ]
  },
  {
   "cell_type": "code",
   "execution_count": null,
   "metadata": {},
   "outputs": [],
   "source": [
    "W_NMF"
   ]
  },
  {
   "cell_type": "code",
   "execution_count": null,
   "metadata": {},
   "outputs": [],
   "source": [
    "W_NMF.shape"
   ]
  },
  {
   "cell_type": "markdown",
   "metadata": {},
   "source": [
    "Normalize the columns of W"
   ]
  },
  {
   "cell_type": "code",
   "execution_count": null,
   "metadata": {},
   "outputs": [],
   "source": [
    "W_NMF_norm = W_NMF/np.sum(W_NMF, axis=0) #normalize columns"
   ]
  },
  {
   "cell_type": "code",
   "execution_count": null,
   "metadata": {},
   "outputs": [],
   "source": [
    "W_NMF_norm"
   ]
  },
  {
   "cell_type": "code",
   "execution_count": null,
   "metadata": {},
   "outputs": [],
   "source": [
    "word = pd.read_csv('nyt_vocab.dat', header=None)\n",
    "word_index = np.arange(0, 3012)\n",
    "dict_word = {'word_index':word_index, 'word':word.iloc[:,0].tolist()}\n",
    "word = pd.DataFrame(dict_word)\n",
    "word.columns = ['word_index', 'word']\n",
    "word.head()"
   ]
  },
  {
   "cell_type": "code",
   "execution_count": null,
   "metadata": {},
   "outputs": [],
   "source": [
    "df_important_word = pd.DataFrame(W_NMF_norm)"
   ]
  },
  {
   "cell_type": "code",
   "execution_count": null,
   "metadata": {},
   "outputs": [],
   "source": [
    "word_index = np.arange(0, 3012)\n",
    "d = {'word_index':word_index, 'weight':df_important_word.iloc[:,24].tolist()}\n",
    "df = pd.DataFrame(d)\n",
    "df =df.sort_values(by='weight', ascending=False).iloc[0:10,:]\n",
    "df2 = pd.concat([df, word], axis=1, join='inner').head(25)\n",
    "df2 = df2.drop(columns=['word_index'])"
   ]
  },
  {
   "cell_type": "markdown",
   "metadata": {},
   "source": [
    "Find most important 10 words for 25 columns"
   ]
  },
  {
   "cell_type": "code",
   "execution_count": null,
   "metadata": {},
   "outputs": [],
   "source": [
    "acc_alltable = []\n",
    "for i in range(df_important_word.shape[1]):\n",
    "    word_index = np.arange(0, 3012)\n",
    "    d = {'word_index':word_index, 'weight':df_important_word.iloc[:,i].tolist()}\n",
    "    df = pd.DataFrame(d)\n",
    "    df =df.sort_values(by='weight', ascending=False).iloc[0:10,:]\n",
    "    df2 = pd.concat([df, word], axis=1, join='inner').head(25)\n",
    "    df2= df2.drop(columns=['word_index'])\n",
    "    acc_alltable.append(df2)  "
   ]
  },
  {
   "cell_type": "markdown",
   "metadata": {},
   "source": [
    "Column 1"
   ]
  },
  {
   "cell_type": "code",
   "execution_count": null,
   "metadata": {},
   "outputs": [],
   "source": [
    "acc_alltable[0]"
   ]
  },
  {
   "cell_type": "markdown",
   "metadata": {},
   "source": [
    "Column 2"
   ]
  },
  {
   "cell_type": "code",
   "execution_count": null,
   "metadata": {},
   "outputs": [],
   "source": [
    "acc_alltable[1]"
   ]
  },
  {
   "cell_type": "code",
   "execution_count": null,
   "metadata": {},
   "outputs": [],
   "source": [
    "acc_alltable[2]"
   ]
  },
  {
   "cell_type": "code",
   "execution_count": null,
   "metadata": {},
   "outputs": [],
   "source": [
    "acc_alltable[3]"
   ]
  },
  {
   "cell_type": "code",
   "execution_count": null,
   "metadata": {},
   "outputs": [],
   "source": [
    "acc_alltable[4]"
   ]
  },
  {
   "cell_type": "code",
   "execution_count": null,
   "metadata": {},
   "outputs": [],
   "source": [
    "acc_alltable[5]"
   ]
  },
  {
   "cell_type": "code",
   "execution_count": null,
   "metadata": {},
   "outputs": [],
   "source": [
    "acc_alltable[6]"
   ]
  },
  {
   "cell_type": "code",
   "execution_count": null,
   "metadata": {},
   "outputs": [],
   "source": [
    "acc_alltable[7]"
   ]
  },
  {
   "cell_type": "code",
   "execution_count": null,
   "metadata": {},
   "outputs": [],
   "source": [
    "acc_alltable[8]"
   ]
  },
  {
   "cell_type": "code",
   "execution_count": null,
   "metadata": {},
   "outputs": [],
   "source": [
    "acc_alltable[9]"
   ]
  },
  {
   "cell_type": "code",
   "execution_count": null,
   "metadata": {},
   "outputs": [],
   "source": [
    "acc_alltable[10]"
   ]
  },
  {
   "cell_type": "code",
   "execution_count": null,
   "metadata": {},
   "outputs": [],
   "source": [
    "acc_alltable[11]"
   ]
  },
  {
   "cell_type": "code",
   "execution_count": null,
   "metadata": {},
   "outputs": [],
   "source": [
    "acc_alltable[12]"
   ]
  },
  {
   "cell_type": "code",
   "execution_count": null,
   "metadata": {},
   "outputs": [],
   "source": [
    "acc_alltable[13]"
   ]
  },
  {
   "cell_type": "code",
   "execution_count": null,
   "metadata": {},
   "outputs": [],
   "source": [
    "acc_alltable[14]"
   ]
  },
  {
   "cell_type": "code",
   "execution_count": null,
   "metadata": {},
   "outputs": [],
   "source": [
    "acc_alltable[15]"
   ]
  },
  {
   "cell_type": "code",
   "execution_count": null,
   "metadata": {},
   "outputs": [],
   "source": [
    "acc_alltable[16]"
   ]
  },
  {
   "cell_type": "code",
   "execution_count": null,
   "metadata": {},
   "outputs": [],
   "source": [
    "acc_alltable[17]"
   ]
  },
  {
   "cell_type": "code",
   "execution_count": null,
   "metadata": {},
   "outputs": [],
   "source": [
    "acc_alltable[18]"
   ]
  },
  {
   "cell_type": "code",
   "execution_count": null,
   "metadata": {},
   "outputs": [],
   "source": [
    "acc_alltable[19]"
   ]
  },
  {
   "cell_type": "code",
   "execution_count": null,
   "metadata": {},
   "outputs": [],
   "source": [
    "acc_alltable[20]"
   ]
  },
  {
   "cell_type": "code",
   "execution_count": null,
   "metadata": {},
   "outputs": [],
   "source": [
    "acc_alltable[21]"
   ]
  },
  {
   "cell_type": "code",
   "execution_count": null,
   "metadata": {},
   "outputs": [],
   "source": [
    "acc_alltable[22]"
   ]
  },
  {
   "cell_type": "code",
   "execution_count": null,
   "metadata": {},
   "outputs": [],
   "source": [
    "acc_alltable[23]"
   ]
  },
  {
   "cell_type": "code",
   "execution_count": null,
   "metadata": {},
   "outputs": [],
   "source": [
    "acc_alltable[24]"
   ]
  }
 ],
 "metadata": {
  "kernelspec": {
   "display_name": "Python 3",
   "language": "python",
   "name": "python3"
  },
  "language_info": {
   "codemirror_mode": {
    "name": "ipython",
    "version": 3
   },
   "file_extension": ".py",
   "mimetype": "text/x-python",
   "name": "python",
   "nbconvert_exporter": "python",
   "pygments_lexer": "ipython3",
   "version": "3.7.3"
  }
 },
 "nbformat": 4,
 "nbformat_minor": 2
}
