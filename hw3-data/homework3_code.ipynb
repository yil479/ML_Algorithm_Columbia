{
 "cells": [
  {
   "cell_type": "code",
   "execution_count": 1,
   "metadata": {},
   "outputs": [],
   "source": [
    "import pandas as pd\n",
    "import numpy as np\n",
    "import matplotlib.pyplot as plt\n",
    "from scipy.stats import multivariate_normal"
   ]
  },
  {
   "cell_type": "code",
   "execution_count": null,
   "metadata": {},
   "outputs": [],
   "source": [
    "#implement Kmeans\n",
    "def Kmeans(centroids_list, K ,data):\n",
    "    cost_list = []\n",
    "    for rounds in range(0,20):\n",
    "        #initializations\n",
    "        new_clusters_list=[]\n",
    "        k_cluster=[]\n",
    "        total_cost = 0\n",
    "        cluster_centroid = []\n",
    "        #find the closest centroid for each xi\n",
    "        for i in range(0,500):\n",
    "            distance_list = []\n",
    "            for centroid in centroids_list:\n",
    "                distance = np.sum((data[i]-centroid)**2)\n",
    "                distance_list.append(distance)\n",
    "                nearest_cluster = min(distance_list)\n",
    "                new_cluster = distance_list.index(nearest_cluster)\n",
    "            new_clusters_list.append(new_cluster)\n",
    "        #new K clusters\n",
    "        \n",
    "        for index in range(0,K):\n",
    "            cluster = data[np.array(new_clusters_list)==index,:]\n",
    "            k_cluster.append(cluster)\n",
    "            \n",
    "        #new Centroids\n",
    "        for item in range(0,K):\n",
    "            cluster_mean = np.average(k_cluster[item],axis=0)\n",
    "            cluster_centroid.append(cluster_mean)\n",
    "            \n",
    "            cost = np.sum((k_cluster[item]-centroids_list[item])**2)\n",
    "            total_cost = total_cost + cost\n",
    "            \n",
    "\n",
    "        cost_list.append(total_cost)\n",
    "        centroids_list = cluster_centroid\n",
    "    return cost_list, k_cluster\n",
    "        \n"
   ]
  },
  {
   "cell_type": "code",
   "execution_count": null,
   "metadata": {},
   "outputs": [],
   "source": [
    "#generate 500 observations with mixing weights\n",
    "start = np.random.randint(0,501,size=5)\n",
    "data1 = np.random.multivariate_normal(np.array([0,0]),np.matrix([[1,0],[0,1]]),500)\n",
    "data2 = np.random.multivariate_normal(np.array([3,0]),np.matrix([[1,0],[0,1]]),500)\n",
    "data3 = np.random.multivariate_normal(np.array([0,3]),np.matrix([[1,0],[0,1]]),500)\n",
    "data_pi = np.random.choice(range(3),500,p=[0.2,0.5,0.3])\n",
    "dataset = np.concatenate((data1[data_pi==0,:],\n",
    "                       data2[data_pi==1,:],\n",
    "                       data3[data_pi==2,:] ))"
   ]
  },
  {
   "cell_type": "code",
   "execution_count": null,
   "metadata": {},
   "outputs": [],
   "source": [
    "\n",
    "K_2 = (dataset[start[0]],dataset[start[1]])\n",
    "K_3 = (dataset[start[0]],dataset[start[1]],dataset[start[2]])\n",
    "K_4 = (dataset[start[0]],dataset[start[1]],dataset[start[2]],dataset[start[3]])\n",
    "K_5 = (dataset[start[0]],dataset[start[1]],dataset[start[2]],dataset[start[3]],dataset[start[4]])\n"
   ]
  },
  {
   "cell_type": "code",
   "execution_count": null,
   "metadata": {},
   "outputs": [],
   "source": [
    "cost_2, Kcluster_2 = Kmeans(K_2,2,dataset)\n",
    "cost_3, Kcluster_3 = Kmeans(K_3,3,dataset)\n",
    "cost_4, Kcluster_4 = Kmeans(K_4,4,dataset)\n",
    "cost_5, Kcluster_5 = Kmeans(K_5,5,dataset)\n",
    "plt.figure(figsize=(6,6))\n",
    "plt.xticks(np.arange(1,21))\n",
    "plt.xlabel('i_th iteration')\n",
    "plt.ylabel('cost')\n",
    "plt.plot(np.arange(1,21),cost_2,label='K=2')\n",
    "plt.plot(np.arange(1,21),cost_3,label='K=3')\n",
    "plt.plot(np.arange(1,21),cost_4,label='K=3')\n",
    "plt.plot(np.arange(1,21),cost_5,label='K=3')\n",
    "plt.legend()"
   ]
  },
  {
   "cell_type": "code",
   "execution_count": null,
   "metadata": {},
   "outputs": [],
   "source": [
    "cluster1=pd.DataFrame(Kcluster_3[0])\n",
    "cluster2=pd.DataFrame(Kcluster_3[1])\n",
    "cluster3=pd.DataFrame(Kcluster_3[2])\n",
    "x1,y1 = cluster1[0].tolist(),cluster1[1].tolist()\n",
    "x2,y2 = cluster2[0].tolist(),cluster2[1].tolist()\n",
    "x3,y3 = cluster3[0].tolist(),cluster3[1].tolist()\n",
    "plt.scatter(x1,y1,label='cluster1')\n",
    "plt.scatter(x2,y2,label='cluster2')\n",
    "plt.scatter(x3,y3,label='cluster3')\n",
    "plt.legend()\n",
    "\n"
   ]
  },
  {
   "cell_type": "code",
   "execution_count": null,
   "metadata": {},
   "outputs": [],
   "source": [
    "cluster1=pd.DataFrame(Kcluster_5[0])\n",
    "cluster2=pd.DataFrame(Kcluster_5[1])\n",
    "cluster3=pd.DataFrame(Kcluster_5[2])\n",
    "cluster4=pd.DataFrame(Kcluster_5[3])\n",
    "cluster5=pd.DataFrame(Kcluster_5[4])\n",
    "x1,y1 = cluster1[0].tolist(),cluster1[1].tolist()\n",
    "x2,y2 = cluster2[0].tolist(),cluster2[1].tolist()\n",
    "x3,y3 = cluster3[0].tolist(),cluster3[1].tolist()\n",
    "x4,y4 = cluster4[0].tolist(),cluster4[1].tolist()\n",
    "x5,y5 = cluster5[0].tolist(),cluster5[1].tolist()\n",
    "plt.scatter(x1,y1,label='cluster1')\n",
    "plt.scatter(x2,y2,label='cluster2')\n",
    "plt.scatter(x3,y3,label='cluster3')\n",
    "plt.scatter(x4,y4,label='cluster4')\n",
    "plt.scatter(x5,y5,label='cluster5')\n",
    "plt.legend()"
   ]
  },
  {
   "cell_type": "code",
   "execution_count": 2,
   "metadata": {},
   "outputs": [],
   "source": [
    "#Q2\n",
    "X_train = pd.read_csv('Prob2_Xtrain.csv', header=None)\n",
    "X_test = pd.read_csv('Prob2_Xtest.csv', header=None)\n",
    "y_train = pd.read_csv('Prob2_ytrain.csv', header=None)\n",
    "y_test = pd.read_csv('Prob2_ytest.csv', header=None)\n",
    "#combine train data and sperate spam and non-spam\n",
    "total_train = pd.concat([X_train,y_train],axis=1)\n",
    "train_1 = total_train[total_train.iloc[:,-1]==1]\n",
    "train_0 = total_train[total_train.iloc[:,-1]==0]\n",
    "#split the X and y\n",
    "X_train_1 = train_1.iloc[:,0:10]\n",
    "X_train_0 = train_0.iloc[:,0:10]\n",
    "y_train_1 = train_1.iloc[:,-1]\n",
    "y_train_0 = train_0.iloc[:,-1]"
   ]
  },
  {
   "cell_type": "code",
   "execution_count": 3,
   "metadata": {},
   "outputs": [],
   "source": [
    "def EM(K,data):\n",
    "    \n",
    "    #initialization\n",
    "    empirical_cov = np.array(K*[np.cov(data.transpose())])\n",
    "    nk_shape = data.shape[0]\n",
    "    mu = np.random.multivariate_normal(np.array(data.describe().loc['mean',:]),empirical_cov[0],K)\n",
    "    pi = np.ones(K)*np.array(1/K)\n",
    "   \n",
    "    \n",
    "    \n",
    "    #E Step\n",
    "    \n",
    "    objective_function = []\n",
    "    for j in range(0,30):\n",
    "        phi = [0]*K\n",
    "        nk = np.zeros(K)\n",
    "        pin = 0\n",
    "        for j in range(0, K):\n",
    "            pin += pi[j]*multivariate_normal.pdf(data,mu[j],empirical_cov[j],allow_singular=True)\n",
    "        for j in range(0, K): \n",
    "            phi[j] = pi[j]*multivariate_normal.pdf(data,mu[j],empirical_cov[j], allow_singular=True)/pin\n",
    "        \n",
    "        #M Step\n",
    "        for j in range(0,K):\n",
    "            nk[j] = np.sum(phi[j])\n",
    "            pi[j] = nk[j]/nk_shape\n",
    "        \n",
    "         #update\n",
    "        for j in range(0,K):\n",
    "            mu[j] = (1/nk[j])*np.matmul(np.matrix(phi[j].reshape(1,-1)), np.matrix(data))\n",
    "        empirical_cov[j] = np.matmul(np.multiply(phi[j].reshape(-1,1),(np.array(data)-mu[j])).transpose(),(np.array(data)-mu[j]))/nk[j]\n",
    "\n",
    "        objective_function.append(np.sum(np.log(pin)))\n",
    "    \n",
    "    return objective_function, pi, mu, empirical_cov\n"
   ]
  },
  {
   "cell_type": "code",
   "execution_count": 4,
   "metadata": {},
   "outputs": [],
   "source": [
    "def plottingGMM(data, K):\n",
    "    plt.figure(figsize=(8,6))\n",
    "    rounds=0\n",
    "    x_axis = np.arange(5,31)\n",
    "    obj_k = []\n",
    "    pi_k = []\n",
    "    mu_k = []\n",
    "    cov_k = []\n",
    "    for i in range(0, 10):\n",
    "        objective_function, pi, mu, empirical_cov = EM(K, data)\n",
    "        obj_k.append(objective_function)\n",
    "        pi_k.append(pi)\n",
    "        mu_k.append(mu)\n",
    "        cov_k.append(empirical_cov)\n",
    "\n",
    "    for i in obj_k:\n",
    "        i = i[4:]\n",
    "        plt.plot(x_axis, i, label=\"round\"+str(rounds))\n",
    "        rounds+=1\n",
    "        plt.legend()\n",
    "        plt.xlabel('iterations')\n",
    "        plt.ylabel('objective function')\n",
    "    return obj_k, pi_k, mu_k,cov_k\n",
    "    "
   ]
  },
  {
   "cell_type": "code",
   "execution_count": 5,
   "metadata": {},
   "outputs": [
    {
     "data": {
      "text/plain": [
       "Text(0.5, 1.0, 'class1')"
      ]
     },
     "execution_count": 5,
     "metadata": {},
     "output_type": "execute_result"
    },
    {
     "data": {
      "image/png": "[encoded data removed]",
      "text/plain": [
       "<Figure size 576x432 with 1 Axes>"
      ]
     },
     "metadata": {
      "needs_background": "light"
     },
     "output_type": "display_data"
    }
   ],
   "source": [
    "#class 1\n",
    "obj_1, pi_1, mu_1,cov_1 = plottingGMM(X_train_1, 3)\n",
    "plt.title(\"class1\")"
   ]
  },
  {
   "cell_type": "code",
   "execution_count": 6,
   "metadata": {},
   "outputs": [
    {
     "data": {
      "text/plain": [
       "Text(0.5, 1.0, 'class0')"
      ]
     },
     "execution_count": 6,
     "metadata": {},
     "output_type": "execute_result"
    },
    {
     "data": {
      "image/png": "[encoded data removed]",
      "text/plain": [
       "<Figure size 576x432 with 1 Axes>"
      ]
     },
     "metadata": {
      "needs_background": "light"
     },
     "output_type": "display_data"
    }
   ],
   "source": [
    "#class 0\n",
    "obj_0, pi_0, mu_0,cov_0 = plottingGMM(X_train_0, 3)\n",
    "plt.title(\"class0\")"
   ]
  },
  {
   "cell_type": "code",
   "execution_count": 7,
   "metadata": {},
   "outputs": [],
   "source": [
    "#b\n",
    "def best_objective_index(obj_k):\n",
    "    obj_lst = []\n",
    "    n = 0\n",
    "    largest=0\n",
    "    for i in obj_k:\n",
    "        obj_lst.append(i[-1])\n",
    "        largest= max(obj_lst)\n",
    "        index_lst = [n for n, m in enumerate(obj_lst) if m == largest]\n",
    "        best_index = index_lst[0]\n",
    "    return best_index     \n",
    "def GMM_val(data, K):\n",
    "    obj_k = []\n",
    "    pi_k = []\n",
    "    mu_k = []\n",
    "    cov_k = []\n",
    "    for i in range(0, 10):\n",
    "        objective_function, pi, mu, empirical_cov = EM(K, data)\n",
    "        obj_k.append(objective_function)\n",
    "        pi_k.append(pi)\n",
    "        mu_k.append(mu)\n",
    "        cov_k.append(empirical_cov)\n",
    "    return obj_k, pi_k, mu_k,cov_k\n",
    "#best values\n",
    "obj_0, pi_0, mu_0,cov_0 = GMM_val(X_train_0, 3)\n",
    "obj_1, pi_1, mu_1,cov_1 = GMM_val(X_train_1, 3)\n",
    "index_0 = best_objective_index(obj_0) \n",
    "index_1 = best_objective_index(obj_1)\n",
    "best_pi_0 = pi_0[index_0]\n",
    "best_mu_0 = mu_0[index_0]\n",
    "best_cov_0 = cov_0[index_0]\n",
    "best_pi_1 = pi_1[index_1]\n",
    "best_mu_1 = mu_1[index_1]\n",
    "best_cov_1 = cov_1[index_1]"
   ]
  },
  {
   "cell_type": "code",
   "execution_count": 21,
   "metadata": {},
   "outputs": [],
   "source": [
    "def Bayes_GMM(data, K, best_pi_1, best_mu_1, best_cov_1, best_pi_0, best_mu_0, best_cov_0, compare_list):\n",
    "    class0 = 0\n",
    "    class1 = 0\n",
    "    prediction = []\n",
    "    TruePositive = 0\n",
    "    FalsePositive = 0\n",
    "    TrueNegative = 0\n",
    "    FalseNegative = 0\n",
    "    \n",
    "    for i in range(0,K):\n",
    "        class0 = best_pi_0[i]*multivariate_normal.pdf(data,best_mu_0[i],best_cov_0[i],allow_singular=True)+class0\n",
    "    class0 = class0.tolist()\n",
    "    for i in range(0,K):\n",
    "        class1 += best_pi_1[i]*multivariate_normal.pdf(data,best_mu_1[i],best_cov_1[i],allow_singular=True)+class1\n",
    "    class1 = class1.tolist() \n",
    "\n",
    "    for i in range(0, len(class1)):\n",
    "        if class1[i]>=class0[i]:\n",
    "            prediction.append(1)\n",
    "        else:\n",
    "            prediction.append(0)\n",
    "\n",
    "    for i in range(0,len(compare_list)):\n",
    "        if prediction[i]==1 and compare_list[i]==1:\n",
    "            TruePositive += 1\n",
    "        elif prediction[i]==0 and compare_list[i]==1:\n",
    "            FalseNegative += 1\n",
    "        elif prediction[i]==1 and compare_list[i]==0:\n",
    "            FalsePositive += 1\n",
    "        elif prediction[i]==0 and compare_list[i]==0:\n",
    "            TrueNegative += 1\n",
    "            \n",
    "    matrix = [('FalseNegative:'+str(FalseNegative), 'TrueNegative:'+str(TrueNegative)),('TruePostive:'+str(TruePositive), 'FalseNegative:'+str(FalsePositive))]\n",
    "    df = pd.DataFrame(matrix)\n",
    "    df = df.rename({0: 'Truelist +', 1: 'Truelist -'}, axis='columns')\n",
    "    df = df.rename({0: 'Predictitonlist -', 1: 'Predictionlist +'}, axis='index')\n",
    "    accuracy = (TruePositive+TrueNegative)/(TruePositive+TrueNegative+FalsePositive+FalseNegative)\n",
    "    display(df)\n",
    "    print('The Accuracy is:'+ str(accuracy))"
   ]
  },
  {
   "cell_type": "code",
   "execution_count": 22,
   "metadata": {},
   "outputs": [
    {
     "data": {
      "text/html": [
       "<div>\n",
       "<style scoped>\n",
       "    .dataframe tbody tr th:only-of-type {\n",
       "        vertical-align: middle;\n",
       "    }\n",
       "\n",
       "    .dataframe tbody tr th {\n",
       "        vertical-align: top;\n",
       "    }\n",
       "\n",
       "    .dataframe thead th {\n",
       "        text-align: right;\n",
       "    }\n",
       "</style>\n",
       "<table border=\"1\" class=\"dataframe\">\n",
       "  <thead>\n",
       "    <tr style=\"text-align: right;\">\n",
       "      <th></th>\n",
       "      <th>Truelist +</th>\n",
       "      <th>Truelist -</th>\n",
       "    </tr>\n",
       "  </thead>\n",
       "  <tbody>\n",
       "    <tr>\n",
       "      <th>Predictitonlist -</th>\n",
       "      <td>FalseNegative:7</td>\n",
       "      <td>TrueNegative:199</td>\n",
       "    </tr>\n",
       "    <tr>\n",
       "      <th>Predictionlist +</th>\n",
       "      <td>TruePostive:175</td>\n",
       "      <td>FalseNegative:79</td>\n",
       "    </tr>\n",
       "  </tbody>\n",
       "</table>\n",
       "</div>"
      ],
      "text/plain": [
       "                        Truelist +        Truelist -\n",
       "Predictitonlist -  FalseNegative:7  TrueNegative:199\n",
       "Predictionlist +   TruePostive:175  FalseNegative:79"
      ]
     },
     "metadata": {},
     "output_type": "display_data"
    },
    {
     "name": "stdout",
     "output_type": "stream",
     "text": [
      "The Accuracy is:0.8130434782608695\n"
     ]
    }
   ],
   "source": [
    "Bayes_GMM(X_test, 3, best_pi_1, best_mu_1, best_cov_1, best_pi_0, best_mu_0, best_cov_0,y_test.iloc[:,0].tolist())"
   ]
  },
  {
   "cell_type": "code",
   "execution_count": 23,
   "metadata": {},
   "outputs": [
    {
     "data": {
      "text/html": [
       "<div>\n",
       "<style scoped>\n",
       "    .dataframe tbody tr th:only-of-type {\n",
       "        vertical-align: middle;\n",
       "    }\n",
       "\n",
       "    .dataframe tbody tr th {\n",
       "        vertical-align: top;\n",
       "    }\n",
       "\n",
       "    .dataframe thead th {\n",
       "        text-align: right;\n",
       "    }\n",
       "</style>\n",
       "<table border=\"1\" class=\"dataframe\">\n",
       "  <thead>\n",
       "    <tr style=\"text-align: right;\">\n",
       "      <th></th>\n",
       "      <th>Truelist +</th>\n",
       "      <th>Truelist -</th>\n",
       "    </tr>\n",
       "  </thead>\n",
       "  <tbody>\n",
       "    <tr>\n",
       "      <th>Predictitonlist -</th>\n",
       "      <td>FalseNegative:6</td>\n",
       "      <td>TrueNegative:180</td>\n",
       "    </tr>\n",
       "    <tr>\n",
       "      <th>Predictionlist +</th>\n",
       "      <td>TruePostive:176</td>\n",
       "      <td>FalseNegative:98</td>\n",
       "    </tr>\n",
       "  </tbody>\n",
       "</table>\n",
       "</div>"
      ],
      "text/plain": [
       "                        Truelist +        Truelist -\n",
       "Predictitonlist -  FalseNegative:6  TrueNegative:180\n",
       "Predictionlist +   TruePostive:176  FalseNegative:98"
      ]
     },
     "metadata": {},
     "output_type": "display_data"
    },
    {
     "name": "stdout",
     "output_type": "stream",
     "text": [
      "The Accuracy is:0.7739130434782608\n"
     ]
    }
   ],
   "source": [
    "obj_0, pi_0, mu_0,cov_0 = GMM_val(X_train_0, 1)\n",
    "obj_1, pi_1, mu_1,cov_1 = GMM_val(X_train_1, 1)\n",
    "index_0 = best_objective_index(obj_0) \n",
    "index_1 = best_objective_index(obj_1)\n",
    "best_pi_0 = pi_0[index_0]\n",
    "best_mu_0 = mu_0[index_0]\n",
    "best_cov_0 = cov_0[index_0]\n",
    "best_pi_1 = pi_1[index_1]\n",
    "best_mu_1 = mu_1[index_1]\n",
    "best_cov_1 = cov_1[index_1]\n",
    "Bayes_GMM(X_test, 1, best_pi_1, best_mu_1, best_cov_1, best_pi_0, best_mu_0, best_cov_0,y_test.iloc[:,0].tolist())"
   ]
  },
  {
   "cell_type": "code",
   "execution_count": 24,
   "metadata": {},
   "outputs": [
    {
     "data": {
      "text/html": [
       "<div>\n",
       "<style scoped>\n",
       "    .dataframe tbody tr th:only-of-type {\n",
       "        vertical-align: middle;\n",
       "    }\n",
       "\n",
       "    .dataframe tbody tr th {\n",
       "        vertical-align: top;\n",
       "    }\n",
       "\n",
       "    .dataframe thead th {\n",
       "        text-align: right;\n",
       "    }\n",
       "</style>\n",
       "<table border=\"1\" class=\"dataframe\">\n",
       "  <thead>\n",
       "    <tr style=\"text-align: right;\">\n",
       "      <th></th>\n",
       "      <th>Truelist +</th>\n",
       "      <th>Truelist -</th>\n",
       "    </tr>\n",
       "  </thead>\n",
       "  <tbody>\n",
       "    <tr>\n",
       "      <th>Predictitonlist -</th>\n",
       "      <td>FalseNegative:7</td>\n",
       "      <td>TrueNegative:199</td>\n",
       "    </tr>\n",
       "    <tr>\n",
       "      <th>Predictionlist +</th>\n",
       "      <td>TruePostive:175</td>\n",
       "      <td>FalseNegative:79</td>\n",
       "    </tr>\n",
       "  </tbody>\n",
       "</table>\n",
       "</div>"
      ],
      "text/plain": [
       "                        Truelist +        Truelist -\n",
       "Predictitonlist -  FalseNegative:7  TrueNegative:199\n",
       "Predictionlist +   TruePostive:175  FalseNegative:79"
      ]
     },
     "metadata": {},
     "output_type": "display_data"
    },
    {
     "name": "stdout",
     "output_type": "stream",
     "text": [
      "The Accuracy is:0.8130434782608695\n"
     ]
    }
   ],
   "source": [
    "obj_0, pi_0, mu_0,cov_0 = GMM_val(X_train_0, 2)\n",
    "obj_1, pi_1, mu_1,cov_1 = GMM_val(X_train_1, 2)\n",
    "index_0 = best_objective_index(obj_0) \n",
    "index_1 = best_objective_index(obj_1)\n",
    "best_pi_0 = pi_0[index_0]\n",
    "best_mu_0 = mu_0[index_0]\n",
    "best_cov_0 = cov_0[index_0]\n",
    "best_pi_1 = pi_1[index_1]\n",
    "best_mu_1 = mu_1[index_1]\n",
    "best_cov_1 = cov_1[index_1]\n",
    "Bayes_GMM(X_test, 2, best_pi_1, best_mu_1, best_cov_1, best_pi_0, best_mu_0, best_cov_0,y_test.iloc[:,0].tolist())"
   ]
  },
  {
   "cell_type": "code",
   "execution_count": 25,
   "metadata": {},
   "outputs": [
    {
     "data": {
      "text/html": [
       "<div>\n",
       "<style scoped>\n",
       "    .dataframe tbody tr th:only-of-type {\n",
       "        vertical-align: middle;\n",
       "    }\n",
       "\n",
       "    .dataframe tbody tr th {\n",
       "        vertical-align: top;\n",
       "    }\n",
       "\n",
       "    .dataframe thead th {\n",
       "        text-align: right;\n",
       "    }\n",
       "</style>\n",
       "<table border=\"1\" class=\"dataframe\">\n",
       "  <thead>\n",
       "    <tr style=\"text-align: right;\">\n",
       "      <th></th>\n",
       "      <th>Truelist +</th>\n",
       "      <th>Truelist -</th>\n",
       "    </tr>\n",
       "  </thead>\n",
       "  <tbody>\n",
       "    <tr>\n",
       "      <th>Predictitonlist -</th>\n",
       "      <td>FalseNegative:10</td>\n",
       "      <td>TrueNegative:205</td>\n",
       "    </tr>\n",
       "    <tr>\n",
       "      <th>Predictionlist +</th>\n",
       "      <td>TruePostive:172</td>\n",
       "      <td>FalseNegative:73</td>\n",
       "    </tr>\n",
       "  </tbody>\n",
       "</table>\n",
       "</div>"
      ],
      "text/plain": [
       "                         Truelist +        Truelist -\n",
       "Predictitonlist -  FalseNegative:10  TrueNegative:205\n",
       "Predictionlist +    TruePostive:172  FalseNegative:73"
      ]
     },
     "metadata": {},
     "output_type": "display_data"
    },
    {
     "name": "stdout",
     "output_type": "stream",
     "text": [
      "The Accuracy is:0.8195652173913044\n"
     ]
    }
   ],
   "source": [
    "obj_0, pi_0, mu_0,cov_0 = GMM_val(X_train_0, 4)\n",
    "obj_1, pi_1, mu_1,cov_1 = GMM_val(X_train_1, 4)\n",
    "index_0 = best_objective_index(obj_0) \n",
    "index_1 = best_objective_index(obj_1)\n",
    "best_pi_0 = pi_0[index_0]\n",
    "best_mu_0 = mu_0[index_0]\n",
    "best_cov_0 = cov_0[index_0]\n",
    "best_pi_1 = pi_1[index_1]\n",
    "best_mu_1 = mu_1[index_1]\n",
    "best_cov_1 = cov_1[index_1]\n",
    "Bayes_GMM(X_test, 4, best_pi_1, best_mu_1, best_cov_1, best_pi_0, best_mu_0, best_cov_0,y_test.iloc[:,0].tolist())"
   ]
  },
  {
   "cell_type": "code",
   "execution_count": null,
   "metadata": {},
   "outputs": [],
   "source": [
    "#Q3"
   ]
  }
 ],
 "metadata": {
  "kernelspec": {
   "display_name": "Python 3",
   "language": "python",
   "name": "python3"
  },
  "language_info": {
   "codemirror_mode": {
    "name": "ipython",
    "version": 3
   },
   "file_extension": ".py",
   "mimetype": "text/x-python",
   "name": "python",
   "nbconvert_exporter": "python",
   "pygments_lexer": "ipython3",
   "version": "3.7.3"
  }
 },
 "nbformat": 4,
 "nbformat_minor": 2
}
