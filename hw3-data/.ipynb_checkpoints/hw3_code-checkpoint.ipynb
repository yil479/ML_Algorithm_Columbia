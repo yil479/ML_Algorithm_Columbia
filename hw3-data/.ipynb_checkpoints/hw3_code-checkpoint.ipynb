{
 "cells": [
  {
   "cell_type": "markdown",
   "metadata": {},
   "source": [
    "# HW3"
   ]
  },
  {
   "cell_type": "markdown",
   "metadata": {},
   "source": []
  },
  {
   "cell_type": "code",
   "execution_count": 1,
   "metadata": {},
   "outputs": [],
   "source": [
    "import numpy as np\n",
    "import pandas as pd\n",
    "import matplotlib.pyplot as plt\n",
    "from IPython.display import display\n",
    "#from numpy import linalg as LA"
   ]
  },
  {
   "cell_type": "markdown",
   "metadata": {},
   "source": [
    "## Problem 1 (K-means)"
   ]
  },
  {
   "cell_type": "markdown",
   "metadata": {},
   "source": [
    "Implement the K-means algorithm discussed in class. Generate 500 observations from a mixture of three Gaussians on R2 with mixing weights π= [0.2,0.5,0.3]and means μ and covariances Σ"
   ]
  },
  {
   "cell_type": "markdown",
   "metadata": {},
   "source": [
    "Genearate data: use np.random.multivariate_normal do draw random samples from a multivariate normal distribution."
   ]
  },
  {
   "cell_type": "code",
   "execution_count": 2,
   "metadata": {},
   "outputs": [],
   "source": [
    "mu1 = np.array([0,0])\n",
    "mu2 = np.array([3,0])\n",
    "mu3 = np.array([0,3])\n",
    "cov = np.matrix([[1,0],[0,1]])\n",
    "gaussdata1 = np.random.multivariate_normal(mu1,cov,500)\n",
    "gaussdata2 = np.random.multivariate_normal(mu2,cov,500)\n",
    "gaussdata3 = np.random.multivariate_normal(mu3,cov,500)"
   ]
  },
  {
   "cell_type": "markdown",
   "metadata": {},
   "source": [
    "Generate cluster label given probability distribution"
   ]
  },
  {
   "cell_type": "code",
   "execution_count": 3,
   "metadata": {},
   "outputs": [],
   "source": [
    "cluster_label = np.random.choice(range(3), size=500, p=[0.2,0.5,0.3])"
   ]
  },
  {
   "cell_type": "code",
   "execution_count": 4,
   "metadata": {},
   "outputs": [],
   "source": [
    "data = np.concatenate((gaussdata1[cluster_label==0,:],\n",
    "                       gaussdata2[cluster_label==1,:],\n",
    "                       gaussdata3[cluster_label==2,:] ))"
   ]
  },
  {
   "cell_type": "code",
   "execution_count": 5,
   "metadata": {},
   "outputs": [
    {
     "data": {
      "text/plain": [
       "(500, 2)"
      ]
     },
     "execution_count": 5,
     "metadata": {},
     "output_type": "execute_result"
    }
   ],
   "source": [
    "data.shape"
   ]
  },
  {
   "cell_type": "markdown",
   "metadata": {},
   "source": [
    "#### a)  For K= 2,3,4,5, plot the value of the K-means objective function per iteration for 20 iterations (the algorithm may converge before that)."
   ]
  },
  {
   "cell_type": "code",
   "execution_count": 6,
   "metadata": {},
   "outputs": [],
   "source": [
    "def Kmeans(start_lst, K, iterations, dataset):\n",
    "    \"\"\"\n",
    "    Return cost_lst after implementing K means clustering. cost_lst is a list containg cost function\n",
    "    after each iteration\n",
    "    \n",
    "    @start_lst: initial cluster mean assignment.It's a list of array, each array is a \n",
    "    cluster mean, len(start_lst) = K\n",
    "    @K: K-means\n",
    "    @iterations: number of iterations\n",
    "    @dataset: dataset\n",
    "    \"\"\"\n",
    "\n",
    "    cost_lst = []\n",
    "    for iteration in range(0,iterations):\n",
    "        #assign xi to closet centroid\n",
    "        cluster_assignment = [] #use to record cluster assignment, change each iteration\n",
    "        for i in range(0,500):\n",
    "            dist_lst = []\n",
    "            for item in start_lst:\n",
    "                dist = np.sum((dataset[i] - item)**2)\n",
    "                dist_lst.append(dist)\n",
    "                new_cluster = dist_lst.index(min(dist_lst))\n",
    "            cluster_assignment.append(new_cluster)\n",
    "        #new cluster\n",
    "        cluster_data = []\n",
    "        for index in range(0,K):\n",
    "            cluster = dataset[np.array(cluster_assignment)==index,:]\n",
    "            cluster_data.append(cluster) #cluster_data[0] means cluster1\n",
    "        #update cluster mean and centroid\n",
    "        cost_count = 0\n",
    "        new_start = []\n",
    "        for index2 in range(0,K):\n",
    "            cost_part = np.sum((cluster_data[index2]-start_lst[index2])**2)\n",
    "            cost_count += cost_part\n",
    "            #one_start is updated cluster mean\n",
    "            one_start = np.average(cluster_data[index2], axis=0)\n",
    "            new_start.append(one_start) #len(new_start) = K, list of array\n",
    "        cost_lst.append(cost_count)\n",
    "        start_lst = new_start\n",
    "\n",
    "        #new_start = []\n",
    "        #for index3 in range(0,K):\n",
    "            #start_part = np.average(cluster_data[index3], axis=0)\n",
    "            #print(start_part)\n",
    "            #new_start.append(start_part)\n",
    "        #print(new_start)\n",
    "        #start_lst = new_start\n",
    "    return cost_lst, cluster_data\n",
    "        \n"
   ]
  },
  {
   "cell_type": "markdown",
   "metadata": {},
   "source": [
    "K = 2, 3, 4, 5, set random start"
   ]
  },
  {
   "cell_type": "code",
   "execution_count": 7,
   "metadata": {},
   "outputs": [],
   "source": [
    "#random start\n",
    "random = np.random.randint(0,501,size=5)\n",
    "start1 = data[random[0]]\n",
    "start2 = data[random[1]]\n",
    "start3 = data[random[2]]\n",
    "start4 = data[random[3]]\n",
    "start5 = data[random[4]]"
   ]
  },
  {
   "cell_type": "code",
   "execution_count": 8,
   "metadata": {},
   "outputs": [],
   "source": [
    "K2 = (start1, start2)\n",
    "K3 = (start1, start2, start3)\n",
    "K4 = (start1, start2, start3, start4)\n",
    "K5 = (start1, start2, start3, start4, start5)"
   ]
  },
  {
   "cell_type": "markdown",
   "metadata": {},
   "source": [
    "Obtain change of cost function by implementing Kmeans function"
   ]
  },
  {
   "cell_type": "code",
   "execution_count": 9,
   "metadata": {},
   "outputs": [],
   "source": [
    "cost_k2, cluster_K2 = Kmeans(K2, 2, 20, data)\n",
    "cost_k3, cluster_K3 = Kmeans(K3, 3, 20, data)\n",
    "cost_k4, cluster_K4 = Kmeans(K4, 4, 20, data)\n",
    "cost_k5, cluster_K5 = Kmeans(K5, 5, 20, data)"
   ]
  },
  {
   "cell_type": "code",
   "execution_count": 10,
   "metadata": {},
   "outputs": [
    {
     "data": {
      "text/plain": [
       "Text(0.5, 1.0, 'K-means Clustering: Cost Function By Iterations')"
      ]
     },
     "execution_count": 10,
     "metadata": {},
     "output_type": "execute_result"
    },
    {
     "data": {
      "image/png": "[encoded data removed]",
      "text/plain": [
       "<Figure size 576x432 with 1 Axes>"
      ]
     },
     "metadata": {
      "needs_background": "light"
     },
     "output_type": "display_data"
    }
   ],
   "source": [
    "plt.figure(figsize=(8,6))\n",
    "x_axis = np.arange(1,21)\n",
    "plt.plot(x_axis,cost_k2,label='K=2')\n",
    "plt.plot(x_axis,cost_k3,label='K=3')\n",
    "plt.plot(x_axis,cost_k4,label='K=4')\n",
    "plt.plot(x_axis,cost_k5,label='K=5')\n",
    "plt.legend()\n",
    "plt.xticks(x_axis)\n",
    "plt.xlabel('iteration')\n",
    "plt.ylabel('cost function')\n",
    "plt.title('K-means Clustering: Cost Function By Iterations')"
   ]
  },
  {
   "cell_type": "markdown",
   "metadata": {},
   "source": [
    "b)  For K= 3,5, plot the 500 data points and indicate the cluster of each for the final iteration by marking it with a color or a symbol."
   ]
  },
  {
   "cell_type": "code",
   "execution_count": 11,
   "metadata": {},
   "outputs": [
    {
     "data": {
      "text/plain": [
       "Text(0.5, 1.0, 'K-means Clustering: K=3')"
      ]
     },
     "execution_count": 11,
     "metadata": {},
     "output_type": "execute_result"
    },
    {
     "data": {
      "image/png": "[encoded data removed]",
      "text/plain": [
       "<Figure size 576x432 with 1 Axes>"
      ]
     },
     "metadata": {
      "needs_background": "light"
     },
     "output_type": "display_data"
    }
   ],
   "source": [
    "plt.figure(figsize=(8,6))\n",
    "\n",
    "pd_cluster = pd.DataFrame(cluster_K3[0])\n",
    "x1 = pd_cluster[0].tolist()\n",
    "y1 = pd_cluster[1].tolist()\n",
    "plt.scatter(x1,y1, label = \"Cluster1\")\n",
    "\n",
    "pd_cluster = pd.DataFrame(cluster_K3[1])\n",
    "x2 = pd_cluster[0].tolist()\n",
    "y2 = pd_cluster[1].tolist()\n",
    "plt.scatter(x2,y2, label = \"Cluster2\")\n",
    "\n",
    "pd_cluster = pd.DataFrame(cluster_K3[2])\n",
    "x3 = pd_cluster[0].tolist()\n",
    "y3 = pd_cluster[1].tolist()\n",
    "plt.scatter(x3,y3, label = \"Cluster3\")\n",
    "\n",
    "plt.legend()\n",
    "plt.xlabel('x')\n",
    "plt.ylabel('y')\n",
    "plt.title('K-means Clustering: K=3')"
   ]
  },
  {
   "cell_type": "code",
   "execution_count": 12,
   "metadata": {},
   "outputs": [
    {
     "data": {
      "text/plain": [
       "Text(0.5, 1.0, 'K-means Clustering: K=5')"
      ]
     },
     "execution_count": 12,
     "metadata": {},
     "output_type": "execute_result"
    },
    {
     "data": {
      "image/png": "[encoded data removed]",
      "text/plain": [
       "<Figure size 576x432 with 1 Axes>"
      ]
     },
     "metadata": {
      "needs_background": "light"
     },
     "output_type": "display_data"
    }
   ],
   "source": [
    "plt.figure(figsize=(8,6))\n",
    "pd_cluster = pd.DataFrame(cluster_K5[0])\n",
    "x1 = pd_cluster[0].tolist()\n",
    "y1 = pd_cluster[1].tolist()\n",
    "plt.scatter(x1,y1, label = \"Cluster1\")\n",
    "pd_cluster = pd.DataFrame(cluster_K5[1])\n",
    "x2 = pd_cluster[0].tolist()\n",
    "y2 = pd_cluster[1].tolist()\n",
    "plt.scatter(x2,y2, label = \"Cluster2\")\n",
    "pd_cluster = pd.DataFrame(cluster_K5[2])\n",
    "x3 = pd_cluster[0].tolist()\n",
    "y3 = pd_cluster[1].tolist()\n",
    "plt.scatter(x3,y3, label = \"Cluster3\")\n",
    "pd_cluster = pd.DataFrame(cluster_K5[3])\n",
    "x4 = pd_cluster[0].tolist()\n",
    "y4 = pd_cluster[1].tolist()\n",
    "plt.scatter(x4,y4, label = \"Cluster5\")\n",
    "pd_cluster = pd.DataFrame(cluster_K5[4])\n",
    "x5 = pd_cluster[0].tolist()\n",
    "y5 = pd_cluster[1].tolist()\n",
    "plt.scatter(x5,y5, label = \"Cluster5\")\n",
    "plt.legend()\n",
    "plt.xlabel('x')\n",
    "plt.ylabel('y')\n",
    "plt.title('K-means Clustering: K=5')"
   ]
  },
  {
   "cell_type": "markdown",
   "metadata": {},
   "source": [
    "## Problem 2 (Bayes classifier revisited)– 30 points"
   ]
  },
  {
   "cell_type": "markdown",
   "metadata": {},
   "source": [
    "In this problem, you will implement the EM algorithm for the Gaussian mixture model, with the purposeof using it in a Bayes classifier. The data is a processed version of the spam email data you looked at inHomework 2. Now, each labeled pair(x,y)hasx∈R10. We discussed how the Bayes classifier learnsclass-conditional densities, and unsupervised learning algorithms can be useful here.  In this problem,the class conditional density will be the Gaussian mixture model (GMM). In these experiments, pleaseinitialize  all  covariance  matrices  to  the  empirical  covariance  of  the  data  being  modeled.   Randomlyinitialize the means by sampling from a single multivariate Gaussian where the parameters are the meanand covariance of the data being modeled. Initialize the mixing weights to be uniform."
   ]
  },
  {
   "cell_type": "markdown",
   "metadata": {},
   "source": [
    "### a)  Implement the EM algorithm for the GMM described in class.  Using the training data provided,for each class separately, plot the log marginal objective function for a 3-Gaussian mixture modelover 10 different runs and for iterations 5 to 30. There should be two plots, each with 10 curves."
   ]
  },
  {
   "cell_type": "code",
   "execution_count": 13,
   "metadata": {},
   "outputs": [],
   "source": [
    "X_train = pd.read_csv('Prob2_Xtrain.csv', header=None)\n",
    "y_train = pd.read_csv('Prob2_ytrain.csv', header=None)\n",
    "X_test = pd.read_csv('Prob2_Xtest.csv', header=None)\n",
    "y_test = pd.read_csv('Prob2_ytest.csv', header=None)"
   ]
  },
  {
   "cell_type": "code",
   "execution_count": 14,
   "metadata": {},
   "outputs": [
    {
     "data": {
      "text/html": [
       "<div>\n",
       "<style scoped>\n",
       "    .dataframe tbody tr th:only-of-type {\n",
       "        vertical-align: middle;\n",
       "    }\n",
       "\n",
       "    .dataframe tbody tr th {\n",
       "        vertical-align: top;\n",
       "    }\n",
       "\n",
       "    .dataframe thead th {\n",
       "        text-align: right;\n",
       "    }\n",
       "</style>\n",
       "<table border=\"1\" class=\"dataframe\">\n",
       "  <thead>\n",
       "    <tr style=\"text-align: right;\">\n",
       "      <th></th>\n",
       "      <th>0</th>\n",
       "      <th>1</th>\n",
       "      <th>2</th>\n",
       "      <th>3</th>\n",
       "      <th>4</th>\n",
       "      <th>5</th>\n",
       "      <th>6</th>\n",
       "      <th>7</th>\n",
       "      <th>8</th>\n",
       "      <th>9</th>\n",
       "    </tr>\n",
       "  </thead>\n",
       "  <tbody>\n",
       "    <tr>\n",
       "      <th>0</th>\n",
       "      <td>-0.042985</td>\n",
       "      <td>0.402080</td>\n",
       "      <td>0.060133</td>\n",
       "      <td>0.008235</td>\n",
       "      <td>-0.011964</td>\n",
       "      <td>0.017788</td>\n",
       "      <td>0.004096</td>\n",
       "      <td>-0.041283</td>\n",
       "      <td>-0.018114</td>\n",
       "      <td>0.003424</td>\n",
       "    </tr>\n",
       "    <tr>\n",
       "      <th>1</th>\n",
       "      <td>-0.021163</td>\n",
       "      <td>0.197970</td>\n",
       "      <td>0.023161</td>\n",
       "      <td>0.000774</td>\n",
       "      <td>-0.000446</td>\n",
       "      <td>0.037280</td>\n",
       "      <td>0.002865</td>\n",
       "      <td>-0.012920</td>\n",
       "      <td>0.027745</td>\n",
       "      <td>-0.013744</td>\n",
       "    </tr>\n",
       "    <tr>\n",
       "      <th>2</th>\n",
       "      <td>-0.033537</td>\n",
       "      <td>0.307060</td>\n",
       "      <td>0.048742</td>\n",
       "      <td>0.011210</td>\n",
       "      <td>0.029054</td>\n",
       "      <td>-0.073224</td>\n",
       "      <td>-0.007833</td>\n",
       "      <td>-0.069956</td>\n",
       "      <td>-0.021547</td>\n",
       "      <td>-0.010270</td>\n",
       "    </tr>\n",
       "    <tr>\n",
       "      <th>3</th>\n",
       "      <td>-0.033537</td>\n",
       "      <td>0.307060</td>\n",
       "      <td>0.048742</td>\n",
       "      <td>0.011210</td>\n",
       "      <td>0.029054</td>\n",
       "      <td>-0.073224</td>\n",
       "      <td>-0.007833</td>\n",
       "      <td>-0.069956</td>\n",
       "      <td>-0.021547</td>\n",
       "      <td>-0.010270</td>\n",
       "    </tr>\n",
       "    <tr>\n",
       "      <th>4</th>\n",
       "      <td>-0.003041</td>\n",
       "      <td>0.028877</td>\n",
       "      <td>-0.000203</td>\n",
       "      <td>-0.003211</td>\n",
       "      <td>-0.005451</td>\n",
       "      <td>0.034991</td>\n",
       "      <td>0.003081</td>\n",
       "      <td>0.005470</td>\n",
       "      <td>0.026079</td>\n",
       "      <td>-0.018609</td>\n",
       "    </tr>\n",
       "  </tbody>\n",
       "</table>\n",
       "</div>"
      ],
      "text/plain": [
       "          0         1         2         3         4         5         6  \\\n",
       "0 -0.042985  0.402080  0.060133  0.008235 -0.011964  0.017788  0.004096   \n",
       "1 -0.021163  0.197970  0.023161  0.000774 -0.000446  0.037280  0.002865   \n",
       "2 -0.033537  0.307060  0.048742  0.011210  0.029054 -0.073224 -0.007833   \n",
       "3 -0.033537  0.307060  0.048742  0.011210  0.029054 -0.073224 -0.007833   \n",
       "4 -0.003041  0.028877 -0.000203 -0.003211 -0.005451  0.034991  0.003081   \n",
       "\n",
       "          7         8         9  \n",
       "0 -0.041283 -0.018114  0.003424  \n",
       "1 -0.012920  0.027745 -0.013744  \n",
       "2 -0.069956 -0.021547 -0.010270  \n",
       "3 -0.069956 -0.021547 -0.010270  \n",
       "4  0.005470  0.026079 -0.018609  "
      ]
     },
     "execution_count": 14,
     "metadata": {},
     "output_type": "execute_result"
    }
   ],
   "source": [
    "X_train.head()"
   ]
  },
  {
   "cell_type": "code",
   "execution_count": 15,
   "metadata": {},
   "outputs": [],
   "source": [
    "train_combined = pd.concat([X_train, y_train], axis=1, sort=False)"
   ]
  },
  {
   "cell_type": "code",
   "execution_count": 16,
   "metadata": {},
   "outputs": [],
   "source": [
    "train_1 = train_combined[train_combined.iloc[:,-1]==1]\n",
    "train_0 = train_combined[train_combined.iloc[:,-1]==0]"
   ]
  },
  {
   "cell_type": "markdown",
   "metadata": {},
   "source": [
    "Split X and y"
   ]
  },
  {
   "cell_type": "code",
   "execution_count": 17,
   "metadata": {},
   "outputs": [],
   "source": [
    "X_train_1 = train_1.iloc[:,0:10]\n",
    "X_train_0 = train_0.iloc[:,0:10]\n",
    "y_train_1 = train_1.iloc[:,-1]\n",
    "y_train_0 = train_0.iloc[:,-1]"
   ]
  },
  {
   "cell_type": "markdown",
   "metadata": {},
   "source": [
    "Initialization Example"
   ]
  },
  {
   "cell_type": "markdown",
   "metadata": {},
   "source": [
    "Initialize covariance matrices to  the empirical covariance of the data being modeleled."
   ]
  },
  {
   "cell_type": "code",
   "execution_count": 18,
   "metadata": {},
   "outputs": [
    {
     "data": {
      "text/plain": [
       "(10, 10)"
      ]
     },
     "execution_count": 18,
     "metadata": {},
     "output_type": "execute_result"
    }
   ],
   "source": [
    "init_cov_ind = np.cov(X_train_1.transpose())\n",
    "init_cov_ind.shape"
   ]
  },
  {
   "cell_type": "code",
   "execution_count": 19,
   "metadata": {},
   "outputs": [
    {
     "data": {
      "text/plain": [
       "(3, 10, 10)"
      ]
     },
     "execution_count": 19,
     "metadata": {},
     "output_type": "execute_result"
    }
   ],
   "source": [
    "init_cov  = np.array([init_cov_ind,init_cov_ind,init_cov_ind])\n",
    "init_cov.shape"
   ]
  },
  {
   "cell_type": "markdown",
   "metadata": {},
   "source": [
    "Initialize means by sampling from a single multivariate Gaussian where parameters  are  the  mean and covariance of the data  being modeled."
   ]
  },
  {
   "cell_type": "code",
   "execution_count": 20,
   "metadata": {},
   "outputs": [
    {
     "data": {
      "text/plain": [
       "array([-0.03191566,  0.29039937,  0.04010977, -0.01626588, -0.01027927,\n",
       "        0.04994353, -0.0139956 ,  0.00346759, -0.00638342, -0.00567958])"
      ]
     },
     "execution_count": 20,
     "metadata": {},
     "output_type": "execute_result"
    }
   ],
   "source": [
    "data_mean = np.array(X_train_1.describe().loc['mean',:])\n",
    "data_mean"
   ]
  },
  {
   "cell_type": "code",
   "execution_count": 21,
   "metadata": {},
   "outputs": [
    {
     "data": {
      "text/plain": [
       "(3, 10)"
      ]
     },
     "execution_count": 21,
     "metadata": {},
     "output_type": "execute_result"
    }
   ],
   "source": [
    "init_mean1 = np.random.multivariate_normal(data_mean, init_cov[0])\n",
    "init_mean2 = np.random.multivariate_normal(data_mean, init_cov[0])\n",
    "init_mean3 = np.random.multivariate_normal(data_mean, init_cov[0])\n",
    "all_init_mean = np.array([init_mean1,init_mean2,init_mean3])\n",
    "all_init_mean.shape"
   ]
  },
  {
   "cell_type": "markdown",
   "metadata": {},
   "source": [
    "Initialize weights"
   ]
  },
  {
   "cell_type": "code",
   "execution_count": 22,
   "metadata": {},
   "outputs": [
    {
     "data": {
      "text/plain": [
       "array([0.33333333, 0.33333333, 0.33333333])"
      ]
     },
     "execution_count": 22,
     "metadata": {},
     "output_type": "execute_result"
    }
   ],
   "source": [
    "pi_weight = np.ones(3)*np.array(1/3)\n",
    "pi_weight"
   ]
  },
  {
   "cell_type": "markdown",
   "metadata": {},
   "source": [
    "Write a General Function to implement EM for the GMM"
   ]
  },
  {
   "cell_type": "code",
   "execution_count": 23,
   "metadata": {},
   "outputs": [],
   "source": [
    "def EM_GMM(data, K, num_ite):\n",
    "    \"\"\"\n",
    "    Return list that contains change of objective function per iteration.\n",
    "    \n",
    "    @data: dataset\n",
    "    @K: num of clusters\n",
    "    @num_ite: number of iterations\n",
    "    \"\"\"\n",
    "    #initialize covariance as empirical covariance\n",
    "    init_cov_ind = np.cov(data.transpose()) #shape:10*10\n",
    "    #init_cov  = np.array([init_cov_ind,init_cov_ind,init_cov_ind]) #shape: (3,10,10)\n",
    "    init_cov = np.array([init_cov_ind]*K)\n",
    "    \n",
    "    #initialize mean from gaussian\n",
    "    data_mean = np.array(data.describe().loc['mean',:])\n",
    "    #init_mean1 = np.random.multivariate_normal(data_mean, init_cov[0],K)\n",
    "    #init_mean2 = np.random.multivariate_normal(data_mean, init_cov[0])\n",
    "    #init_mean3 = np.random.multivariate_normal(data_mean, init_cov[0]) #shape: 1*10\n",
    "    #all_init_mean = np.array([init_mean1,init_mean2,init_mean3]) #shape:3*10\n",
    "    all_init_mean = np.random.multivariate_normal(data_mean, init_cov[0],K)\n",
    "    \n",
    "    #initialize weight as uniform\n",
    "    pi_weight = np.ones(K)*np.array(1/K)\n",
    "    n = data.shape[0]\n",
    "    \n",
    "    #EM Algorithm\n",
    "    #E Step\n",
    "    obj_acc = []\n",
    "    #weight = []\n",
    "    for i in range(0,num_ite):\n",
    "        #update phi\n",
    "        phi_bottom = 0\n",
    "        phi = [0] * K\n",
    "        for i in range(0, K):\n",
    "            phi_bottom = multivariate_normal.pdf(data,mean=all_init_mean[i], cov=init_cov[i], \n",
    "                                                  allow_singular=True)*pi_weight[i] + phi_bottom\n",
    "        # E step: update phi\n",
    "        for i in range(0, K): #shape:(1631,)\n",
    "            phi[i] = pi_weight[i]*multivariate_normal.pdf(data,mean=all_init_mean[i], \n",
    "                                                          cov=init_cov[i], allow_singular=True)/phi_bottom \n",
    "        #M Step\n",
    "        nk = np.zeros(K) #1*k array\n",
    "        for i in range(0,K):\n",
    "            pi_k = np.zeros(K)\n",
    "            nk[i] = np.sum(phi[i])\n",
    "            pi_weight[i] = nk[i]/n\n",
    "        #pi_weight = nk/n\n",
    " \n",
    "        #update mu\n",
    "        for i in range(0,K): #3*\n",
    "            all_init_mean[i] = (1/nk[i])*np.matmul(np.matrix(phi[i].reshape(1,-1)), np.matrix(data))\n",
    "\n",
    "        #update cov\n",
    "        x_mu1 = np.array(data)-all_init_mean[i] #xi-uk term\n",
    "        init_cov[i] = np.matmul(np.multiply(phi[i].reshape(-1,1), x_mu1).transpose(),x_mu1)/nk[i]\n",
    "\n",
    "        #update cost function\n",
    "        obj_one = np.sum(np.log(phi_bottom))\n",
    "        obj_acc.append(obj_one)\n",
    "    \n",
    "    return obj_acc, pi_weight, all_init_mean, init_cov\n"
   ]
  },
  {
   "cell_type": "code",
   "execution_count": 24,
   "metadata": {},
   "outputs": [
    {
     "ename": "NameError",
     "evalue": "name 'multivariate_normal' is not defined",
     "output_type": "error",
     "traceback": [
      "\u001b[0;31m---------------------------------------------------------------------------\u001b[0m",
      "\u001b[0;31mNameError\u001b[0m                                 Traceback (most recent call last)",
      "\u001b[0;32m<ipython-input-24-9dd4fb4c119d>\u001b[0m in \u001b[0;36m<module>\u001b[0;34m\u001b[0m\n\u001b[0;32m----> 1\u001b[0;31m \u001b[0mobj_acc\u001b[0m\u001b[0;34m,\u001b[0m \u001b[0mpi_weight\u001b[0m\u001b[0;34m,\u001b[0m \u001b[0mall_init_mean\u001b[0m\u001b[0;34m,\u001b[0m \u001b[0minit_cov\u001b[0m \u001b[0;34m=\u001b[0m \u001b[0mEM_GMM\u001b[0m\u001b[0;34m(\u001b[0m\u001b[0mX_train_1\u001b[0m\u001b[0;34m,\u001b[0m \u001b[0;36m5\u001b[0m\u001b[0;34m,\u001b[0m \u001b[0;36m30\u001b[0m\u001b[0;34m)\u001b[0m\u001b[0;34m\u001b[0m\u001b[0;34m\u001b[0m\u001b[0m\n\u001b[0m",
      "\u001b[0;32m<ipython-input-23-e206e03f094c>\u001b[0m in \u001b[0;36mEM_GMM\u001b[0;34m(data, K, num_ite)\u001b[0m\n\u001b[1;32m     33\u001b[0m         \u001b[0mphi\u001b[0m \u001b[0;34m=\u001b[0m \u001b[0;34m[\u001b[0m\u001b[0;36m0\u001b[0m\u001b[0;34m]\u001b[0m \u001b[0;34m*\u001b[0m \u001b[0mK\u001b[0m\u001b[0;34m\u001b[0m\u001b[0;34m\u001b[0m\u001b[0m\n\u001b[1;32m     34\u001b[0m         \u001b[0;32mfor\u001b[0m \u001b[0mi\u001b[0m \u001b[0;32min\u001b[0m \u001b[0mrange\u001b[0m\u001b[0;34m(\u001b[0m\u001b[0;36m0\u001b[0m\u001b[0;34m,\u001b[0m \u001b[0mK\u001b[0m\u001b[0;34m)\u001b[0m\u001b[0;34m:\u001b[0m\u001b[0;34m\u001b[0m\u001b[0;34m\u001b[0m\u001b[0m\n\u001b[0;32m---> 35\u001b[0;31m             phi_bottom = multivariate_normal.pdf(data,mean=all_init_mean[i], cov=init_cov[i], \n\u001b[0m\u001b[1;32m     36\u001b[0m                                                   allow_singular=True)*pi_weight[i] + phi_bottom\n\u001b[1;32m     37\u001b[0m         \u001b[0;31m# E step: update phi\u001b[0m\u001b[0;34m\u001b[0m\u001b[0;34m\u001b[0m\u001b[0;34m\u001b[0m\u001b[0m\n",
      "\u001b[0;31mNameError\u001b[0m: name 'multivariate_normal' is not defined"
     ]
    }
   ],
   "source": [
    "obj_acc, pi_weight, all_init_mean, init_cov = EM_GMM(X_train_1, 5, 30)"
   ]
  },
  {
   "cell_type": "code",
   "execution_count": 25,
   "metadata": {},
   "outputs": [],
   "source": [
    "def implement_GMM_plot(data, K, num_ite, n_times):\n",
    "    \"\"\"\n",
    "    Implement GMM algorithm n times and return a plot.\n",
    "    \n",
    "    @n_times: n times\n",
    "    \"\"\"\n",
    "    obj_acc_all = []\n",
    "    pi_k_all = []\n",
    "    all_init_mean_all = []\n",
    "    init_cov_all = []\n",
    "    for i in range(0, n_times):\n",
    "        obj_acc, pi_weight, all_init_mean, init_cov = EM_GMM(data, K, num_ite)\n",
    "        obj_acc_all.append(obj_acc)\n",
    "        pi_k_all.append(pi_weight)\n",
    "        all_init_mean_all.append(all_init_mean)\n",
    "        init_cov_all.append(init_cov)\n",
    "    \n",
    "    x_axis = np.arange(5,31)\n",
    "    i=0\n",
    "    plt.figure(figsize=(8,6))\n",
    "    for item in obj_acc_all:\n",
    "        item = item[4:]\n",
    "        plt.plot(x_axis, item, label=i)\n",
    "        i+=1\n",
    "        plt.legend()\n",
    "        #plt.title('Log Marginal Objective Function by Iterations')\n",
    "        plt.xlabel('iterations')\n",
    "        plt.ylabel('Log Marginal Objective Function')\n",
    "    return obj_acc_all, pi_k_all, all_init_mean_all,init_cov_all\n",
    "    "
   ]
  },
  {
   "cell_type": "code",
   "execution_count": 26,
   "metadata": {},
   "outputs": [
    {
     "ename": "NameError",
     "evalue": "name 'multivariate_normal' is not defined",
     "output_type": "error",
     "traceback": [
      "\u001b[0;31m---------------------------------------------------------------------------\u001b[0m",
      "\u001b[0;31mNameError\u001b[0m                                 Traceback (most recent call last)",
      "\u001b[0;32m<ipython-input-26-7266eb05d384>\u001b[0m in \u001b[0;36m<module>\u001b[0;34m\u001b[0m\n\u001b[1;32m      1\u001b[0m \u001b[0mobj_acc_all_1\u001b[0m\u001b[0;34m,\u001b[0m \u001b[0mpi_weight_1\u001b[0m\u001b[0;34m,\u001b[0m \u001b[0mall_init_mean_all_1\u001b[0m\u001b[0;34m,\u001b[0m\u001b[0minit_cov_all_1\u001b[0m \u001b[0;34m=\u001b[0m\u001b[0;31m \u001b[0m\u001b[0;31m\\\u001b[0m\u001b[0;34m\u001b[0m\u001b[0;34m\u001b[0m\u001b[0m\n\u001b[0;32m----> 2\u001b[0;31m     \u001b[0mimplement_GMM_plot\u001b[0m\u001b[0;34m(\u001b[0m\u001b[0mX_train_1\u001b[0m\u001b[0;34m,\u001b[0m \u001b[0;36m3\u001b[0m\u001b[0;34m,\u001b[0m \u001b[0;36m30\u001b[0m\u001b[0;34m,\u001b[0m\u001b[0;36m10\u001b[0m\u001b[0;34m)\u001b[0m\u001b[0;34m\u001b[0m\u001b[0;34m\u001b[0m\u001b[0m\n\u001b[0m\u001b[1;32m      3\u001b[0m \u001b[0mplt\u001b[0m\u001b[0;34m.\u001b[0m\u001b[0mtitle\u001b[0m\u001b[0;34m(\u001b[0m\u001b[0;34m'Class1: Log Marginal Objective Function by Iterations'\u001b[0m\u001b[0;34m)\u001b[0m\u001b[0;34m\u001b[0m\u001b[0;34m\u001b[0m\u001b[0m\n",
      "\u001b[0;32m<ipython-input-25-3646c77a1a92>\u001b[0m in \u001b[0;36mimplement_GMM_plot\u001b[0;34m(data, K, num_ite, n_times)\u001b[0m\n\u001b[1;32m     10\u001b[0m     \u001b[0minit_cov_all\u001b[0m \u001b[0;34m=\u001b[0m \u001b[0;34m[\u001b[0m\u001b[0;34m]\u001b[0m\u001b[0;34m\u001b[0m\u001b[0;34m\u001b[0m\u001b[0m\n\u001b[1;32m     11\u001b[0m     \u001b[0;32mfor\u001b[0m \u001b[0mi\u001b[0m \u001b[0;32min\u001b[0m \u001b[0mrange\u001b[0m\u001b[0;34m(\u001b[0m\u001b[0;36m0\u001b[0m\u001b[0;34m,\u001b[0m \u001b[0mn_times\u001b[0m\u001b[0;34m)\u001b[0m\u001b[0;34m:\u001b[0m\u001b[0;34m\u001b[0m\u001b[0;34m\u001b[0m\u001b[0m\n\u001b[0;32m---> 12\u001b[0;31m         \u001b[0mobj_acc\u001b[0m\u001b[0;34m,\u001b[0m \u001b[0mpi_weight\u001b[0m\u001b[0;34m,\u001b[0m \u001b[0mall_init_mean\u001b[0m\u001b[0;34m,\u001b[0m \u001b[0minit_cov\u001b[0m \u001b[0;34m=\u001b[0m \u001b[0mEM_GMM\u001b[0m\u001b[0;34m(\u001b[0m\u001b[0mdata\u001b[0m\u001b[0;34m,\u001b[0m \u001b[0mK\u001b[0m\u001b[0;34m,\u001b[0m \u001b[0mnum_ite\u001b[0m\u001b[0;34m)\u001b[0m\u001b[0;34m\u001b[0m\u001b[0;34m\u001b[0m\u001b[0m\n\u001b[0m\u001b[1;32m     13\u001b[0m         \u001b[0mobj_acc_all\u001b[0m\u001b[0;34m.\u001b[0m\u001b[0mappend\u001b[0m\u001b[0;34m(\u001b[0m\u001b[0mobj_acc\u001b[0m\u001b[0;34m)\u001b[0m\u001b[0;34m\u001b[0m\u001b[0;34m\u001b[0m\u001b[0m\n\u001b[1;32m     14\u001b[0m         \u001b[0mpi_k_all\u001b[0m\u001b[0;34m.\u001b[0m\u001b[0mappend\u001b[0m\u001b[0;34m(\u001b[0m\u001b[0mpi_weight\u001b[0m\u001b[0;34m)\u001b[0m\u001b[0;34m\u001b[0m\u001b[0;34m\u001b[0m\u001b[0m\n",
      "\u001b[0;32m<ipython-input-23-e206e03f094c>\u001b[0m in \u001b[0;36mEM_GMM\u001b[0;34m(data, K, num_ite)\u001b[0m\n\u001b[1;32m     33\u001b[0m         \u001b[0mphi\u001b[0m \u001b[0;34m=\u001b[0m \u001b[0;34m[\u001b[0m\u001b[0;36m0\u001b[0m\u001b[0;34m]\u001b[0m \u001b[0;34m*\u001b[0m \u001b[0mK\u001b[0m\u001b[0;34m\u001b[0m\u001b[0;34m\u001b[0m\u001b[0m\n\u001b[1;32m     34\u001b[0m         \u001b[0;32mfor\u001b[0m \u001b[0mi\u001b[0m \u001b[0;32min\u001b[0m \u001b[0mrange\u001b[0m\u001b[0;34m(\u001b[0m\u001b[0;36m0\u001b[0m\u001b[0;34m,\u001b[0m \u001b[0mK\u001b[0m\u001b[0;34m)\u001b[0m\u001b[0;34m:\u001b[0m\u001b[0;34m\u001b[0m\u001b[0;34m\u001b[0m\u001b[0m\n\u001b[0;32m---> 35\u001b[0;31m             phi_bottom = multivariate_normal.pdf(data,mean=all_init_mean[i], cov=init_cov[i], \n\u001b[0m\u001b[1;32m     36\u001b[0m                                                   allow_singular=True)*pi_weight[i] + phi_bottom\n\u001b[1;32m     37\u001b[0m         \u001b[0;31m# E step: update phi\u001b[0m\u001b[0;34m\u001b[0m\u001b[0;34m\u001b[0m\u001b[0;34m\u001b[0m\u001b[0m\n",
      "\u001b[0;31mNameError\u001b[0m: name 'multivariate_normal' is not defined"
     ]
    }
   ],
   "source": [
    "obj_acc_all_1, pi_weight_1, all_init_mean_all_1,init_cov_all_1 = \\\n",
    "    implement_GMM_plot(X_train_1, 3, 30,10)\n",
    "plt.title('Class1: Log Marginal Objective Function by Iterations')"
   ]
  },
  {
   "cell_type": "markdown",
   "metadata": {},
   "source": [
    "**Class 0**"
   ]
  },
  {
   "cell_type": "code",
   "execution_count": 27,
   "metadata": {},
   "outputs": [
    {
     "ename": "NameError",
     "evalue": "name 'multivariate_normal' is not defined",
     "output_type": "error",
     "traceback": [
      "\u001b[0;31m---------------------------------------------------------------------------\u001b[0m",
      "\u001b[0;31mNameError\u001b[0m                                 Traceback (most recent call last)",
      "\u001b[0;32m<ipython-input-27-fa70e4c129d8>\u001b[0m in \u001b[0;36m<module>\u001b[0;34m\u001b[0m\n\u001b[1;32m      1\u001b[0m \u001b[0mobj_acc_all_0\u001b[0m\u001b[0;34m,\u001b[0m \u001b[0mpi_weight_0\u001b[0m\u001b[0;34m,\u001b[0m \u001b[0mall_init_mean_all_0\u001b[0m\u001b[0;34m,\u001b[0m\u001b[0minit_cov_all_0\u001b[0m \u001b[0;34m=\u001b[0m\u001b[0;31m \u001b[0m\u001b[0;31m\\\u001b[0m\u001b[0;34m\u001b[0m\u001b[0;34m\u001b[0m\u001b[0m\n\u001b[0;32m----> 2\u001b[0;31m     \u001b[0mimplement_GMM_plot\u001b[0m\u001b[0;34m(\u001b[0m\u001b[0mX_train_0\u001b[0m\u001b[0;34m,\u001b[0m \u001b[0;36m3\u001b[0m\u001b[0;34m,\u001b[0m \u001b[0;36m30\u001b[0m\u001b[0;34m,\u001b[0m\u001b[0;36m10\u001b[0m\u001b[0;34m)\u001b[0m\u001b[0;34m\u001b[0m\u001b[0;34m\u001b[0m\u001b[0m\n\u001b[0m\u001b[1;32m      3\u001b[0m \u001b[0mplt\u001b[0m\u001b[0;34m.\u001b[0m\u001b[0mtitle\u001b[0m\u001b[0;34m(\u001b[0m\u001b[0;34m'Class0: Log Marginal Objective Function by Iterations'\u001b[0m\u001b[0;34m)\u001b[0m\u001b[0;34m\u001b[0m\u001b[0;34m\u001b[0m\u001b[0m\n",
      "\u001b[0;32m<ipython-input-25-3646c77a1a92>\u001b[0m in \u001b[0;36mimplement_GMM_plot\u001b[0;34m(data, K, num_ite, n_times)\u001b[0m\n\u001b[1;32m     10\u001b[0m     \u001b[0minit_cov_all\u001b[0m \u001b[0;34m=\u001b[0m \u001b[0;34m[\u001b[0m\u001b[0;34m]\u001b[0m\u001b[0;34m\u001b[0m\u001b[0;34m\u001b[0m\u001b[0m\n\u001b[1;32m     11\u001b[0m     \u001b[0;32mfor\u001b[0m \u001b[0mi\u001b[0m \u001b[0;32min\u001b[0m \u001b[0mrange\u001b[0m\u001b[0;34m(\u001b[0m\u001b[0;36m0\u001b[0m\u001b[0;34m,\u001b[0m \u001b[0mn_times\u001b[0m\u001b[0;34m)\u001b[0m\u001b[0;34m:\u001b[0m\u001b[0;34m\u001b[0m\u001b[0;34m\u001b[0m\u001b[0m\n\u001b[0;32m---> 12\u001b[0;31m         \u001b[0mobj_acc\u001b[0m\u001b[0;34m,\u001b[0m \u001b[0mpi_weight\u001b[0m\u001b[0;34m,\u001b[0m \u001b[0mall_init_mean\u001b[0m\u001b[0;34m,\u001b[0m \u001b[0minit_cov\u001b[0m \u001b[0;34m=\u001b[0m \u001b[0mEM_GMM\u001b[0m\u001b[0;34m(\u001b[0m\u001b[0mdata\u001b[0m\u001b[0;34m,\u001b[0m \u001b[0mK\u001b[0m\u001b[0;34m,\u001b[0m \u001b[0mnum_ite\u001b[0m\u001b[0;34m)\u001b[0m\u001b[0;34m\u001b[0m\u001b[0;34m\u001b[0m\u001b[0m\n\u001b[0m\u001b[1;32m     13\u001b[0m         \u001b[0mobj_acc_all\u001b[0m\u001b[0;34m.\u001b[0m\u001b[0mappend\u001b[0m\u001b[0;34m(\u001b[0m\u001b[0mobj_acc\u001b[0m\u001b[0;34m)\u001b[0m\u001b[0;34m\u001b[0m\u001b[0;34m\u001b[0m\u001b[0m\n\u001b[1;32m     14\u001b[0m         \u001b[0mpi_k_all\u001b[0m\u001b[0;34m.\u001b[0m\u001b[0mappend\u001b[0m\u001b[0;34m(\u001b[0m\u001b[0mpi_weight\u001b[0m\u001b[0;34m)\u001b[0m\u001b[0;34m\u001b[0m\u001b[0;34m\u001b[0m\u001b[0m\n",
      "\u001b[0;32m<ipython-input-23-e206e03f094c>\u001b[0m in \u001b[0;36mEM_GMM\u001b[0;34m(data, K, num_ite)\u001b[0m\n\u001b[1;32m     33\u001b[0m         \u001b[0mphi\u001b[0m \u001b[0;34m=\u001b[0m \u001b[0;34m[\u001b[0m\u001b[0;36m0\u001b[0m\u001b[0;34m]\u001b[0m \u001b[0;34m*\u001b[0m \u001b[0mK\u001b[0m\u001b[0;34m\u001b[0m\u001b[0;34m\u001b[0m\u001b[0m\n\u001b[1;32m     34\u001b[0m         \u001b[0;32mfor\u001b[0m \u001b[0mi\u001b[0m \u001b[0;32min\u001b[0m \u001b[0mrange\u001b[0m\u001b[0;34m(\u001b[0m\u001b[0;36m0\u001b[0m\u001b[0;34m,\u001b[0m \u001b[0mK\u001b[0m\u001b[0;34m)\u001b[0m\u001b[0;34m:\u001b[0m\u001b[0;34m\u001b[0m\u001b[0;34m\u001b[0m\u001b[0m\n\u001b[0;32m---> 35\u001b[0;31m             phi_bottom = multivariate_normal.pdf(data,mean=all_init_mean[i], cov=init_cov[i], \n\u001b[0m\u001b[1;32m     36\u001b[0m                                                   allow_singular=True)*pi_weight[i] + phi_bottom\n\u001b[1;32m     37\u001b[0m         \u001b[0;31m# E step: update phi\u001b[0m\u001b[0;34m\u001b[0m\u001b[0;34m\u001b[0m\u001b[0;34m\u001b[0m\u001b[0m\n",
      "\u001b[0;31mNameError\u001b[0m: name 'multivariate_normal' is not defined"
     ]
    }
   ],
   "source": [
    "obj_acc_all_0, pi_weight_0, all_init_mean_all_0,init_cov_all_0 = \\\n",
    "    implement_GMM_plot(X_train_0, 3, 30,10)\n",
    "plt.title('Class0: Log Marginal Objective Function by Iterations')"
   ]
  },
  {
   "cell_type": "markdown",
   "metadata": {},
   "source": [
    "#### b)  Using the best run for each class after 30 iterations, predict the testing data using a Bayes classifier and show the result in a 2×2 confusion matrix,  along with the accuracy percentage. Repeat this process for a 1-, 2-, 3- and 4-Gaussian mixture model. Show all results nearby each other,and don’t repeat Part (a) for these other cases. Note that a 1-Gaussian GMM doesn’t require an algorithm, although your implementation will likely still work in this case."
   ]
  },
  {
   "cell_type": "markdown",
   "metadata": {},
   "source": [
    "#### 3- Gaussian Mixture Model"
   ]
  },
  {
   "cell_type": "code",
   "execution_count": 1655,
   "metadata": {},
   "outputs": [],
   "source": [
    "def find_largest_objective(obj_acc_all_lst):\n",
    "    \"\"\"\n",
    "    Return index of iteration that has largest log marginal likelihood (best run).\n",
    "    \"\"\"\n",
    "    i = 0\n",
    "    acc = []\n",
    "    for item in obj_acc_all_lst:\n",
    "        acc.append(item[-1])\n",
    "        m = max(acc)\n",
    "        index_part = [i for i, j in enumerate(acc) if j == m]\n",
    "        max_index = index_part[0]\n",
    "    return max_index"
   ]
  },
  {
   "cell_type": "markdown",
   "metadata": {},
   "source": [
    "**Class 1**"
   ]
  },
  {
   "cell_type": "code",
   "execution_count": 1663,
   "metadata": {},
   "outputs": [
    {
     "data": {
      "text/plain": [
       "8"
      ]
     },
     "execution_count": 1663,
     "metadata": {},
     "output_type": "execute_result"
    }
   ],
   "source": [
    "ind_1 = find_largest_objective(obj_acc_all_1)\n",
    "ind_1"
   ]
  },
  {
   "cell_type": "code",
   "execution_count": 1664,
   "metadata": {},
   "outputs": [],
   "source": [
    "best_weight_1 = pi_weight_1[ind_1]\n",
    "best_mean_1 = all_init_mean_all_1[ind_1]\n",
    "best_cov_1 = init_cov_all_1[ind_1]"
   ]
  },
  {
   "cell_type": "markdown",
   "metadata": {},
   "source": [
    "**Class 0** "
   ]
  },
  {
   "cell_type": "code",
   "execution_count": 1709,
   "metadata": {},
   "outputs": [
    {
     "data": {
      "text/plain": [
       "6"
      ]
     },
     "execution_count": 1709,
     "metadata": {},
     "output_type": "execute_result"
    }
   ],
   "source": [
    "ind_0 = find_largest_objective(obj_acc_all_0)\n",
    "ind_0"
   ]
  },
  {
   "cell_type": "code",
   "execution_count": 1913,
   "metadata": {},
   "outputs": [],
   "source": [
    "best_weight_0 = pi_weight_0[ind_0]\n",
    "best_mean_0 = all_init_mean_all_0[ind_0]\n",
    "best_cov_0 = init_cov_all_0[ind_0]"
   ]
  },
  {
   "cell_type": "code",
   "execution_count": 1807,
   "metadata": {},
   "outputs": [],
   "source": [
    "def GMM_Bayes(data, K, best_weight_class1, best_mean_class1, best_cov_class1, \n",
    "              best_weight_class0, best_mean_class0, best_cov_class0):\n",
    "    \"\"\"\n",
    "    Return a list containing prediction result using GMM and Bayes Classifier.\n",
    "    \n",
    "    @data: dataset\n",
    "    @K: K-Gaussian Mixture Model\n",
    "    @best_weight_class1, best_mean_class1,best_cov_class1, \n",
    "    best_weight_class0, best_mean_class0, best_cov_class0: best paramtres of GMM selected \n",
    "    \"\"\"\n",
    "    class1 = 0\n",
    "    for i in range(0,K):\n",
    "        class1 += multivariate_normal.pdf(data,mean=best_mean_class1[i], cov=best_cov_class1[i], \n",
    "                                                  allow_singular=True)*best_weight_class1[i]\n",
    "    class0 = 0\n",
    "    for i in range(0,K):\n",
    "        class0 += multivariate_normal.pdf(data,mean=best_mean_class0[i], cov=best_cov_class0[i], \n",
    "                                                      allow_singular=True)*best_weight_class0[i] \n",
    "    class1 = class1.tolist() \n",
    "    class0 = class0.tolist()\n",
    "    pred_result = []\n",
    "    for i in range(0, len(class1)):\n",
    "        if class1[i]>=class0[i]:\n",
    "            pred_result.append(1)\n",
    "        else:\n",
    "            pred_result.append(0)\n",
    "    return pred_result\n"
   ]
  },
  {
   "cell_type": "code",
   "execution_count": 1906,
   "metadata": {},
   "outputs": [],
   "source": [
    "def get_pred_result(pred_result, true_list):\n",
    "    \"\"\"\n",
    "    Return confusion matrix and accuracy.\n",
    "    \"\"\"\n",
    "    TP = 0\n",
    "    TN = 0\n",
    "    FP = 0\n",
    "    FN = 0\n",
    "    for i in range(0,len(true_list)):\n",
    "        if pred_result[i]==1 and true_list[i]==1:\n",
    "            TP += 1\n",
    "        elif pred_result[i]==0 and true_list[i]==1:\n",
    "            FN += 1\n",
    "        elif pred_result[i]==1 and true_list[i]==0:\n",
    "            FP += 1\n",
    "        elif pred_result[i]==0 and true_list[i]==0:\n",
    "            TN += 1\n",
    "            \n",
    "    data = [('TP:'+str(TP), 'FP:'+str(FP)),('FN:'+str(FN), 'TN:'+str(TN))]\n",
    "    df = pd.DataFrame(data)\n",
    "    df = df.rename({0: 'Predicted Postive', 1: 'Predicted Negative'}, axis='index')\n",
    "    df = df.rename({0: 'Actual Postive', 1: 'Actual Negative'}, axis='columns')\n",
    "    accuracy = (TP+TN)/(TP+TN+FP+FN)\n",
    "    display(df)\n",
    "    print('Accuracy:'+ str(accuracy))"
   ]
  },
  {
   "cell_type": "markdown",
   "metadata": {},
   "source": [
    "**3-Gaussian Mixture Model**"
   ]
  },
  {
   "cell_type": "code",
   "execution_count": 1908,
   "metadata": {},
   "outputs": [
    {
     "data": {
      "text/html": [
       "<div>\n",
       "<style scoped>\n",
       "    .dataframe tbody tr th:only-of-type {\n",
       "        vertical-align: middle;\n",
       "    }\n",
       "\n",
       "    .dataframe tbody tr th {\n",
       "        vertical-align: top;\n",
       "    }\n",
       "\n",
       "    .dataframe thead th {\n",
       "        text-align: right;\n",
       "    }\n",
       "</style>\n",
       "<table border=\"1\" class=\"dataframe\">\n",
       "  <thead>\n",
       "    <tr style=\"text-align: right;\">\n",
       "      <th></th>\n",
       "      <th>Actual Postive</th>\n",
       "      <th>Actual Negative</th>\n",
       "    </tr>\n",
       "  </thead>\n",
       "  <tbody>\n",
       "    <tr>\n",
       "      <th>Predicted Postive</th>\n",
       "      <td>TP:175</td>\n",
       "      <td>FP:80</td>\n",
       "    </tr>\n",
       "    <tr>\n",
       "      <th>Predicted Negative</th>\n",
       "      <td>FN:7</td>\n",
       "      <td>TN:198</td>\n",
       "    </tr>\n",
       "  </tbody>\n",
       "</table>\n",
       "</div>"
      ],
      "text/plain": [
       "                   Actual Postive Actual Negative\n",
       "Predicted Postive          TP:175           FP:80\n",
       "Predicted Negative           FN:7          TN:198"
      ]
     },
     "metadata": {},
     "output_type": "display_data"
    },
    {
     "name": "stdout",
     "output_type": "stream",
     "text": [
      "Accuracy:0.8108695652173913\n"
     ]
    }
   ],
   "source": [
    "pred_result1 = GMM_Bayes(X_test, 3, best_weight_1, best_mean_1, best_cov_1, \n",
    "              best_weight_0, best_mean_0, best_cov_0)\n",
    "get_pred_result(pred_result1,y_test.iloc[:,0].tolist())"
   ]
  },
  {
   "cell_type": "markdown",
   "metadata": {},
   "source": [
    "#### 1-Gaussian Mixture Model"
   ]
  },
  {
   "cell_type": "code",
   "execution_count": 1909,
   "metadata": {},
   "outputs": [
    {
     "data": {
      "image/png": "[encoded data removed]",
      "text/plain": [
       "<Figure size 576x432 with 1 Axes>"
      ]
     },
     "metadata": {
      "needs_background": "light"
     },
     "output_type": "display_data"
    }
   ],
   "source": [
    "obj_acc_all_1, pi_weight_1, all_init_mean_all_1,init_cov_all_1 = \\\n",
    "    implement_GMM_plot(X_train_1, 1, 30,10)"
   ]
  },
  {
   "cell_type": "code",
   "execution_count": 1910,
   "metadata": {},
   "outputs": [
    {
     "data": {
      "image/png": "[encoded data removed]",
      "text/plain": [
       "<Figure size 576x432 with 1 Axes>"
      ]
     },
     "metadata": {
      "needs_background": "light"
     },
     "output_type": "display_data"
    }
   ],
   "source": [
    "obj_acc_all_0, pi_weight_0, all_init_mean_all_0,init_cov_all_0 = \\\n",
    "    implement_GMM_plot(X_train_0, 1, 30,10)"
   ]
  },
  {
   "cell_type": "code",
   "execution_count": 1912,
   "metadata": {},
   "outputs": [],
   "source": [
    "ind_1 = find_largest_objective(obj_acc_all_1)\n",
    "best_weight_1 = pi_weight_1[ind_1]\n",
    "best_mean_1 = all_init_mean_all_1[ind_1]\n",
    "best_cov_1 = init_cov_all_1[ind_1]\n",
    "ind_0 = find_largest_objective(obj_acc_all_0)\n",
    "best_weight_0 = pi_weight_0[ind_0]\n",
    "best_mean_0 = all_init_mean_all_0[ind_0]\n",
    "best_cov_0 = init_cov_all_0[ind_0]"
   ]
  },
  {
   "cell_type": "code",
   "execution_count": 1915,
   "metadata": {},
   "outputs": [
    {
     "data": {
      "text/html": [
       "<div>\n",
       "<style scoped>\n",
       "    .dataframe tbody tr th:only-of-type {\n",
       "        vertical-align: middle;\n",
       "    }\n",
       "\n",
       "    .dataframe tbody tr th {\n",
       "        vertical-align: top;\n",
       "    }\n",
       "\n",
       "    .dataframe thead th {\n",
       "        text-align: right;\n",
       "    }\n",
       "</style>\n",
       "<table border=\"1\" class=\"dataframe\">\n",
       "  <thead>\n",
       "    <tr style=\"text-align: right;\">\n",
       "      <th></th>\n",
       "      <th>Actual Postive</th>\n",
       "      <th>Actual Negative</th>\n",
       "    </tr>\n",
       "  </thead>\n",
       "  <tbody>\n",
       "    <tr>\n",
       "      <th>Predicted Postive</th>\n",
       "      <td>TP:176</td>\n",
       "      <td>FP:98</td>\n",
       "    </tr>\n",
       "    <tr>\n",
       "      <th>Predicted Negative</th>\n",
       "      <td>FN:6</td>\n",
       "      <td>TN:180</td>\n",
       "    </tr>\n",
       "  </tbody>\n",
       "</table>\n",
       "</div>"
      ],
      "text/plain": [
       "                   Actual Postive Actual Negative\n",
       "Predicted Postive          TP:176           FP:98\n",
       "Predicted Negative           FN:6          TN:180"
      ]
     },
     "metadata": {},
     "output_type": "display_data"
    },
    {
     "name": "stdout",
     "output_type": "stream",
     "text": [
      "Accuracy:0.7739130434782608\n"
     ]
    }
   ],
   "source": [
    "pred_result1 = GMM_Bayes(X_test, 1, best_weight_1, best_mean_1, best_cov_1, \n",
    "              best_weight_0, best_mean_0, best_cov_0)\n",
    "get_pred_result(pred_result1,y_test.iloc[:,0].tolist())"
   ]
  },
  {
   "cell_type": "markdown",
   "metadata": {},
   "source": [
    "#### 2-Gaussian Mixture Model"
   ]
  },
  {
   "cell_type": "code",
   "execution_count": 1919,
   "metadata": {},
   "outputs": [
    {
     "data": {
      "image/png": "[encoded data removed]",
      "text/plain": [
       "<Figure size 576x432 with 1 Axes>"
      ]
     },
     "metadata": {
      "needs_background": "light"
     },
     "output_type": "display_data"
    }
   ],
   "source": [
    "obj_acc_all_1, pi_weight_1, all_init_mean_all_1,init_cov_all_1 = \\\n",
    "    implement_GMM_plot(X_train_1, 2, 30,10)"
   ]
  },
  {
   "cell_type": "code",
   "execution_count": 1920,
   "metadata": {},
   "outputs": [
    {
     "data": {
      "image/png": "[encoded data removed]",
      "text/plain": [
       "<Figure size 576x432 with 1 Axes>"
      ]
     },
     "metadata": {
      "needs_background": "light"
     },
     "output_type": "display_data"
    }
   ],
   "source": [
    "obj_acc_all_0, pi_weight_0, all_init_mean_all_0,init_cov_all_0 = \\\n",
    "    implement_GMM_plot(X_train_0, 2, 30,10)"
   ]
  },
  {
   "cell_type": "code",
   "execution_count": 1921,
   "metadata": {},
   "outputs": [],
   "source": [
    "ind_1 = find_largest_objective(obj_acc_all_1)\n",
    "best_weight_1 = pi_weight_1[ind_1]\n",
    "best_mean_1 = all_init_mean_all_1[ind_1]\n",
    "best_cov_1 = init_cov_all_1[ind_1]\n",
    "ind_0 = find_largest_objective(obj_acc_all_0)\n",
    "best_weight_0 = pi_weight_0[ind_0]\n",
    "best_mean_0 = all_init_mean_all_0[ind_0]\n",
    "best_cov_0 = init_cov_all_0[ind_0]"
   ]
  },
  {
   "cell_type": "code",
   "execution_count": 1925,
   "metadata": {},
   "outputs": [
    {
     "data": {
      "text/html": [
       "<div>\n",
       "<style scoped>\n",
       "    .dataframe tbody tr th:only-of-type {\n",
       "        vertical-align: middle;\n",
       "    }\n",
       "\n",
       "    .dataframe tbody tr th {\n",
       "        vertical-align: top;\n",
       "    }\n",
       "\n",
       "    .dataframe thead th {\n",
       "        text-align: right;\n",
       "    }\n",
       "</style>\n",
       "<table border=\"1\" class=\"dataframe\">\n",
       "  <thead>\n",
       "    <tr style=\"text-align: right;\">\n",
       "      <th></th>\n",
       "      <th>Actual Postive</th>\n",
       "      <th>Actual Negative</th>\n",
       "    </tr>\n",
       "  </thead>\n",
       "  <tbody>\n",
       "    <tr>\n",
       "      <th>Predicted Postive</th>\n",
       "      <td>TP:175</td>\n",
       "      <td>FP:77</td>\n",
       "    </tr>\n",
       "    <tr>\n",
       "      <th>Predicted Negative</th>\n",
       "      <td>FN:7</td>\n",
       "      <td>TN:201</td>\n",
       "    </tr>\n",
       "  </tbody>\n",
       "</table>\n",
       "</div>"
      ],
      "text/plain": [
       "                   Actual Postive Actual Negative\n",
       "Predicted Postive          TP:175           FP:77\n",
       "Predicted Negative           FN:7          TN:201"
      ]
     },
     "metadata": {},
     "output_type": "display_data"
    },
    {
     "name": "stdout",
     "output_type": "stream",
     "text": [
      "Accuracy:0.8173913043478261\n"
     ]
    }
   ],
   "source": [
    "pred_result1 = GMM_Bayes(X_test, 2, best_weight_1, best_mean_1, best_cov_1, \n",
    "              best_weight_0, best_mean_0, best_cov_0)\n",
    "get_pred_result(pred_result1,y_test.iloc[:,0].tolist())"
   ]
  },
  {
   "cell_type": "markdown",
   "metadata": {},
   "source": [
    "#### 4-Gaussian Mixture Model"
   ]
  },
  {
   "cell_type": "code",
   "execution_count": 1941,
   "metadata": {},
   "outputs": [
    {
     "data": {
      "image/png": "[encoded data removed]",
      "text/plain": [
       "<Figure size 576x432 with 1 Axes>"
      ]
     },
     "metadata": {
      "needs_background": "light"
     },
     "output_type": "display_data"
    }
   ],
   "source": [
    "obj_acc_all_1, pi_weight_1, all_init_mean_all_1,init_cov_all_1 = \\\n",
    "    implement_GMM_plot(X_train_1, 4, 30,10)"
   ]
  },
  {
   "cell_type": "code",
   "execution_count": 1942,
   "metadata": {},
   "outputs": [
    {
     "data": {
      "image/png": "[encoded data removed]",
      "text/plain": [
       "<Figure size 576x432 with 1 Axes>"
      ]
     },
     "metadata": {
      "needs_background": "light"
     },
     "output_type": "display_data"
    }
   ],
   "source": [
    "obj_acc_all_0, pi_weight_0, all_init_mean_all_0,init_cov_all_0 = \\\n",
    "    implement_GMM_plot(X_train_0, 4, 30,10)"
   ]
  },
  {
   "cell_type": "code",
   "execution_count": 1943,
   "metadata": {},
   "outputs": [],
   "source": [
    "ind_1 = find_largest_objective(obj_acc_all_1)\n",
    "best_weight_1 = pi_weight_1[ind_1]\n",
    "best_mean_1 = all_init_mean_all_1[ind_1]\n",
    "best_cov_1 = init_cov_all_1[ind_1]\n",
    "ind_0 = find_largest_objective(obj_acc_all_0)\n",
    "best_weight_0 = pi_weight_0[ind_0]\n",
    "best_mean_0 = all_init_mean_all_0[ind_0]\n",
    "best_cov_0 = init_cov_all_0[ind_0]"
   ]
  },
  {
   "cell_type": "code",
   "execution_count": 1944,
   "metadata": {},
   "outputs": [
    {
     "data": {
      "text/html": [
       "<div>\n",
       "<style scoped>\n",
       "    .dataframe tbody tr th:only-of-type {\n",
       "        vertical-align: middle;\n",
       "    }\n",
       "\n",
       "    .dataframe tbody tr th {\n",
       "        vertical-align: top;\n",
       "    }\n",
       "\n",
       "    .dataframe thead th {\n",
       "        text-align: right;\n",
       "    }\n",
       "</style>\n",
       "<table border=\"1\" class=\"dataframe\">\n",
       "  <thead>\n",
       "    <tr style=\"text-align: right;\">\n",
       "      <th></th>\n",
       "      <th>Actual Postive</th>\n",
       "      <th>Actual Negative</th>\n",
       "    </tr>\n",
       "  </thead>\n",
       "  <tbody>\n",
       "    <tr>\n",
       "      <th>Predicted Postive</th>\n",
       "      <td>TP:175</td>\n",
       "      <td>FP:79</td>\n",
       "    </tr>\n",
       "    <tr>\n",
       "      <th>Predicted Negative</th>\n",
       "      <td>FN:7</td>\n",
       "      <td>TN:199</td>\n",
       "    </tr>\n",
       "  </tbody>\n",
       "</table>\n",
       "</div>"
      ],
      "text/plain": [
       "                   Actual Postive Actual Negative\n",
       "Predicted Postive          TP:175           FP:79\n",
       "Predicted Negative           FN:7          TN:199"
      ]
     },
     "metadata": {},
     "output_type": "display_data"
    },
    {
     "name": "stdout",
     "output_type": "stream",
     "text": [
      "Accuracy:0.8130434782608695\n"
     ]
    }
   ],
   "source": [
    "pred_result1 = GMM_Bayes(X_test, 4, best_weight_1, best_mean_1, best_cov_1, \n",
    "              best_weight_0, best_mean_0, best_cov_0)\n",
    "get_pred_result(pred_result1,y_test.iloc[:,0].tolist())"
   ]
  },
  {
   "cell_type": "markdown",
   "metadata": {},
   "source": [
    "# Problem 3 (Matrix factorization)"
   ]
  },
  {
   "cell_type": "markdown",
   "metadata": {},
   "source": [
    "In this problem, you will implement the MAP inference algorithm for the matrix completion problem discussed in class. As a reminder, for users u∈Rd and movies v∈Rd, we have ui∼N(0,λ−1I),  i= 1,...,N1,   vj∼N(0,λ−1I),  j= 1,...,N2.We are given an N1×N2 matrix M with missing values. Given the setΩ ={(i,j) :Mij is measured},for each(i,j)∈Ω we model Mij∼N(uTivj,σ2).You should run your code on the user-movie ratings dataset provided on Courseworks and the coursewebsite. For your algorithm, set σ2= 0.25,d= 10 and λ= 1.  Train the model on the larger training set for 100 iterations.  For each user-movie pair in the test set, predict the rating using the relevant dotproduct. Note that the mean rating has been subtracted from the data and you do not need to round your prediction. Since the equations are in the slides, there’s no need to re-derive it."
   ]
  },
  {
   "cell_type": "code",
   "execution_count": 3200,
   "metadata": {},
   "outputs": [],
   "source": [
    "rating_train = pd.read_csv('Prob3_ratings.csv', header=None) \n",
    "movie = pd.read_csv('Prob3_movies.txt',sep=\"\\n\", header=None)\n",
    "rating_train.columns = ['user_id','item_id','rating']\n",
    "rating_test = pd.read_csv('Prob3_ratings_test.csv', header=None)\n",
    "rating_test.columns = ['user_id','item_id','rating']"
   ]
  },
  {
   "cell_type": "code",
   "execution_count": 3201,
   "metadata": {},
   "outputs": [
    {
     "data": {
      "text/html": [
       "<div>\n",
       "<style scoped>\n",
       "    .dataframe tbody tr th:only-of-type {\n",
       "        vertical-align: middle;\n",
       "    }\n",
       "\n",
       "    .dataframe tbody tr th {\n",
       "        vertical-align: top;\n",
       "    }\n",
       "\n",
       "    .dataframe thead th {\n",
       "        text-align: right;\n",
       "    }\n",
       "</style>\n",
       "<table border=\"1\" class=\"dataframe\">\n",
       "  <thead>\n",
       "    <tr style=\"text-align: right;\">\n",
       "      <th></th>\n",
       "      <th>user_id</th>\n",
       "      <th>item_id</th>\n",
       "      <th>rating</th>\n",
       "    </tr>\n",
       "  </thead>\n",
       "  <tbody>\n",
       "    <tr>\n",
       "      <th>0</th>\n",
       "      <td>196</td>\n",
       "      <td>242</td>\n",
       "      <td>-0.53039</td>\n",
       "    </tr>\n",
       "    <tr>\n",
       "      <th>1</th>\n",
       "      <td>186</td>\n",
       "      <td>302</td>\n",
       "      <td>-0.53039</td>\n",
       "    </tr>\n",
       "    <tr>\n",
       "      <th>2</th>\n",
       "      <td>244</td>\n",
       "      <td>51</td>\n",
       "      <td>-1.53040</td>\n",
       "    </tr>\n",
       "    <tr>\n",
       "      <th>3</th>\n",
       "      <td>166</td>\n",
       "      <td>346</td>\n",
       "      <td>-2.53040</td>\n",
       "    </tr>\n",
       "    <tr>\n",
       "      <th>4</th>\n",
       "      <td>298</td>\n",
       "      <td>474</td>\n",
       "      <td>0.46961</td>\n",
       "    </tr>\n",
       "  </tbody>\n",
       "</table>\n",
       "</div>"
      ],
      "text/plain": [
       "   user_id  item_id   rating\n",
       "0      196      242 -0.53039\n",
       "1      186      302 -0.53039\n",
       "2      244       51 -1.53040\n",
       "3      166      346 -2.53040\n",
       "4      298      474  0.46961"
      ]
     },
     "execution_count": 3201,
     "metadata": {},
     "output_type": "execute_result"
    }
   ],
   "source": [
    "rating_train.head()"
   ]
  },
  {
   "cell_type": "code",
   "execution_count": 3204,
   "metadata": {},
   "outputs": [],
   "source": [
    "index = pd.DataFrame(np.arange(1,1683))\n",
    "movie = pd.concat([index, movie], axis=1, sort=False)\n",
    "movie.columns = ['movie_id','movie_name']"
   ]
  },
  {
   "cell_type": "code",
   "execution_count": 3205,
   "metadata": {},
   "outputs": [
    {
     "data": {
      "text/html": [
       "<div>\n",
       "<style scoped>\n",
       "    .dataframe tbody tr th:only-of-type {\n",
       "        vertical-align: middle;\n",
       "    }\n",
       "\n",
       "    .dataframe tbody tr th {\n",
       "        vertical-align: top;\n",
       "    }\n",
       "\n",
       "    .dataframe thead th {\n",
       "        text-align: right;\n",
       "    }\n",
       "</style>\n",
       "<table border=\"1\" class=\"dataframe\">\n",
       "  <thead>\n",
       "    <tr style=\"text-align: right;\">\n",
       "      <th></th>\n",
       "      <th>movie_id</th>\n",
       "      <th>movie_name</th>\n",
       "    </tr>\n",
       "  </thead>\n",
       "  <tbody>\n",
       "    <tr>\n",
       "      <th>0</th>\n",
       "      <td>1</td>\n",
       "      <td>Toy Story (1995)</td>\n",
       "    </tr>\n",
       "    <tr>\n",
       "      <th>1</th>\n",
       "      <td>2</td>\n",
       "      <td>GoldenEye (1995)</td>\n",
       "    </tr>\n",
       "    <tr>\n",
       "      <th>2</th>\n",
       "      <td>3</td>\n",
       "      <td>Four Rooms (1995)</td>\n",
       "    </tr>\n",
       "    <tr>\n",
       "      <th>3</th>\n",
       "      <td>4</td>\n",
       "      <td>Get Shorty (1995)</td>\n",
       "    </tr>\n",
       "    <tr>\n",
       "      <th>4</th>\n",
       "      <td>5</td>\n",
       "      <td>Copycat (1995)</td>\n",
       "    </tr>\n",
       "  </tbody>\n",
       "</table>\n",
       "</div>"
      ],
      "text/plain": [
       "   movie_id         movie_name\n",
       "0         1   Toy Story (1995)\n",
       "1         2   GoldenEye (1995)\n",
       "2         3  Four Rooms (1995)\n",
       "3         4  Get Shorty (1995)\n",
       "4         5     Copycat (1995)"
      ]
     },
     "execution_count": 3205,
     "metadata": {},
     "output_type": "execute_result"
    }
   ],
   "source": [
    "movie.head()"
   ]
  },
  {
   "cell_type": "code",
   "execution_count": 2021,
   "metadata": {},
   "outputs": [
    {
     "data": {
      "text/plain": [
       "(1682, 2)"
      ]
     },
     "execution_count": 2021,
     "metadata": {},
     "output_type": "execute_result"
    }
   ],
   "source": [
    "movie.shape"
   ]
  },
  {
   "cell_type": "code",
   "execution_count": 2040,
   "metadata": {},
   "outputs": [
    {
     "data": {
      "text/plain": [
       "943"
      ]
     },
     "execution_count": 2040,
     "metadata": {},
     "output_type": "execute_result"
    }
   ],
   "source": [
    "len(rating_train.loc[:,'user_id'].unique())"
   ]
  },
  {
   "cell_type": "code",
   "execution_count": 2041,
   "metadata": {},
   "outputs": [
    {
     "data": {
      "text/plain": [
       "1676"
      ]
     },
     "execution_count": 2041,
     "metadata": {},
     "output_type": "execute_result"
    }
   ],
   "source": [
    "temp =rating_train.loc[:,'item_id'].unique().tolist()\n",
    "len(temp)"
   ]
  },
  {
   "cell_type": "code",
   "execution_count": 1977,
   "metadata": {},
   "outputs": [
    {
     "data": {
      "text/plain": [
       "(1682, 1)"
      ]
     },
     "execution_count": 1977,
     "metadata": {},
     "output_type": "execute_result"
    }
   ],
   "source": [
    "movie.shape"
   ]
  },
  {
   "cell_type": "code",
   "execution_count": 1990,
   "metadata": {},
   "outputs": [
    {
     "data": {
      "text/plain": [
       "838"
      ]
     },
     "execution_count": 1990,
     "metadata": {},
     "output_type": "execute_result"
    }
   ],
   "source": [
    "len(rating_test.loc[:,'user_id'].unique())"
   ]
  },
  {
   "cell_type": "code",
   "execution_count": 1991,
   "metadata": {},
   "outputs": [
    {
     "data": {
      "text/plain": [
       "1062"
      ]
     },
     "execution_count": 1991,
     "metadata": {},
     "output_type": "execute_result"
    }
   ],
   "source": [
    "len(rating_test.loc[:,'item_id'].unique())"
   ]
  },
  {
   "cell_type": "markdown",
   "metadata": {},
   "source": [
    "**Thus, the M matrix should be 943*1682, since there are 943 users and 1682 movies in total**"
   ]
  },
  {
   "cell_type": "markdown",
   "metadata": {},
   "source": [
    "Construct Matrix M_train (train data) and M_test (test data)"
   ]
  },
  {
   "cell_type": "code",
   "execution_count": 2314,
   "metadata": {},
   "outputs": [],
   "source": [
    "M_train = np.zeros((943, 1682))"
   ]
  },
  {
   "cell_type": "code",
   "execution_count": 2315,
   "metadata": {},
   "outputs": [],
   "source": [
    "for i in range(0, rating_train.shape[0]):\n",
    "    row = rating_train.iloc[i,:]\n",
    "    M_train[int(row[0]-1), int(row[1]-1)] = row[2]"
   ]
  },
  {
   "cell_type": "code",
   "execution_count": 2316,
   "metadata": {},
   "outputs": [
    {
     "data": {
      "text/plain": [
       "array([[ 1.4696 , -0.53039,  0.46961, ...,  0.     ,  0.     ,  0.     ],\n",
       "       [ 0.46961,  0.     ,  0.     , ...,  0.     ,  0.     ,  0.     ],\n",
       "       [ 0.     ,  0.     ,  0.     , ...,  0.     ,  0.     ,  0.     ],\n",
       "       ...,\n",
       "       [ 1.4696 ,  0.     ,  0.     , ...,  0.     ,  0.     ,  0.     ],\n",
       "       [ 0.     ,  0.     ,  0.     , ...,  0.     ,  0.     ,  0.     ],\n",
       "       [ 0.     ,  1.4696 ,  0.     , ...,  0.     ,  0.     ,  0.     ]])"
      ]
     },
     "execution_count": 2316,
     "metadata": {},
     "output_type": "execute_result"
    }
   ],
   "source": [
    "M_train"
   ]
  },
  {
   "cell_type": "code",
   "execution_count": 2111,
   "metadata": {},
   "outputs": [],
   "source": [
    "M_test = np.zeros((943, 1682))"
   ]
  },
  {
   "cell_type": "code",
   "execution_count": 2112,
   "metadata": {},
   "outputs": [],
   "source": [
    "for i in range(0, rating_test.shape[0]):\n",
    "    row = rating_test.iloc[i,:]\n",
    "    M_test[int(row[0]-1), int(row[1]-1)] = row[2]"
   ]
  },
  {
   "cell_type": "code",
   "execution_count": 2114,
   "metadata": {},
   "outputs": [
    {
     "data": {
      "text/plain": [
       "array([[0., 0., 0., ..., 0., 0., 0.],\n",
       "       [0., 0., 0., ..., 0., 0., 0.],\n",
       "       [0., 0., 0., ..., 0., 0., 0.],\n",
       "       ...,\n",
       "       [0., 0., 0., ..., 0., 0., 0.],\n",
       "       [0., 0., 0., ..., 0., 0., 0.],\n",
       "       [0., 0., 0., ..., 0., 0., 0.]])"
      ]
     },
     "execution_count": 2114,
     "metadata": {},
     "output_type": "execute_result"
    }
   ],
   "source": [
    "M_test"
   ]
  },
  {
   "cell_type": "markdown",
   "metadata": {},
   "source": [
    "Implement coordinate ascent algorithm"
   ]
  },
  {
   "cell_type": "code",
   "execution_count": 2193,
   "metadata": {},
   "outputs": [],
   "source": [
    "from numpy.linalg import inv"
   ]
  },
  {
   "cell_type": "code",
   "execution_count": 3304,
   "metadata": {},
   "outputs": [],
   "source": [
    "def matrix_factorization(data, cov, d, lambda_, num_iteration):\n",
    "    \"\"\"\n",
    "    Return loss fuction and matrix factorization result u, v after num_iterations iteraions\n",
    "    \n",
    "    @data: dataset\n",
    "    @cov: initial cov (sigma_squared)\n",
    "    @d: rank\n",
    "    @lambda_: lambda\n",
    "    @num_iteration: number of iterations\n",
    "    \"\"\"\n",
    "    #data.shape[0] = 943 = N1\n",
    "    #data.shape[1] = 1682 = N2\n",
    "    \n",
    "    #N1 and N2 is hard coded to 943 and 1682 here; if dataset change, modify this function:\n",
    "\n",
    "    \n",
    "    #initialize   \n",
    "    v = np.random.multivariate_normal([0]*1682, np.identity(1682), size = 10) #shape(10,1682)\n",
    "    u = np.repeat(np.NaN,943*10).reshape(943, 10) #shape (943,10)\n",
    "    #u = np.repeat(np.NaN,943*10).reshape(10, 943)\n",
    "    objective_acc = []\n",
    "    \n",
    "    for iteration in range(0,num_iteration):\n",
    "        #update u\n",
    "        for i in range(0,943):\n",
    "            #select step: use  select matrix to only keep vj that has ui\n",
    "            select_matrix = abs(np.sign(data[i])) #(1682,)\n",
    "            v_as = np.multiply(select_matrix,v) #v_after_select, shape: 10*1682\n",
    "            part1 = np.matmul(v_as,v_as.transpose()) #10*10\n",
    "            temp = inv(np.identity(d)*cov + part1) #10*10\n",
    "            #part2 = np.matmul(v, data[i].reshape(-1,1)) #10*1\n",
    "            #result = np.matmul(temp, part2).reshape(1,-1)\n",
    "            part2 = np.matmul(data[i].reshape(-1,1).transpose(),v.transpose()) #Mv term\n",
    "            result = np.matmul(part2, temp) #1*10, need to insert to u(943*10)\n",
    "            u[i] = result #update u row by row\n",
    " \n",
    "        #update v        \n",
    "        for j in range(0,1682):\n",
    "            #select step\n",
    "            select_matrix2 = abs(np.sign(data[:,j])) #data[:,j]: shape(943,)\n",
    "            #temp = np.multiply(select_matrix2.reshape(943,-1),u) #select_matrix2.reshape(943,-1) -> (943,1)\n",
    "            u_as = np.multiply(select_matrix2, u.transpose()) #u after select 10*943\n",
    "            part1 = np.matmul(u_as,u_as.transpose()) #term uT.u 10*10\n",
    "            temp2 = inv(np.identity(d)*cov + part1) #10*10\n",
    "            part2 = np.matmul(data[:,j].reshape(-1,1).transpose(),u) #1*10\n",
    "            result2 = np.matmul(part2,temp2) #1*10          \n",
    "            v[:,j] = result2 #update v column by column\n",
    "        \n",
    "        #loss function\n",
    "        u_loss_acc = 0\n",
    "        for i in range(0, u.shape[0]):\n",
    "            loss_row = u[i]\n",
    "            u_loss_acc+=1/2*np.square(LA.norm(loss_row))\n",
    "            #same: u_loss_acc+=lambda_/2*np.sum(np.square(loss_row))\n",
    "        #same(without loop): u_loss_acc = np.sum(lambda_/2*np.square(u))\n",
    "\n",
    "        v_loss_acc = 0\n",
    "        for j in range(0, v.shape[0]):\n",
    "            loss_col = v[j]\n",
    "            v_loss_acc+=1/2*np.square(LA.norm(loss_col))\n",
    "            #v_loss_acc+=lambda_/2*np.sum(np.square(loss_col))\n",
    "            \n",
    "        select_matrix3 = abs(np.sign(data))\n",
    "        pred = np.matmul(u, v)\n",
    "        subtract = np.multiply(data - pred,select_matrix3)\n",
    "        subtract_norm = np.square(LA.norm(subtract))/(2*cov)\n",
    "        #same: subtract_norm = np.sum(np.square(subtract))/(2*cov)\n",
    "        \n",
    "        L = -subtract_norm-u_loss_acc-v_loss_acc \n",
    "        objective_acc.append(L)\n",
    "        \n",
    "    return objective_acc, u, v  #u:(943,10); v:(10,1682)"
   ]
  },
  {
   "cell_type": "code",
   "execution_count": 3305,
   "metadata": {},
   "outputs": [],
   "source": [
    "L, U, V = matrix_factorization(M_train, 0.25, 10, 1, 100)"
   ]
  },
  {
   "cell_type": "markdown",
   "metadata": {},
   "source": [
    "#### a)  Run your code 10 times. For each run, initialize your ui and vj vectors as N(0,I) random vectors. On a single plot, show the the log joint likelihood for iterations 2 to 100 for each run. In a table,show in each row the final value of the training objective function next to the RMSE on the testingset. Sort these rows according to decreasing value of the objective function."
   ]
  },
  {
   "cell_type": "code",
   "execution_count": 3077,
   "metadata": {},
   "outputs": [],
   "source": [
    "def matrix_fac_ntimes(data, n_runs):\n",
    "    \"\"\"\n",
    "    Run matrix factorization algorithm n_runs times.\n",
    "    \n",
    "    @n_runs: run n_rums times\n",
    "    \"\"\"\n",
    "    all_obj = []\n",
    "    all_u = []\n",
    "    all_v = []\n",
    "    for interation in range(0, n_runs):\n",
    "        obj_one, u_one, v_one = matrix_factorization(data,0.25,10, 1,100)\n",
    "        all_obj.append(obj_one)\n",
    "        all_u.append(u_one)\n",
    "        all_v.append(v_one)\n",
    "    return all_obj, all_u, all_v"
   ]
  },
  {
   "cell_type": "markdown",
   "metadata": {},
   "source": [
    "Run matrix factorization 10 times and store all results in list"
   ]
  },
  {
   "cell_type": "code",
   "execution_count": 3078,
   "metadata": {},
   "outputs": [],
   "source": [
    "all_obj, all_u, all_v = matrix_fac_ntimes(M_train, 10)"
   ]
  },
  {
   "cell_type": "markdown",
   "metadata": {},
   "source": [
    "Plot objective function"
   ]
  },
  {
   "cell_type": "code",
   "execution_count": 3079,
   "metadata": {},
   "outputs": [
    {
     "data": {
      "image/png": "[encoded data removed]",
      "text/plain": [
       "<Figure size 720x576 with 1 Axes>"
      ]
     },
     "metadata": {
      "needs_background": "light"
     },
     "output_type": "display_data"
    }
   ],
   "source": [
    "i = 1\n",
    "plt.figure(figsize=(10,8))\n",
    "for item in all_obj:\n",
    "    plt.plot(np.arange(2,101), item[1:], label = 'run '+str(i))\n",
    "    plt.legend()\n",
    "    plt.xlabel('iterations')\n",
    "    plt.ylabel('Log Joint Likelihood')\n",
    "    plt.title('Log Joint Likelihood by Iterations')\n",
    "    i+=1"
   ]
  },
  {
   "cell_type": "code",
   "execution_count": 3080,
   "metadata": {},
   "outputs": [],
   "source": [
    "def RMSE(pred, true):\n",
    "    \"\"\"\n",
    "    Return RMSE of prediction result that obtained by matrix factorization and true data\n",
    "    \n",
    "    @pred: obtained by uT*v\n",
    "    @true: true matrix\n",
    "    \"\"\"\n",
    "    subtract = np.multiply(true - pred, abs(np.sign(true)))\n",
    "    N = np.sum(abs(np.sign(true)))\n",
    "    MSE = 1/N*np.sum(np.square(subtract))\n",
    "    RMSE = np.sqrt(MSE)\n",
    "    return RMSE"
   ]
  },
  {
   "cell_type": "code",
   "execution_count": 3081,
   "metadata": {},
   "outputs": [],
   "source": [
    "rmse_acc = []\n",
    "for i in range(0, len(all_u)):\n",
    "    u = all_u[i]\n",
    "    v = all_v[i]\n",
    "    pred_result = np.matmul(u, v)\n",
    "    rmse = RMSE(pred_result, M_test)\n",
    "    rmse_acc.append(rmse)"
   ]
  },
  {
   "cell_type": "code",
   "execution_count": 3087,
   "metadata": {},
   "outputs": [],
   "source": [
    "last_obj = []\n",
    "for i in range(0, len(all_obj)):\n",
    "    last_obj.append(all_obj[i][-1])"
   ]
  },
  {
   "cell_type": "code",
   "execution_count": 3088,
   "metadata": {},
   "outputs": [
    {
     "data": {
      "text/html": [
       "<div>\n",
       "<style scoped>\n",
       "    .dataframe tbody tr th:only-of-type {\n",
       "        vertical-align: middle;\n",
       "    }\n",
       "\n",
       "    .dataframe tbody tr th {\n",
       "        vertical-align: top;\n",
       "    }\n",
       "\n",
       "    .dataframe thead th {\n",
       "        text-align: right;\n",
       "    }\n",
       "</style>\n",
       "<table border=\"1\" class=\"dataframe\">\n",
       "  <thead>\n",
       "    <tr style=\"text-align: right;\">\n",
       "      <th></th>\n",
       "      <th>run</th>\n",
       "      <th>last objective</th>\n",
       "      <th>RMSE</th>\n",
       "    </tr>\n",
       "  </thead>\n",
       "  <tbody>\n",
       "    <tr>\n",
       "      <th>0</th>\n",
       "      <td>1</td>\n",
       "      <td>-91853.162205</td>\n",
       "      <td>1.131347</td>\n",
       "    </tr>\n",
       "    <tr>\n",
       "      <th>4</th>\n",
       "      <td>5</td>\n",
       "      <td>-91923.316971</td>\n",
       "      <td>1.123478</td>\n",
       "    </tr>\n",
       "    <tr>\n",
       "      <th>2</th>\n",
       "      <td>3</td>\n",
       "      <td>-92033.965800</td>\n",
       "      <td>1.130445</td>\n",
       "    </tr>\n",
       "    <tr>\n",
       "      <th>8</th>\n",
       "      <td>9</td>\n",
       "      <td>-92065.377005</td>\n",
       "      <td>1.106021</td>\n",
       "    </tr>\n",
       "    <tr>\n",
       "      <th>6</th>\n",
       "      <td>7</td>\n",
       "      <td>-92134.836738</td>\n",
       "      <td>1.087231</td>\n",
       "    </tr>\n",
       "    <tr>\n",
       "      <th>5</th>\n",
       "      <td>6</td>\n",
       "      <td>-92143.850218</td>\n",
       "      <td>1.085147</td>\n",
       "    </tr>\n",
       "    <tr>\n",
       "      <th>9</th>\n",
       "      <td>10</td>\n",
       "      <td>-92181.691544</td>\n",
       "      <td>1.109235</td>\n",
       "    </tr>\n",
       "    <tr>\n",
       "      <th>1</th>\n",
       "      <td>2</td>\n",
       "      <td>-92240.995776</td>\n",
       "      <td>1.121368</td>\n",
       "    </tr>\n",
       "    <tr>\n",
       "      <th>7</th>\n",
       "      <td>8</td>\n",
       "      <td>-92346.197425</td>\n",
       "      <td>1.097784</td>\n",
       "    </tr>\n",
       "    <tr>\n",
       "      <th>3</th>\n",
       "      <td>4</td>\n",
       "      <td>-92426.104241</td>\n",
       "      <td>1.142252</td>\n",
       "    </tr>\n",
       "  </tbody>\n",
       "</table>\n",
       "</div>"
      ],
      "text/plain": [
       "   run  last objective      RMSE\n",
       "0    1   -91853.162205  1.131347\n",
       "4    5   -91923.316971  1.123478\n",
       "2    3   -92033.965800  1.130445\n",
       "8    9   -92065.377005  1.106021\n",
       "6    7   -92134.836738  1.087231\n",
       "5    6   -92143.850218  1.085147\n",
       "9   10   -92181.691544  1.109235\n",
       "1    2   -92240.995776  1.121368\n",
       "7    8   -92346.197425  1.097784\n",
       "3    4   -92426.104241  1.142252"
      ]
     },
     "execution_count": 3088,
     "metadata": {},
     "output_type": "execute_result"
    }
   ],
   "source": [
    "d = {'run': np.arange(1,11),'last objective':last_obj,'RMSE':rmse_acc}\n",
    "df = pd.DataFrame(d)\n",
    "df.sort_values(by=['last objective'],ascending=False)"
   ]
  },
  {
   "cell_type": "markdown",
   "metadata": {},
   "source": [
    "#### b)  For the run with the highest objective value, pick the movies “Star Wars” “My Fair Lady” and“Goodfellas” and for each movie find the 10 closest movies according to Euclidean distance using their respective locations vj.  List the query movie, the ten nearest movies and their distances.  A mapping from index to movie is provided with the data."
   ]
  },
  {
   "cell_type": "code",
   "execution_count": 3107,
   "metadata": {},
   "outputs": [],
   "source": [
    "best_u = all_u[0]\n",
    "best_v = all_v[0]"
   ]
  },
  {
   "cell_type": "code",
   "execution_count": 3109,
   "metadata": {},
   "outputs": [
    {
     "data": {
      "text/plain": [
       "(943, 1682)"
      ]
     },
     "execution_count": 3109,
     "metadata": {},
     "output_type": "execute_result"
    }
   ],
   "source": [
    "pred_matrix = np.matmul(best_u, best_v)\n",
    "pred_matrix.shape"
   ]
  },
  {
   "cell_type": "code",
   "execution_count": 3111,
   "metadata": {},
   "outputs": [],
   "source": [
    "best_v_T = best_v.transpose() #shape (1682, 10)"
   ]
  },
  {
   "cell_type": "code",
   "execution_count": 3148,
   "metadata": {},
   "outputs": [
    {
     "data": {
      "text/html": [
       "<div>\n",
       "<style scoped>\n",
       "    .dataframe tbody tr th:only-of-type {\n",
       "        vertical-align: middle;\n",
       "    }\n",
       "\n",
       "    .dataframe tbody tr th {\n",
       "        vertical-align: top;\n",
       "    }\n",
       "\n",
       "    .dataframe thead th {\n",
       "        text-align: right;\n",
       "    }\n",
       "</style>\n",
       "<table border=\"1\" class=\"dataframe\">\n",
       "  <thead>\n",
       "    <tr style=\"text-align: right;\">\n",
       "      <th></th>\n",
       "      <th>movie_id2</th>\n",
       "      <th>distance</th>\n",
       "    </tr>\n",
       "  </thead>\n",
       "  <tbody>\n",
       "    <tr>\n",
       "      <th>0</th>\n",
       "      <td>1</td>\n",
       "      <td>1.192279</td>\n",
       "    </tr>\n",
       "    <tr>\n",
       "      <th>1</th>\n",
       "      <td>2</td>\n",
       "      <td>1.216355</td>\n",
       "    </tr>\n",
       "    <tr>\n",
       "      <th>2</th>\n",
       "      <td>3</td>\n",
       "      <td>1.703374</td>\n",
       "    </tr>\n",
       "    <tr>\n",
       "      <th>3</th>\n",
       "      <td>4</td>\n",
       "      <td>1.009096</td>\n",
       "    </tr>\n",
       "    <tr>\n",
       "      <th>4</th>\n",
       "      <td>5</td>\n",
       "      <td>1.117361</td>\n",
       "    </tr>\n",
       "  </tbody>\n",
       "</table>\n",
       "</div>"
      ],
      "text/plain": [
       "   movie_id2  distance\n",
       "0          1  1.192279\n",
       "1          2  1.216355\n",
       "2          3  1.703374\n",
       "3          4  1.009096\n",
       "4          5  1.117361"
      ]
     },
     "execution_count": 3148,
     "metadata": {},
     "output_type": "execute_result"
    }
   ],
   "source": [
    "d2 = {'movie_id2':np.arange(1,1683),'distance':dist_acc}\n",
    "df2 = pd.DataFrame(d2)\n",
    "df3 = pd.concat([df2, movie], axis=1, join='inner')\n",
    "df3 = df3.drop(['movie_id2'], axis=1)\n",
    "df3.head()"
   ]
  },
  {
   "cell_type": "code",
   "execution_count": 3253,
   "metadata": {},
   "outputs": [],
   "source": [
    "def find_closet_movie(movie_id, best_v_T, best_n, movie_data):\n",
    "    select_movie = best_v_T[movie_id-1]\n",
    "    print(select_movie)\n",
    "    #use dist_acc to store distance\n",
    "    dist_acc = []\n",
    "    for one_movie in best_v_T: #best_v_T.shape[0]=1682\n",
    "        eclu_dist = np.sqrt(np.sum(np.square(select_movie - one_movie)))\n",
    "        dist_acc.append(eclu_dist)\n",
    "    #put result to table\n",
    "    d = {'movie_id':np.arange(1,1683).tolist(),'distance': dist_acc}\n",
    "    return d"
   ]
  },
  {
   "cell_type": "markdown",
   "metadata": {},
   "source": [
    "**Movie Star Wars**"
   ]
  },
  {
   "cell_type": "code",
   "execution_count": 3258,
   "metadata": {},
   "outputs": [
    {
     "data": {
      "text/html": [
       "<div>\n",
       "<style scoped>\n",
       "    .dataframe tbody tr th:only-of-type {\n",
       "        vertical-align: middle;\n",
       "    }\n",
       "\n",
       "    .dataframe tbody tr th {\n",
       "        vertical-align: top;\n",
       "    }\n",
       "\n",
       "    .dataframe thead th {\n",
       "        text-align: right;\n",
       "    }\n",
       "</style>\n",
       "<table border=\"1\" class=\"dataframe\">\n",
       "  <thead>\n",
       "    <tr style=\"text-align: right;\">\n",
       "      <th></th>\n",
       "      <th>movie_id</th>\n",
       "      <th>distance</th>\n",
       "      <th>movie_id</th>\n",
       "      <th>movie_name</th>\n",
       "    </tr>\n",
       "  </thead>\n",
       "  <tbody>\n",
       "    <tr>\n",
       "      <th>49</th>\n",
       "      <td>50</td>\n",
       "      <td>0.0</td>\n",
       "      <td>50</td>\n",
       "      <td>Star Wars (1977)</td>\n",
       "    </tr>\n",
       "  </tbody>\n",
       "</table>\n",
       "</div>"
      ],
      "text/plain": [
       "    movie_id  distance  movie_id        movie_name\n",
       "49        50       0.0        50  Star Wars (1977)"
      ]
     },
     "execution_count": 3258,
     "metadata": {},
     "output_type": "execute_result"
    }
   ],
   "source": [
    "df3[df3['movie_name']=='Star Wars (1977)']"
   ]
  },
  {
   "cell_type": "code",
   "execution_count": 3235,
   "metadata": {},
   "outputs": [],
   "source": [
    "d_starwar = find_closet_movie(50, best_v_T, 10, movie)"
   ]
  },
  {
   "cell_type": "code",
   "execution_count": 3237,
   "metadata": {},
   "outputs": [
    {
     "data": {
      "text/html": [
       "<div>\n",
       "<style scoped>\n",
       "    .dataframe tbody tr th:only-of-type {\n",
       "        vertical-align: middle;\n",
       "    }\n",
       "\n",
       "    .dataframe tbody tr th {\n",
       "        vertical-align: top;\n",
       "    }\n",
       "\n",
       "    .dataframe thead th {\n",
       "        text-align: right;\n",
       "    }\n",
       "</style>\n",
       "<table border=\"1\" class=\"dataframe\">\n",
       "  <thead>\n",
       "    <tr style=\"text-align: right;\">\n",
       "      <th></th>\n",
       "      <th>movie_id</th>\n",
       "      <th>distance</th>\n",
       "      <th>movie_id</th>\n",
       "      <th>movie_name</th>\n",
       "    </tr>\n",
       "  </thead>\n",
       "  <tbody>\n",
       "    <tr>\n",
       "      <th>49</th>\n",
       "      <td>50</td>\n",
       "      <td>0.000000</td>\n",
       "      <td>50</td>\n",
       "      <td>Star Wars (1977)</td>\n",
       "    </tr>\n",
       "    <tr>\n",
       "      <th>171</th>\n",
       "      <td>172</td>\n",
       "      <td>0.345361</td>\n",
       "      <td>172</td>\n",
       "      <td>Empire Strikes Back, The (1980)</td>\n",
       "    </tr>\n",
       "    <tr>\n",
       "      <th>180</th>\n",
       "      <td>181</td>\n",
       "      <td>0.583759</td>\n",
       "      <td>181</td>\n",
       "      <td>Return of the Jedi (1983)</td>\n",
       "    </tr>\n",
       "    <tr>\n",
       "      <th>173</th>\n",
       "      <td>174</td>\n",
       "      <td>0.606633</td>\n",
       "      <td>174</td>\n",
       "      <td>Raiders of the Lost Ark (1981)</td>\n",
       "    </tr>\n",
       "    <tr>\n",
       "      <th>165</th>\n",
       "      <td>166</td>\n",
       "      <td>0.770845</td>\n",
       "      <td>166</td>\n",
       "      <td>Manon of the Spring (Manon des sources) (1986)</td>\n",
       "    </tr>\n",
       "    <tr>\n",
       "      <th>209</th>\n",
       "      <td>210</td>\n",
       "      <td>0.868100</td>\n",
       "      <td>210</td>\n",
       "      <td>Indiana Jones and the Last Crusade (1989)</td>\n",
       "    </tr>\n",
       "    <tr>\n",
       "      <th>194</th>\n",
       "      <td>195</td>\n",
       "      <td>0.931801</td>\n",
       "      <td>195</td>\n",
       "      <td>Terminator, The (1984)</td>\n",
       "    </tr>\n",
       "    <tr>\n",
       "      <th>11</th>\n",
       "      <td>12</td>\n",
       "      <td>0.963291</td>\n",
       "      <td>12</td>\n",
       "      <td>Usual Suspects, The (1995)</td>\n",
       "    </tr>\n",
       "    <tr>\n",
       "      <th>63</th>\n",
       "      <td>64</td>\n",
       "      <td>1.013358</td>\n",
       "      <td>64</td>\n",
       "      <td>Shawshank Redemption, The (1994)</td>\n",
       "    </tr>\n",
       "    <tr>\n",
       "      <th>203</th>\n",
       "      <td>204</td>\n",
       "      <td>1.027621</td>\n",
       "      <td>204</td>\n",
       "      <td>Back to the Future (1985)</td>\n",
       "    </tr>\n",
       "    <tr>\n",
       "      <th>172</th>\n",
       "      <td>173</td>\n",
       "      <td>1.050158</td>\n",
       "      <td>173</td>\n",
       "      <td>Princess Bride, The (1987)</td>\n",
       "    </tr>\n",
       "  </tbody>\n",
       "</table>\n",
       "</div>"
      ],
      "text/plain": [
       "     movie_id  distance  movie_id  \\\n",
       "49         50  0.000000        50   \n",
       "171       172  0.345361       172   \n",
       "180       181  0.583759       181   \n",
       "173       174  0.606633       174   \n",
       "165       166  0.770845       166   \n",
       "209       210  0.868100       210   \n",
       "194       195  0.931801       195   \n",
       "11         12  0.963291        12   \n",
       "63         64  1.013358        64   \n",
       "203       204  1.027621       204   \n",
       "172       173  1.050158       173   \n",
       "\n",
       "                                         movie_name  \n",
       "49                                 Star Wars (1977)  \n",
       "171                 Empire Strikes Back, The (1980)  \n",
       "180                       Return of the Jedi (1983)  \n",
       "173                  Raiders of the Lost Ark (1981)  \n",
       "165  Manon of the Spring (Manon des sources) (1986)  \n",
       "209       Indiana Jones and the Last Crusade (1989)  \n",
       "194                          Terminator, The (1984)  \n",
       "11                       Usual Suspects, The (1995)  \n",
       "63                 Shawshank Redemption, The (1994)  \n",
       "203                       Back to the Future (1985)  \n",
       "172                      Princess Bride, The (1987)  "
      ]
     },
     "execution_count": 3237,
     "metadata": {},
     "output_type": "execute_result"
    }
   ],
   "source": [
    "closet_10 = pd.DataFrame(d_starwar).sort_values(by=['distance']).head(11)\n",
    "result_df = pd.concat([closet_10, movie], axis=1, join='inner')\n",
    "result_df"
   ]
  },
  {
   "cell_type": "markdown",
   "metadata": {},
   "source": [
    "**Movie: My Fair Lady**"
   ]
  },
  {
   "cell_type": "code",
   "execution_count": 3259,
   "metadata": {},
   "outputs": [
    {
     "data": {
      "text/html": [
       "<div>\n",
       "<style scoped>\n",
       "    .dataframe tbody tr th:only-of-type {\n",
       "        vertical-align: middle;\n",
       "    }\n",
       "\n",
       "    .dataframe tbody tr th {\n",
       "        vertical-align: top;\n",
       "    }\n",
       "\n",
       "    .dataframe thead th {\n",
       "        text-align: right;\n",
       "    }\n",
       "</style>\n",
       "<table border=\"1\" class=\"dataframe\">\n",
       "  <thead>\n",
       "    <tr style=\"text-align: right;\">\n",
       "      <th></th>\n",
       "      <th>distance</th>\n",
       "      <th>movie_name</th>\n",
       "    </tr>\n",
       "    <tr>\n",
       "      <th>movie_id</th>\n",
       "      <th></th>\n",
       "      <th></th>\n",
       "    </tr>\n",
       "  </thead>\n",
       "  <tbody>\n",
       "    <tr>\n",
       "      <th>485</th>\n",
       "      <td>1.875162</td>\n",
       "      <td>My Fair Lady (1964)</td>\n",
       "    </tr>\n",
       "  </tbody>\n",
       "</table>\n",
       "</div>"
      ],
      "text/plain": [
       "          distance           movie_name\n",
       "movie_id                               \n",
       "485       1.875162  My Fair Lady (1964)"
      ]
     },
     "execution_count": 3259,
     "metadata": {},
     "output_type": "execute_result"
    }
   ],
   "source": [
    "movie_dist_name[movie_dist_name['movie_name']=='My Fair Lady (1964)']"
   ]
  },
  {
   "cell_type": "code",
   "execution_count": 3260,
   "metadata": {},
   "outputs": [
    {
     "name": "stdout",
     "output_type": "stream",
     "text": [
      "[ 0.40281151 -1.45304957 -0.03419538 -0.20805946 -0.2912574   0.86458486\n",
      "  0.43292418  0.32559123  0.18826169  0.19222785]\n"
     ]
    },
    {
     "data": {
      "text/html": [
       "<div>\n",
       "<style scoped>\n",
       "    .dataframe tbody tr th:only-of-type {\n",
       "        vertical-align: middle;\n",
       "    }\n",
       "\n",
       "    .dataframe tbody tr th {\n",
       "        vertical-align: top;\n",
       "    }\n",
       "\n",
       "    .dataframe thead th {\n",
       "        text-align: right;\n",
       "    }\n",
       "</style>\n",
       "<table border=\"1\" class=\"dataframe\">\n",
       "  <thead>\n",
       "    <tr style=\"text-align: right;\">\n",
       "      <th></th>\n",
       "      <th>movie_id</th>\n",
       "      <th>distance</th>\n",
       "      <th>movie_id</th>\n",
       "      <th>movie_name</th>\n",
       "    </tr>\n",
       "  </thead>\n",
       "  <tbody>\n",
       "    <tr>\n",
       "      <th>484</th>\n",
       "      <td>485</td>\n",
       "      <td>0.000000</td>\n",
       "      <td>485</td>\n",
       "      <td>My Fair Lady (1964)</td>\n",
       "    </tr>\n",
       "    <tr>\n",
       "      <th>415</th>\n",
       "      <td>416</td>\n",
       "      <td>0.806928</td>\n",
       "      <td>416</td>\n",
       "      <td>Old Yeller (1957)</td>\n",
       "    </tr>\n",
       "    <tr>\n",
       "      <th>637</th>\n",
       "      <td>638</td>\n",
       "      <td>0.811173</td>\n",
       "      <td>638</td>\n",
       "      <td>Return of Martin Guerre, The (Retour de Martin...</td>\n",
       "    </tr>\n",
       "    <tr>\n",
       "      <th>601</th>\n",
       "      <td>602</td>\n",
       "      <td>0.816138</td>\n",
       "      <td>602</td>\n",
       "      <td>American in Paris, An (1951)</td>\n",
       "    </tr>\n",
       "    <tr>\n",
       "      <th>628</th>\n",
       "      <td>629</td>\n",
       "      <td>0.878372</td>\n",
       "      <td>629</td>\n",
       "      <td>Victor/Victoria (1982)</td>\n",
       "    </tr>\n",
       "    <tr>\n",
       "      <th>418</th>\n",
       "      <td>419</td>\n",
       "      <td>0.884857</td>\n",
       "      <td>419</td>\n",
       "      <td>Mary Poppins (1964)</td>\n",
       "    </tr>\n",
       "    <tr>\n",
       "      <th>784</th>\n",
       "      <td>785</td>\n",
       "      <td>1.026284</td>\n",
       "      <td>785</td>\n",
       "      <td>Only You (1994)</td>\n",
       "    </tr>\n",
       "    <tr>\n",
       "      <th>698</th>\n",
       "      <td>699</td>\n",
       "      <td>1.088584</td>\n",
       "      <td>699</td>\n",
       "      <td>Little Women (1994)</td>\n",
       "    </tr>\n",
       "    <tr>\n",
       "      <th>603</th>\n",
       "      <td>604</td>\n",
       "      <td>1.136733</td>\n",
       "      <td>604</td>\n",
       "      <td>It Happened One Night (1934)</td>\n",
       "    </tr>\n",
       "    <tr>\n",
       "      <th>485</th>\n",
       "      <td>486</td>\n",
       "      <td>1.143584</td>\n",
       "      <td>486</td>\n",
       "      <td>Sabrina (1954)</td>\n",
       "    </tr>\n",
       "    <tr>\n",
       "      <th>212</th>\n",
       "      <td>213</td>\n",
       "      <td>1.153438</td>\n",
       "      <td>213</td>\n",
       "      <td>Room with a View, A (1986)</td>\n",
       "    </tr>\n",
       "  </tbody>\n",
       "</table>\n",
       "</div>"
      ],
      "text/plain": [
       "     movie_id  distance  movie_id  \\\n",
       "484       485  0.000000       485   \n",
       "415       416  0.806928       416   \n",
       "637       638  0.811173       638   \n",
       "601       602  0.816138       602   \n",
       "628       629  0.878372       629   \n",
       "418       419  0.884857       419   \n",
       "784       785  1.026284       785   \n",
       "698       699  1.088584       699   \n",
       "603       604  1.136733       604   \n",
       "485       486  1.143584       486   \n",
       "212       213  1.153438       213   \n",
       "\n",
       "                                            movie_name  \n",
       "484                                My Fair Lady (1964)  \n",
       "415                                  Old Yeller (1957)  \n",
       "637  Return of Martin Guerre, The (Retour de Martin...  \n",
       "601                       American in Paris, An (1951)  \n",
       "628                             Victor/Victoria (1982)  \n",
       "418                                Mary Poppins (1964)  \n",
       "784                                    Only You (1994)  \n",
       "698                                Little Women (1994)  \n",
       "603                       It Happened One Night (1934)  \n",
       "485                                     Sabrina (1954)  \n",
       "212                         Room with a View, A (1986)  "
      ]
     },
     "execution_count": 3260,
     "metadata": {},
     "output_type": "execute_result"
    }
   ],
   "source": [
    "d_firstlady = find_closet_movie(485, best_v_T, 10, movie)\n",
    "closet_10 = pd.DataFrame(d_firstlady).sort_values(by=['distance']).head(11)\n",
    "result_df = pd.concat([closet_10, movie], axis=1, join='inner')\n",
    "result_df"
   ]
  },
  {
   "cell_type": "markdown",
   "metadata": {},
   "source": [
    "**Movie: GoodFellas (1990)**"
   ]
  },
  {
   "cell_type": "code",
   "execution_count": 3255,
   "metadata": {},
   "outputs": [
    {
     "data": {
      "text/html": [
       "<div>\n",
       "<style scoped>\n",
       "    .dataframe tbody tr th:only-of-type {\n",
       "        vertical-align: middle;\n",
       "    }\n",
       "\n",
       "    .dataframe tbody tr th {\n",
       "        vertical-align: top;\n",
       "    }\n",
       "\n",
       "    .dataframe thead th {\n",
       "        text-align: right;\n",
       "    }\n",
       "</style>\n",
       "<table border=\"1\" class=\"dataframe\">\n",
       "  <thead>\n",
       "    <tr style=\"text-align: right;\">\n",
       "      <th></th>\n",
       "      <th>distance</th>\n",
       "      <th>movie_name</th>\n",
       "    </tr>\n",
       "    <tr>\n",
       "      <th>movie_id</th>\n",
       "      <th></th>\n",
       "      <th></th>\n",
       "    </tr>\n",
       "  </thead>\n",
       "  <tbody>\n",
       "    <tr>\n",
       "      <th>182</th>\n",
       "      <td>1.577554</td>\n",
       "      <td>GoodFellas (1990)</td>\n",
       "    </tr>\n",
       "  </tbody>\n",
       "</table>\n",
       "</div>"
      ],
      "text/plain": [
       "          distance         movie_name\n",
       "movie_id                             \n",
       "182       1.577554  GoodFellas (1990)"
      ]
     },
     "execution_count": 3255,
     "metadata": {},
     "output_type": "execute_result"
    }
   ],
   "source": [
    "movie_dist_name[movie_dist_name['movie_name']=='GoodFellas (1990)']"
   ]
  },
  {
   "cell_type": "code",
   "execution_count": 3257,
   "metadata": {},
   "outputs": [
    {
     "name": "stdout",
     "output_type": "stream",
     "text": [
      "[-0.06092041  0.81896838  0.29121292 -0.63276504 -0.14229678  0.70600916\n",
      "  0.55139053  0.41415848 -0.43536626  0.38112849]\n"
     ]
    },
    {
     "data": {
      "text/html": [
       "<div>\n",
       "<style scoped>\n",
       "    .dataframe tbody tr th:only-of-type {\n",
       "        vertical-align: middle;\n",
       "    }\n",
       "\n",
       "    .dataframe tbody tr th {\n",
       "        vertical-align: top;\n",
       "    }\n",
       "\n",
       "    .dataframe thead th {\n",
       "        text-align: right;\n",
       "    }\n",
       "</style>\n",
       "<table border=\"1\" class=\"dataframe\">\n",
       "  <thead>\n",
       "    <tr style=\"text-align: right;\">\n",
       "      <th></th>\n",
       "      <th>movie_id</th>\n",
       "      <th>distance</th>\n",
       "      <th>movie_id</th>\n",
       "      <th>movie_name</th>\n",
       "    </tr>\n",
       "  </thead>\n",
       "  <tbody>\n",
       "    <tr>\n",
       "      <th>181</th>\n",
       "      <td>182</td>\n",
       "      <td>0.000000</td>\n",
       "      <td>182</td>\n",
       "      <td>GoodFellas (1990)</td>\n",
       "    </tr>\n",
       "    <tr>\n",
       "      <th>187</th>\n",
       "      <td>188</td>\n",
       "      <td>0.749619</td>\n",
       "      <td>188</td>\n",
       "      <td>Full Metal Jacket (1987)</td>\n",
       "    </tr>\n",
       "    <tr>\n",
       "      <th>176</th>\n",
       "      <td>177</td>\n",
       "      <td>0.761297</td>\n",
       "      <td>177</td>\n",
       "      <td>Good, The Bad and The Ugly, The (1966)</td>\n",
       "    </tr>\n",
       "    <tr>\n",
       "      <th>186</th>\n",
       "      <td>187</td>\n",
       "      <td>0.862216</td>\n",
       "      <td>187</td>\n",
       "      <td>Godfather: Part II, The (1974)</td>\n",
       "    </tr>\n",
       "    <tr>\n",
       "      <th>522</th>\n",
       "      <td>523</td>\n",
       "      <td>0.923281</td>\n",
       "      <td>523</td>\n",
       "      <td>Cool Hand Luke (1967)</td>\n",
       "    </tr>\n",
       "    <tr>\n",
       "      <th>517</th>\n",
       "      <td>518</td>\n",
       "      <td>0.923318</td>\n",
       "      <td>518</td>\n",
       "      <td>Miller's Crossing (1990)</td>\n",
       "    </tr>\n",
       "    <tr>\n",
       "      <th>1657</th>\n",
       "      <td>1658</td>\n",
       "      <td>0.930139</td>\n",
       "      <td>1658</td>\n",
       "      <td>Substance of Fire, The (1996)</td>\n",
       "    </tr>\n",
       "    <tr>\n",
       "      <th>156</th>\n",
       "      <td>157</td>\n",
       "      <td>0.937978</td>\n",
       "      <td>157</td>\n",
       "      <td>Platoon (1986)</td>\n",
       "    </tr>\n",
       "    <tr>\n",
       "      <th>204</th>\n",
       "      <td>205</td>\n",
       "      <td>0.960092</td>\n",
       "      <td>205</td>\n",
       "      <td>Patton (1970)</td>\n",
       "    </tr>\n",
       "    <tr>\n",
       "      <th>126</th>\n",
       "      <td>127</td>\n",
       "      <td>0.966998</td>\n",
       "      <td>127</td>\n",
       "      <td>Godfather, The (1972)</td>\n",
       "    </tr>\n",
       "    <tr>\n",
       "      <th>292</th>\n",
       "      <td>293</td>\n",
       "      <td>0.971183</td>\n",
       "      <td>293</td>\n",
       "      <td>Donnie Brasco (1997)</td>\n",
       "    </tr>\n",
       "  </tbody>\n",
       "</table>\n",
       "</div>"
      ],
      "text/plain": [
       "      movie_id  distance  movie_id                              movie_name\n",
       "181        182  0.000000       182                       GoodFellas (1990)\n",
       "187        188  0.749619       188                Full Metal Jacket (1987)\n",
       "176        177  0.761297       177  Good, The Bad and The Ugly, The (1966)\n",
       "186        187  0.862216       187          Godfather: Part II, The (1974)\n",
       "522        523  0.923281       523                   Cool Hand Luke (1967)\n",
       "517        518  0.923318       518                Miller's Crossing (1990)\n",
       "1657      1658  0.930139      1658           Substance of Fire, The (1996)\n",
       "156        157  0.937978       157                          Platoon (1986)\n",
       "204        205  0.960092       205                           Patton (1970)\n",
       "126        127  0.966998       127                   Godfather, The (1972)\n",
       "292        293  0.971183       293                    Donnie Brasco (1997)"
      ]
     },
     "execution_count": 3257,
     "metadata": {},
     "output_type": "execute_result"
    }
   ],
   "source": [
    "d_goodfellas = find_closet_movie(182, best_v_T, 10, movie)\n",
    "closet_10 = pd.DataFrame(d_goodfellas).sort_values(by=['distance']).head(11)\n",
    "result_df = pd.concat([closet_10, movie], axis=1, join='inner')\n",
    "result_df"
   ]
  }
 ],
 "metadata": {
  "kernelspec": {
   "display_name": "Python 3",
   "language": "python",
   "name": "python3"
  },
  "language_info": {
   "codemirror_mode": {
    "name": "ipython",
    "version": 3
   },
   "file_extension": ".py",
   "mimetype": "text/x-python",
   "name": "python",
   "nbconvert_exporter": "python",
   "pygments_lexer": "ipython3",
   "version": "3.7.3"
  }
 },
 "nbformat": 4,
 "nbformat_minor": 2
}
