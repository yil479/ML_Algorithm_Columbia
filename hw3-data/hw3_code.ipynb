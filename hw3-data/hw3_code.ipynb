{
 "cells": [
  {
   "cell_type": "markdown",
   "metadata": {},
   "source": [
    "# HW3"
   ]
  },
  {
   "cell_type": "code",
   "execution_count": 142,
   "metadata": {},
   "outputs": [],
   "source": [
    "import numpy as np\n",
    "import pandas as pd\n",
    "import matplotlib.pyplot as plt\n",
    "#from IPython.display import display\n",
    "from numpy import linalg as LA\n",
    "from scipy.stats import multivariate_normal"
   ]
  },
  {
   "cell_type": "markdown",
   "metadata": {},
   "source": [
    "## Problem 1 (K-means)"
   ]
  },
  {
   "cell_type": "markdown",
   "metadata": {},
   "source": [
    "Implement the K-means algorithm discussed in class. Generate 500 observations from a mixture of three Gaussians on R2 with mixing weights π= [0.2,0.5,0.3]and means μ and covariances Σ"
   ]
  },
  {
   "cell_type": "markdown",
   "metadata": {},
   "source": [
    "Genearate data: use np.random.multivariate_normal do draw random samples from a multivariate normal distribution."
   ]
  },
  {
   "cell_type": "code",
   "execution_count": 143,
   "metadata": {},
   "outputs": [],
   "source": [
    "mu1 = np.array([0,0])\n",
    "mu2 = np.array([3,0])\n",
    "mu3 = np.array([0,3])\n",
    "cov = np.matrix([[1,0],[0,1]])\n",
    "gaussdata1 = np.random.multivariate_normal(mu1,cov,500)\n",
    "gaussdata2 = np.random.multivariate_normal(mu2,cov,500)\n",
    "gaussdata3 = np.random.multivariate_normal(mu3,cov,500)"
   ]
  },
  {
   "cell_type": "markdown",
   "metadata": {},
   "source": [
    "Generate cluster label given probability distribution"
   ]
  },
  {
   "cell_type": "code",
   "execution_count": 76,
   "metadata": {},
   "outputs": [],
   "source": [
    "cluster_label = np.random.choice(range(3), size=500, p=[0.2,0.5,0.3])"
   ]
  },
  {
   "cell_type": "code",
   "execution_count": 77,
   "metadata": {},
   "outputs": [],
   "source": [
    "data = np.concatenate((gaussdata1[cluster_label==0,:],\n",
    "                       gaussdata2[cluster_label==1,:],\n",
    "                       gaussdata3[cluster_label==2,:] ))"
   ]
  },
  {
   "cell_type": "code",
   "execution_count": 78,
   "metadata": {},
   "outputs": [
    {
     "data": {
      "text/plain": [
       "(500, 2)"
      ]
     },
     "execution_count": 78,
     "metadata": {},
     "output_type": "execute_result"
    }
   ],
   "source": [
    "data.shape"
   ]
  },
  {
   "cell_type": "markdown",
   "metadata": {},
   "source": [
    "#### a)  For K= 2,3,4,5, plot the value of the K-means objective function per iteration for 20 iterations (the algorithm may converge before that)."
   ]
  },
  {
   "cell_type": "code",
   "execution_count": 79,
   "metadata": {},
   "outputs": [],
   "source": [
    "def Kmeans(start_lst, K, iterations, dataset):\n",
    "    \"\"\"\n",
    "    Return cost_lst after implementing K means clustering. cost_lst is a list containg cost function\n",
    "    after each iteration\n",
    "    \n",
    "    @start_lst: initial cluster mean assignment.It's a list of array, each array is a \n",
    "    cluster mean, len(start_lst) = K\n",
    "    @K: K-means\n",
    "    @iterations: number of iterations\n",
    "    @dataset: dataset\n",
    "    \"\"\"\n",
    "\n",
    "    cost_lst = []\n",
    "    for iteration in range(0,iterations):\n",
    "        #assign xi to closet centroid\n",
    "        cluster_assignment = [] #use to record cluster assignment, change each iteration\n",
    "        for i in range(0,500):\n",
    "            dist_lst = []\n",
    "            for item in start_lst:\n",
    "                dist = np.sum((dataset[i] - item)**2)\n",
    "                dist_lst.append(dist)\n",
    "                new_cluster = dist_lst.index(min(dist_lst))\n",
    "            cluster_assignment.append(new_cluster)\n",
    "        #new cluster\n",
    "        cluster_data = []\n",
    "        for index in range(0,K):\n",
    "            cluster = dataset[np.array(cluster_assignment)==index,:]\n",
    "            cluster_data.append(cluster) #cluster_data[0] means cluster1\n",
    "        #update cluster mean and centroid\n",
    "        cost_count = 0\n",
    "        new_start = []\n",
    "        for index2 in range(0,K):\n",
    "            cost_part = np.sum((cluster_data[index2]-start_lst[index2])**2)\n",
    "            cost_count += cost_part\n",
    "            #one_start is updated cluster mean\n",
    "            one_start = np.average(cluster_data[index2], axis=0)\n",
    "            new_start.append(one_start) #len(new_start) = K, list of array\n",
    "        cost_lst.append(cost_count)\n",
    "        start_lst = new_start\n",
    "\n",
    "        #new_start = []\n",
    "        #for index3 in range(0,K):\n",
    "            #start_part = np.average(cluster_data[index3], axis=0)\n",
    "            #print(start_part)\n",
    "            #new_start.append(start_part)\n",
    "        #print(new_start)\n",
    "        #start_lst = new_start\n",
    "    return cost_lst, cluster_data\n",
    "        \n"
   ]
  },
  {
   "cell_type": "markdown",
   "metadata": {},
   "source": [
    "K = 2, 3, 4, 5, set random start"
   ]
  },
  {
   "cell_type": "code",
   "execution_count": 80,
   "metadata": {},
   "outputs": [],
   "source": [
    "#random start\n",
    "random = np.random.randint(0,501,size=5)\n",
    "start1 = data[random[0]]\n",
    "start2 = data[random[1]]\n",
    "start3 = data[random[2]]\n",
    "start4 = data[random[3]]\n",
    "start5 = data[random[4]]"
   ]
  },
  {
   "cell_type": "code",
   "execution_count": 81,
   "metadata": {},
   "outputs": [],
   "source": [
    "K2 = (start1, start2)\n",
    "K3 = (start1, start2, start3)\n",
    "K4 = (start1, start2, start3, start4)\n",
    "K5 = (start1, start2, start3, start4, start5)"
   ]
  },
  {
   "cell_type": "markdown",
   "metadata": {},
   "source": [
    "Obtain change of cost function by implementing Kmeans function"
   ]
  },
  {
   "cell_type": "code",
   "execution_count": 82,
   "metadata": {},
   "outputs": [],
   "source": [
    "cost_k2, cluster_K2 = Kmeans(K2, 2, 20, data)\n",
    "cost_k3, cluster_K3 = Kmeans(K3, 3, 20, data)\n",
    "cost_k4, cluster_K4 = Kmeans(K4, 4, 20, data)\n",
    "cost_k5, cluster_K5 = Kmeans(K5, 5, 20, data)"
   ]
  },
  {
   "cell_type": "code",
   "execution_count": 83,
   "metadata": {},
   "outputs": [
    {
     "data": {
      "text/plain": [
       "Text(0.5, 1.0, 'K-means Clustering: Cost Function By Iterations')"
      ]
     },
     "execution_count": 83,
     "metadata": {},
     "output_type": "execute_result"
    },
    {
     "data": {
      "image/png": "[encoded data removed]",
      "text/plain": [
       "<Figure size 576x432 with 1 Axes>"
      ]
     },
     "metadata": {
      "needs_background": "light"
     },
     "output_type": "display_data"
    }
   ],
   "source": [
    "plt.figure(figsize=(8,6))\n",
    "x_axis = np.arange(1,21)\n",
    "plt.plot(x_axis,cost_k2,label='K=2')\n",
    "plt.plot(x_axis,cost_k3,label='K=3')\n",
    "plt.plot(x_axis,cost_k4,label='K=4')\n",
    "plt.plot(x_axis,cost_k5,label='K=5')\n",
    "plt.legend()\n",
    "plt.xticks(x_axis)\n",
    "plt.xlabel('iteration')\n",
    "plt.ylabel('cost function')\n",
    "plt.title('K-means Clustering: Cost Function By Iterations')"
   ]
  },
  {
   "cell_type": "markdown",
   "metadata": {},
   "source": [
    "b)  For K= 3,5, plot the 500 data points and indicate the cluster of each for the final iteration by marking it with a color or a symbol."
   ]
  },
  {
   "cell_type": "code",
   "execution_count": 84,
   "metadata": {},
   "outputs": [
    {
     "data": {
      "text/plain": [
       "Text(0.5, 1.0, 'K-means Clustering: K=3')"
      ]
     },
     "execution_count": 84,
     "metadata": {},
     "output_type": "execute_result"
    },
    {
     "data": {
      "image/png": "[encoded data removed]",
      "text/plain": [
       "<Figure size 576x432 with 1 Axes>"
      ]
     },
     "metadata": {
      "needs_background": "light"
     },
     "output_type": "display_data"
    }
   ],
   "source": [
    "plt.figure(figsize=(8,6))\n",
    "\n",
    "pd_cluster = pd.DataFrame(cluster_K3[0])\n",
    "x1 = pd_cluster[0].tolist()\n",
    "y1 = pd_cluster[1].tolist()\n",
    "plt.scatter(x1,y1, label = \"Cluster1\")\n",
    "\n",
    "pd_cluster = pd.DataFrame(cluster_K3[1])\n",
    "x2 = pd_cluster[0].tolist()\n",
    "y2 = pd_cluster[1].tolist()\n",
    "plt.scatter(x2,y2, label = \"Cluster2\")\n",
    "\n",
    "pd_cluster = pd.DataFrame(cluster_K3[2])\n",
    "x3 = pd_cluster[0].tolist()\n",
    "y3 = pd_cluster[1].tolist()\n",
    "plt.scatter(x3,y3, label = \"Cluster3\")\n",
    "\n",
    "plt.legend()\n",
    "plt.xlabel('x')\n",
    "plt.ylabel('y')\n",
    "plt.title('K-means Clustering: K=3')"
   ]
  },
  {
   "cell_type": "code",
   "execution_count": 122,
   "metadata": {},
   "outputs": [
    {
     "data": {
      "text/plain": [
       "Text(0.5, 1.0, 'K-means Clustering: K=5')"
      ]
     },
     "execution_count": 122,
     "metadata": {},
     "output_type": "execute_result"
    },
    {
     "data": {
      "image/png": "[encoded data removed]",
      "text/plain": [
       "<Figure size 576x432 with 1 Axes>"
      ]
     },
     "metadata": {
      "needs_background": "light"
     },
     "output_type": "display_data"
    }
   ],
   "source": [
    "plt.figure(figsize=(8,6))\n",
    "pd_cluster = pd.DataFrame(cluster_K5[0])\n",
    "x1 = pd_cluster[0].tolist()\n",
    "y1 = pd_cluster[1].tolist()\n",
    "plt.scatter(x1,y1, label = \"Cluster1\")\n",
    "pd_cluster = pd.DataFrame(cluster_K5[1])\n",
    "x2 = pd_cluster[0].tolist()\n",
    "y2 = pd_cluster[1].tolist()\n",
    "plt.scatter(x2,y2, label = \"Cluster2\")\n",
    "pd_cluster = pd.DataFrame(cluster_K5[2])\n",
    "x3 = pd_cluster[0].tolist()\n",
    "y3 = pd_cluster[1].tolist()\n",
    "plt.scatter(x3,y3, label = \"Cluster3\")\n",
    "pd_cluster = pd.DataFrame(cluster_K5[3])\n",
    "x4 = pd_cluster[0].tolist()\n",
    "y4 = pd_cluster[1].tolist()\n",
    "plt.scatter(x4,y4, label = \"Cluster5\")\n",
    "pd_cluster = pd.DataFrame(cluster_K5[4])\n",
    "x5 = pd_cluster[0].tolist()\n",
    "y5 = pd_cluster[1].tolist()\n",
    "plt.scatter(x5,y5, label = \"Cluster5\")\n",
    "plt.legend()\n",
    "plt.xlabel('x')\n",
    "plt.ylabel('y')\n",
    "plt.title('K-means Clustering: K=5')"
   ]
  },
  {
   "cell_type": "markdown",
   "metadata": {},
   "source": [
    "## Problem 2 (Bayes classifier revisited)– 30 points"
   ]
  },
  {
   "cell_type": "markdown",
   "metadata": {},
   "source": [
    "In this problem, you will implement the EM algorithm for the Gaussian mixture model, with the purposeof using it in a Bayes classifier. The data is a processed version of the spam email data you looked at inHomework 2. Now, each labeled pair(x,y)hasx∈R10. We discussed how the Bayes classifier learnsclass-conditional densities, and unsupervised learning algorithms can be useful here.  In this problem,the class conditional density will be the Gaussian mixture model (GMM). In these experiments, pleaseinitialize  all  covariance  matrices  to  the  empirical  covariance  of  the  data  being  modeled.   Randomlyinitialize the means by sampling from a single multivariate Gaussian where the parameters are the meanand covariance of the data being modeled. Initialize the mixing weights to be uniform."
   ]
  },
  {
   "cell_type": "markdown",
   "metadata": {},
   "source": [
    "### a)  Implement the EM algorithm for the GMM described in class.  Using the training data provided,for each class separately, plot the log marginal objective function for a 3-Gaussian mixture modelover 10 different runs and for iterations 5 to 30. There should be two plots, each with 10 curves."
   ]
  },
  {
   "cell_type": "code",
   "execution_count": 86,
   "metadata": {},
   "outputs": [],
   "source": [
    "X_train = pd.read_csv('Prob2_Xtrain.csv', header=None)\n",
    "y_train = pd.read_csv('Prob2_ytrain.csv', header=None)\n",
    "X_test = pd.read_csv('Prob2_Xtest.csv', header=None)\n",
    "y_test = pd.read_csv('Prob2_ytest.csv', header=None)"
   ]
  },
  {
   "cell_type": "code",
   "execution_count": 87,
   "metadata": {},
   "outputs": [
    {
     "data": {
      "text/html": [
       "<div>\n",
       "<style scoped>\n",
       "    .dataframe tbody tr th:only-of-type {\n",
       "        vertical-align: middle;\n",
       "    }\n",
       "\n",
       "    .dataframe tbody tr th {\n",
       "        vertical-align: top;\n",
       "    }\n",
       "\n",
       "    .dataframe thead th {\n",
       "        text-align: right;\n",
       "    }\n",
       "</style>\n",
       "<table border=\"1\" class=\"dataframe\">\n",
       "  <thead>\n",
       "    <tr style=\"text-align: right;\">\n",
       "      <th></th>\n",
       "      <th>0</th>\n",
       "      <th>1</th>\n",
       "      <th>2</th>\n",
       "      <th>3</th>\n",
       "      <th>4</th>\n",
       "      <th>5</th>\n",
       "      <th>6</th>\n",
       "      <th>7</th>\n",
       "      <th>8</th>\n",
       "      <th>9</th>\n",
       "    </tr>\n",
       "  </thead>\n",
       "  <tbody>\n",
       "    <tr>\n",
       "      <th>0</th>\n",
       "      <td>-0.042985</td>\n",
       "      <td>0.402080</td>\n",
       "      <td>0.060133</td>\n",
       "      <td>0.008235</td>\n",
       "      <td>-0.011964</td>\n",
       "      <td>0.017788</td>\n",
       "      <td>0.004096</td>\n",
       "      <td>-0.041283</td>\n",
       "      <td>-0.018114</td>\n",
       "      <td>0.003424</td>\n",
       "    </tr>\n",
       "    <tr>\n",
       "      <th>1</th>\n",
       "      <td>-0.021163</td>\n",
       "      <td>0.197970</td>\n",
       "      <td>0.023161</td>\n",
       "      <td>0.000774</td>\n",
       "      <td>-0.000446</td>\n",
       "      <td>0.037280</td>\n",
       "      <td>0.002865</td>\n",
       "      <td>-0.012920</td>\n",
       "      <td>0.027745</td>\n",
       "      <td>-0.013744</td>\n",
       "    </tr>\n",
       "    <tr>\n",
       "      <th>2</th>\n",
       "      <td>-0.033537</td>\n",
       "      <td>0.307060</td>\n",
       "      <td>0.048742</td>\n",
       "      <td>0.011210</td>\n",
       "      <td>0.029054</td>\n",
       "      <td>-0.073224</td>\n",
       "      <td>-0.007833</td>\n",
       "      <td>-0.069956</td>\n",
       "      <td>-0.021547</td>\n",
       "      <td>-0.010270</td>\n",
       "    </tr>\n",
       "    <tr>\n",
       "      <th>3</th>\n",
       "      <td>-0.033537</td>\n",
       "      <td>0.307060</td>\n",
       "      <td>0.048742</td>\n",
       "      <td>0.011210</td>\n",
       "      <td>0.029054</td>\n",
       "      <td>-0.073224</td>\n",
       "      <td>-0.007833</td>\n",
       "      <td>-0.069956</td>\n",
       "      <td>-0.021547</td>\n",
       "      <td>-0.010270</td>\n",
       "    </tr>\n",
       "    <tr>\n",
       "      <th>4</th>\n",
       "      <td>-0.003041</td>\n",
       "      <td>0.028877</td>\n",
       "      <td>-0.000203</td>\n",
       "      <td>-0.003211</td>\n",
       "      <td>-0.005451</td>\n",
       "      <td>0.034991</td>\n",
       "      <td>0.003081</td>\n",
       "      <td>0.005470</td>\n",
       "      <td>0.026079</td>\n",
       "      <td>-0.018609</td>\n",
       "    </tr>\n",
       "  </tbody>\n",
       "</table>\n",
       "</div>"
      ],
      "text/plain": [
       "          0         1         2         3         4         5         6  \\\n",
       "0 -0.042985  0.402080  0.060133  0.008235 -0.011964  0.017788  0.004096   \n",
       "1 -0.021163  0.197970  0.023161  0.000774 -0.000446  0.037280  0.002865   \n",
       "2 -0.033537  0.307060  0.048742  0.011210  0.029054 -0.073224 -0.007833   \n",
       "3 -0.033537  0.307060  0.048742  0.011210  0.029054 -0.073224 -0.007833   \n",
       "4 -0.003041  0.028877 -0.000203 -0.003211 -0.005451  0.034991  0.003081   \n",
       "\n",
       "          7         8         9  \n",
       "0 -0.041283 -0.018114  0.003424  \n",
       "1 -0.012920  0.027745 -0.013744  \n",
       "2 -0.069956 -0.021547 -0.010270  \n",
       "3 -0.069956 -0.021547 -0.010270  \n",
       "4  0.005470  0.026079 -0.018609  "
      ]
     },
     "execution_count": 87,
     "metadata": {},
     "output_type": "execute_result"
    }
   ],
   "source": [
    "X_train.head()"
   ]
  },
  {
   "cell_type": "code",
   "execution_count": 88,
   "metadata": {},
   "outputs": [],
   "source": [
    "train_combined = pd.concat([X_train, y_train], axis=1, sort=False)"
   ]
  },
  {
   "cell_type": "code",
   "execution_count": 89,
   "metadata": {},
   "outputs": [],
   "source": [
    "train_1 = train_combined[train_combined.iloc[:,-1]==1]\n",
    "train_0 = train_combined[train_combined.iloc[:,-1]==0]"
   ]
  },
  {
   "cell_type": "markdown",
   "metadata": {},
   "source": [
    "Split X and y"
   ]
  },
  {
   "cell_type": "code",
   "execution_count": 90,
   "metadata": {},
   "outputs": [],
   "source": [
    "X_train_1 = train_1.iloc[:,0:10]\n",
    "X_train_0 = train_0.iloc[:,0:10]\n",
    "y_train_1 = train_1.iloc[:,-1]\n",
    "y_train_0 = train_0.iloc[:,-1]"
   ]
  },
  {
   "cell_type": "markdown",
   "metadata": {},
   "source": [
    "Initialization Example"
   ]
  },
  {
   "cell_type": "markdown",
   "metadata": {},
   "source": [
    "Initialize covariance matrices to  the empirical covariance of the data being modeleled."
   ]
  },
  {
   "cell_type": "code",
   "execution_count": 91,
   "metadata": {},
   "outputs": [
    {
     "data": {
      "text/plain": [
       "(10, 10)"
      ]
     },
     "execution_count": 91,
     "metadata": {},
     "output_type": "execute_result"
    }
   ],
   "source": [
    "init_cov_ind = np.cov(X_train_1.transpose())\n",
    "init_cov_ind.shape"
   ]
  },
  {
   "cell_type": "code",
   "execution_count": 92,
   "metadata": {},
   "outputs": [
    {
     "data": {
      "text/plain": [
       "(3, 10, 10)"
      ]
     },
     "execution_count": 92,
     "metadata": {},
     "output_type": "execute_result"
    }
   ],
   "source": [
    "init_cov  = np.array([init_cov_ind,init_cov_ind,init_cov_ind])\n",
    "init_cov.shape"
   ]
  },
  {
   "cell_type": "markdown",
   "metadata": {},
   "source": [
    "Initialize means by sampling from a single multivariate Gaussian where parameters  are  the  mean and covariance of the data  being modeled."
   ]
  },
  {
   "cell_type": "code",
   "execution_count": 93,
   "metadata": {},
   "outputs": [
    {
     "data": {
      "text/plain": [
       "array([-0.03191566,  0.29039937,  0.04010977, -0.01626588, -0.01027927,\n",
       "        0.04994353, -0.0139956 ,  0.00346759, -0.00638342, -0.00567958])"
      ]
     },
     "execution_count": 93,
     "metadata": {},
     "output_type": "execute_result"
    }
   ],
   "source": [
    "data_mean = np.array(X_train_1.describe().loc['mean',:])\n",
    "data_mean"
   ]
  },
  {
   "cell_type": "code",
   "execution_count": 94,
   "metadata": {},
   "outputs": [
    {
     "data": {
      "text/plain": [
       "(3, 10)"
      ]
     },
     "execution_count": 94,
     "metadata": {},
     "output_type": "execute_result"
    }
   ],
   "source": [
    "init_mean1 = np.random.multivariate_normal(data_mean, init_cov[0])\n",
    "init_mean2 = np.random.multivariate_normal(data_mean, init_cov[0])\n",
    "init_mean3 = np.random.multivariate_normal(data_mean, init_cov[0])\n",
    "all_init_mean = np.array([init_mean1,init_mean2,init_mean3])\n",
    "all_init_mean.shape"
   ]
  },
  {
   "cell_type": "markdown",
   "metadata": {},
   "source": [
    "Initialize weights"
   ]
  },
  {
   "cell_type": "code",
   "execution_count": 95,
   "metadata": {},
   "outputs": [
    {
     "data": {
      "text/plain": [
       "array([0.33333333, 0.33333333, 0.33333333])"
      ]
     },
     "execution_count": 95,
     "metadata": {},
     "output_type": "execute_result"
    }
   ],
   "source": [
    "pi_weight = np.ones(3)*np.array(1/3)\n",
    "pi_weight"
   ]
  },
  {
   "cell_type": "markdown",
   "metadata": {},
   "source": [
    "Write a General Function to implement EM for the GMM"
   ]
  },
  {
   "cell_type": "code",
   "execution_count": 96,
   "metadata": {},
   "outputs": [],
   "source": [
    "def EM_GMM(data, K, num_ite):\n",
    "    \"\"\"\n",
    "    Return list that contains change of objective function per iteration.\n",
    "    \n",
    "    @data: dataset\n",
    "    @K: num of clusters\n",
    "    @num_ite: number of iterations\n",
    "    \"\"\"\n",
    "    #initialize covariance as empirical covariance\n",
    "    init_cov_ind = np.cov(data.transpose()) #shape:10*10\n",
    "    #init_cov  = np.array([init_cov_ind,init_cov_ind,init_cov_ind]) #shape: (3,10,10)\n",
    "    init_cov = np.array([init_cov_ind]*K)\n",
    "    \n",
    "    #initialize mean from gaussian\n",
    "    data_mean = np.array(data.describe().loc['mean',:])\n",
    "    #init_mean1 = np.random.multivariate_normal(data_mean, init_cov[0],K)\n",
    "    #init_mean2 = np.random.multivariate_normal(data_mean, init_cov[0])\n",
    "    #init_mean3 = np.random.multivariate_normal(data_mean, init_cov[0]) #shape: 1*10\n",
    "    #all_init_mean = np.array([init_mean1,init_mean2,init_mean3]) #shape:3*10\n",
    "    all_init_mean = np.random.multivariate_normal(data_mean, init_cov[0],K)\n",
    "    \n",
    "    #initialize weight as uniform\n",
    "    pi_weight = np.ones(K)*np.array(1/K)\n",
    "    n = data.shape[0]\n",
    "    \n",
    "    #EM Algorithm\n",
    "    #E Step\n",
    "    obj_acc = []\n",
    "    #weight = []\n",
    "    for i in range(0,num_ite):\n",
    "        #update phi\n",
    "        phi_bottom = 0\n",
    "        phi = [0] * K\n",
    "        for i in range(0, K):\n",
    "            phi_bottom = multivariate_normal.pdf(data,mean=all_init_mean[i], cov=init_cov[i], \n",
    "                                                  allow_singular=True)*pi_weight[i] + phi_bottom\n",
    "        # E step: update phi\n",
    "        for i in range(0, K): #shape:(1631,)\n",
    "            phi[i] = pi_weight[i]*multivariate_normal.pdf(data,mean=all_init_mean[i], \n",
    "                                                          cov=init_cov[i], allow_singular=True)/phi_bottom \n",
    "        #M Step\n",
    "        nk = np.zeros(K) #1*k array\n",
    "        for i in range(0,K):\n",
    "            pi_k = np.zeros(K)\n",
    "            nk[i] = np.sum(phi[i])\n",
    "            pi_weight[i] = nk[i]/n\n",
    "        #pi_weight = nk/n\n",
    " \n",
    "        #update mu\n",
    "        for i in range(0,K): #3*\n",
    "            all_init_mean[i] = (1/nk[i])*np.matmul(np.matrix(phi[i].reshape(1,-1)), np.matrix(data))\n",
    "\n",
    "        #update cov\n",
    "        x_mu1 = np.array(data)-all_init_mean[i] #xi-uk term\n",
    "        init_cov[i] = np.matmul(np.multiply(phi[i].reshape(-1,1), x_mu1).transpose(),x_mu1)/nk[i]\n",
    "\n",
    "        #update cost function\n",
    "        obj_one = np.sum(np.log(phi_bottom))\n",
    "        obj_acc.append(obj_one)\n",
    "    \n",
    "    return obj_acc, pi_weight, all_init_mean, init_cov\n"
   ]
  },
  {
   "cell_type": "code",
   "execution_count": 97,
   "metadata": {},
   "outputs": [],
   "source": [
    "obj_acc, pi_weight, all_init_mean, init_cov = EM_GMM(X_train_1, 5, 30)"
   ]
  },
  {
   "cell_type": "code",
   "execution_count": 98,
   "metadata": {},
   "outputs": [],
   "source": [
    "def implement_GMM_plot(data, K, num_ite, n_times):\n",
    "    \"\"\"\n",
    "    Implement GMM algorithm n times and return a plot.\n",
    "    \n",
    "    @n_times: n times\n",
    "    \"\"\"\n",
    "    obj_acc_all = []\n",
    "    pi_k_all = []\n",
    "    all_init_mean_all = []\n",
    "    init_cov_all = []\n",
    "    for i in range(0, n_times):\n",
    "        obj_acc, pi_weight, all_init_mean, init_cov = EM_GMM(data, K, num_ite)\n",
    "        obj_acc_all.append(obj_acc)\n",
    "        pi_k_all.append(pi_weight)\n",
    "        all_init_mean_all.append(all_init_mean)\n",
    "        init_cov_all.append(init_cov)\n",
    "    \n",
    "    x_axis = np.arange(5,31)\n",
    "    i=0\n",
    "    plt.figure(figsize=(8,6))\n",
    "    for item in obj_acc_all:\n",
    "        item = item[4:]\n",
    "        plt.plot(x_axis, item, label=i)\n",
    "        i+=1\n",
    "        plt.legend()\n",
    "        #plt.title('Log Marginal Objective Function by Iterations')\n",
    "        plt.xlabel('iterations')\n",
    "        plt.ylabel('Log Marginal Objective Function')\n",
    "    return obj_acc_all, pi_k_all, all_init_mean_all,init_cov_all\n",
    "    "
   ]
  },
  {
   "cell_type": "code",
   "execution_count": 99,
   "metadata": {},
   "outputs": [
    {
     "data": {
      "text/plain": [
       "Text(0.5, 1.0, 'Class1: Log Marginal Objective Function by Iterations')"
      ]
     },
     "execution_count": 99,
     "metadata": {},
     "output_type": "execute_result"
    },
    {
     "data": {
      "image/png": "[encoded data removed]",
      "text/plain": [
       "<Figure size 576x432 with 1 Axes>"
      ]
     },
     "metadata": {
      "needs_background": "light"
     },
     "output_type": "display_data"
    }
   ],
   "source": [
    "obj_acc_all_1, pi_weight_1, all_init_mean_all_1,init_cov_all_1 = \\\n",
    "    implement_GMM_plot(X_train_1, 3, 30,10)\n",
    "plt.title('Class1: Log Marginal Objective Function by Iterations')"
   ]
  },
  {
   "cell_type": "markdown",
   "metadata": {},
   "source": [
    "**Class 0**"
   ]
  },
  {
   "cell_type": "code",
   "execution_count": 100,
   "metadata": {},
   "outputs": [
    {
     "data": {
      "text/plain": [
       "Text(0.5, 1.0, 'Class0: Log Marginal Objective Function by Iterations')"
      ]
     },
     "execution_count": 100,
     "metadata": {},
     "output_type": "execute_result"
    },
    {
     "data": {
      "image/png": "[encoded data removed]",
      "text/plain": [
       "<Figure size 576x432 with 1 Axes>"
      ]
     },
     "metadata": {
      "needs_background": "light"
     },
     "output_type": "display_data"
    }
   ],
   "source": [
    "obj_acc_all_0, pi_weight_0, all_init_mean_all_0,init_cov_all_0 = \\\n",
    "    implement_GMM_plot(X_train_0, 3, 30,10)\n",
    "plt.title('Class0: Log Marginal Objective Function by Iterations')"
   ]
  },
  {
   "cell_type": "markdown",
   "metadata": {},
   "source": [
    "#### b)  Using the best run for each class after 30 iterations, predict the testing data using a Bayes classifier and show the result in a 2×2 confusion matrix,  along with the accuracy percentage. Repeat this process for a 1-, 2-, 3- and 4-Gaussian mixture model. Show all results nearby each other,and don’t repeat Part (a) for these other cases. Note that a 1-Gaussian GMM doesn’t require an algorithm, although your implementation will likely still work in this case."
   ]
  },
  {
   "cell_type": "markdown",
   "metadata": {},
   "source": [
    "#### 3- Gaussian Mixture Model"
   ]
  },
  {
   "cell_type": "code",
   "execution_count": 101,
   "metadata": {},
   "outputs": [],
   "source": [
    "def find_largest_objective(obj_acc_all_lst):\n",
    "    \"\"\"\n",
    "    Return index of iteration that has largest log marginal likelihood (best run).\n",
    "    \"\"\"\n",
    "    i = 0\n",
    "    acc = []\n",
    "    for item in obj_acc_all_lst:\n",
    "        acc.append(item[-1])\n",
    "        m = max(acc)\n",
    "        index_part = [i for i, j in enumerate(acc) if j == m]\n",
    "        max_index = index_part[0]\n",
    "    return max_index"
   ]
  },
  {
   "cell_type": "markdown",
   "metadata": {},
   "source": [
    "**Class 1**"
   ]
  },
  {
   "cell_type": "code",
   "execution_count": 102,
   "metadata": {},
   "outputs": [
    {
     "data": {
      "text/plain": [
       "0"
      ]
     },
     "execution_count": 102,
     "metadata": {},
     "output_type": "execute_result"
    }
   ],
   "source": [
    "ind_1 = find_largest_objective(obj_acc_all_1)\n",
    "ind_1"
   ]
  },
  {
   "cell_type": "code",
   "execution_count": 103,
   "metadata": {},
   "outputs": [],
   "source": [
    "best_weight_1 = pi_weight_1[ind_1]\n",
    "best_mean_1 = all_init_mean_all_1[ind_1]\n",
    "best_cov_1 = init_cov_all_1[ind_1]"
   ]
  },
  {
   "cell_type": "markdown",
   "metadata": {},
   "source": [
    "**Class 0** "
   ]
  },
  {
   "cell_type": "code",
   "execution_count": 104,
   "metadata": {},
   "outputs": [
    {
     "data": {
      "text/plain": [
       "0"
      ]
     },
     "execution_count": 104,
     "metadata": {},
     "output_type": "execute_result"
    }
   ],
   "source": [
    "ind_0 = find_largest_objective(obj_acc_all_0)\n",
    "ind_0"
   ]
  },
  {
   "cell_type": "code",
   "execution_count": 105,
   "metadata": {},
   "outputs": [],
   "source": [
    "best_weight_0 = pi_weight_0[ind_0]\n",
    "best_mean_0 = all_init_mean_all_0[ind_0]\n",
    "best_cov_0 = init_cov_all_0[ind_0]"
   ]
  },
  {
   "cell_type": "code",
   "execution_count": 106,
   "metadata": {},
   "outputs": [],
   "source": [
    "def GMM_Bayes(data, K, best_weight_class1, best_mean_class1, best_cov_class1, \n",
    "              best_weight_class0, best_mean_class0, best_cov_class0):\n",
    "    \"\"\"\n",
    "    Return a list containing prediction result using GMM and Bayes Classifier.\n",
    "    \n",
    "    @data: dataset\n",
    "    @K: K-Gaussian Mixture Model\n",
    "    @best_weight_class1, best_mean_class1,best_cov_class1, \n",
    "    best_weight_class0, best_mean_class0, best_cov_class0: best paramtres of GMM selected \n",
    "    \"\"\"\n",
    "    class1 = 0\n",
    "    for i in range(0,K):\n",
    "        class1 += multivariate_normal.pdf(data,mean=best_mean_class1[i], cov=best_cov_class1[i], \n",
    "                                                  allow_singular=True)*best_weight_class1[i]\n",
    "    class0 = 0\n",
    "    for i in range(0,K):\n",
    "        class0 += multivariate_normal.pdf(data,mean=best_mean_class0[i], cov=best_cov_class0[i], \n",
    "                                                      allow_singular=True)*best_weight_class0[i] \n",
    "    class1 = class1.tolist() \n",
    "    class0 = class0.tolist()\n",
    "    pred_result = []\n",
    "    for i in range(0, len(class1)):\n",
    "        if class1[i]>=class0[i]:\n",
    "            pred_result.append(1)\n",
    "        else:\n",
    "            pred_result.append(0)\n",
    "    return pred_result\n"
   ]
  },
  {
   "cell_type": "code",
   "execution_count": 107,
   "metadata": {},
   "outputs": [],
   "source": [
    "def get_pred_result(pred_result, true_list):\n",
    "    \"\"\"\n",
    "    Return confusion matrix and accuracy.\n",
    "    \"\"\"\n",
    "    TP = 0\n",
    "    TN = 0\n",
    "    FP = 0\n",
    "    FN = 0\n",
    "    for i in range(0,len(true_list)):\n",
    "        if pred_result[i]==1 and true_list[i]==1:\n",
    "            TP += 1\n",
    "        elif pred_result[i]==0 and true_list[i]==1:\n",
    "            FN += 1\n",
    "        elif pred_result[i]==1 and true_list[i]==0:\n",
    "            FP += 1\n",
    "        elif pred_result[i]==0 and true_list[i]==0:\n",
    "            TN += 1\n",
    "            \n",
    "    data = [('TP:'+str(TP), 'FP:'+str(FP)),('FN:'+str(FN), 'TN:'+str(TN))]\n",
    "    df = pd.DataFrame(data)\n",
    "    df = df.rename({0: 'Predicted Postive', 1: 'Predicted Negative'}, axis='index')\n",
    "    df = df.rename({0: 'Actual Postive', 1: 'Actual Negative'}, axis='columns')\n",
    "    accuracy = (TP+TN)/(TP+TN+FP+FN)\n",
    "    display(df)\n",
    "    print('Accuracy:'+ str(accuracy))"
   ]
  },
  {
   "cell_type": "markdown",
   "metadata": {},
   "source": [
    "**3-Gaussian Mixture Model**"
   ]
  },
  {
   "cell_type": "code",
   "execution_count": 108,
   "metadata": {},
   "outputs": [
    {
     "data": {
      "text/html": [
       "<div>\n",
       "<style scoped>\n",
       "    .dataframe tbody tr th:only-of-type {\n",
       "        vertical-align: middle;\n",
       "    }\n",
       "\n",
       "    .dataframe tbody tr th {\n",
       "        vertical-align: top;\n",
       "    }\n",
       "\n",
       "    .dataframe thead th {\n",
       "        text-align: right;\n",
       "    }\n",
       "</style>\n",
       "<table border=\"1\" class=\"dataframe\">\n",
       "  <thead>\n",
       "    <tr style=\"text-align: right;\">\n",
       "      <th></th>\n",
       "      <th>Actual Postive</th>\n",
       "      <th>Actual Negative</th>\n",
       "    </tr>\n",
       "  </thead>\n",
       "  <tbody>\n",
       "    <tr>\n",
       "      <th>Predicted Postive</th>\n",
       "      <td>TP:175</td>\n",
       "      <td>FP:79</td>\n",
       "    </tr>\n",
       "    <tr>\n",
       "      <th>Predicted Negative</th>\n",
       "      <td>FN:7</td>\n",
       "      <td>TN:199</td>\n",
       "    </tr>\n",
       "  </tbody>\n",
       "</table>\n",
       "</div>"
      ],
      "text/plain": [
       "                   Actual Postive Actual Negative\n",
       "Predicted Postive          TP:175           FP:79\n",
       "Predicted Negative           FN:7          TN:199"
      ]
     },
     "metadata": {},
     "output_type": "display_data"
    },
    {
     "name": "stdout",
     "output_type": "stream",
     "text": [
      "Accuracy:0.8130434782608695\n"
     ]
    }
   ],
   "source": [
    "pred_result1 = GMM_Bayes(X_test, 3, best_weight_1, best_mean_1, best_cov_1, \n",
    "              best_weight_0, best_mean_0, best_cov_0)\n",
    "get_pred_result(pred_result1,y_test.iloc[:,0].tolist())"
   ]
  },
  {
   "cell_type": "markdown",
   "metadata": {},
   "source": [
    "#### 1-Gaussian Mixture Model"
   ]
  },
  {
   "cell_type": "code",
   "execution_count": 109,
   "metadata": {},
   "outputs": [
    {
     "data": {
      "image/png": "[encoded data removed]",
      "text/plain": [
       "<Figure size 576x432 with 1 Axes>"
      ]
     },
     "metadata": {
      "needs_background": "light"
     },
     "output_type": "display_data"
    }
   ],
   "source": [
    "obj_acc_all_1, pi_weight_1, all_init_mean_all_1,init_cov_all_1 = \\\n",
    "    implement_GMM_plot(X_train_1, 1, 30,10)"
   ]
  },
  {
   "cell_type": "code",
   "execution_count": 110,
   "metadata": {},
   "outputs": [
    {
     "data": {
      "image/png": "[encoded data removed]",
      "text/plain": [
       "<Figure size 576x432 with 1 Axes>"
      ]
     },
     "metadata": {
      "needs_background": "light"
     },
     "output_type": "display_data"
    }
   ],
   "source": [
    "obj_acc_all_0, pi_weight_0, all_init_mean_all_0,init_cov_all_0 = \\\n",
    "    implement_GMM_plot(X_train_0, 1, 30,10)"
   ]
  },
  {
   "cell_type": "code",
   "execution_count": 111,
   "metadata": {},
   "outputs": [],
   "source": [
    "ind_1 = find_largest_objective(obj_acc_all_1)\n",
    "best_weight_1 = pi_weight_1[ind_1]\n",
    "best_mean_1 = all_init_mean_all_1[ind_1]\n",
    "best_cov_1 = init_cov_all_1[ind_1]\n",
    "ind_0 = find_largest_objective(obj_acc_all_0)\n",
    "best_weight_0 = pi_weight_0[ind_0]\n",
    "best_mean_0 = all_init_mean_all_0[ind_0]\n",
    "best_cov_0 = init_cov_all_0[ind_0]"
   ]
  },
  {
   "cell_type": "code",
   "execution_count": 112,
   "metadata": {},
   "outputs": [
    {
     "data": {
      "text/html": [
       "<div>\n",
       "<style scoped>\n",
       "    .dataframe tbody tr th:only-of-type {\n",
       "        vertical-align: middle;\n",
       "    }\n",
       "\n",
       "    .dataframe tbody tr th {\n",
       "        vertical-align: top;\n",
       "    }\n",
       "\n",
       "    .dataframe thead th {\n",
       "        text-align: right;\n",
       "    }\n",
       "</style>\n",
       "<table border=\"1\" class=\"dataframe\">\n",
       "  <thead>\n",
       "    <tr style=\"text-align: right;\">\n",
       "      <th></th>\n",
       "      <th>Actual Postive</th>\n",
       "      <th>Actual Negative</th>\n",
       "    </tr>\n",
       "  </thead>\n",
       "  <tbody>\n",
       "    <tr>\n",
       "      <th>Predicted Postive</th>\n",
       "      <td>TP:176</td>\n",
       "      <td>FP:98</td>\n",
       "    </tr>\n",
       "    <tr>\n",
       "      <th>Predicted Negative</th>\n",
       "      <td>FN:6</td>\n",
       "      <td>TN:180</td>\n",
       "    </tr>\n",
       "  </tbody>\n",
       "</table>\n",
       "</div>"
      ],
      "text/plain": [
       "                   Actual Postive Actual Negative\n",
       "Predicted Postive          TP:176           FP:98\n",
       "Predicted Negative           FN:6          TN:180"
      ]
     },
     "metadata": {},
     "output_type": "display_data"
    },
    {
     "name": "stdout",
     "output_type": "stream",
     "text": [
      "Accuracy:0.7739130434782608\n"
     ]
    }
   ],
   "source": [
    "pred_result1 = GMM_Bayes(X_test, 1, best_weight_1, best_mean_1, best_cov_1, \n",
    "              best_weight_0, best_mean_0, best_cov_0)\n",
    "get_pred_result(pred_result1,y_test.iloc[:,0].tolist())"
   ]
  },
  {
   "cell_type": "markdown",
   "metadata": {},
   "source": [
    "#### 2-Gaussian Mixture Model"
   ]
  },
  {
   "cell_type": "code",
   "execution_count": 113,
   "metadata": {},
   "outputs": [
    {
     "data": {
      "image/png": "[encoded data removed]",
      "text/plain": [
       "<Figure size 576x432 with 1 Axes>"
      ]
     },
     "metadata": {
      "needs_background": "light"
     },
     "output_type": "display_data"
    }
   ],
   "source": [
    "obj_acc_all_1, pi_weight_1, all_init_mean_all_1,init_cov_all_1 = \\\n",
    "    implement_GMM_plot(X_train_1, 2, 30,10)"
   ]
  },
  {
   "cell_type": "code",
   "execution_count": 114,
   "metadata": {},
   "outputs": [
    {
     "data": {
      "image/png": "[encoded data removed]",
      "text/plain": [
       "<Figure size 576x432 with 1 Axes>"
      ]
     },
     "metadata": {
      "needs_background": "light"
     },
     "output_type": "display_data"
    }
   ],
   "source": [
    "obj_acc_all_0, pi_weight_0, all_init_mean_all_0,init_cov_all_0 = \\\n",
    "    implement_GMM_plot(X_train_0, 2, 30,10)"
   ]
  },
  {
   "cell_type": "code",
   "execution_count": 115,
   "metadata": {},
   "outputs": [],
   "source": [
    "ind_1 = find_largest_objective(obj_acc_all_1)\n",
    "best_weight_1 = pi_weight_1[ind_1]\n",
    "best_mean_1 = all_init_mean_all_1[ind_1]\n",
    "best_cov_1 = init_cov_all_1[ind_1]\n",
    "ind_0 = find_largest_objective(obj_acc_all_0)\n",
    "best_weight_0 = pi_weight_0[ind_0]\n",
    "best_mean_0 = all_init_mean_all_0[ind_0]\n",
    "best_cov_0 = init_cov_all_0[ind_0]"
   ]
  },
  {
   "cell_type": "code",
   "execution_count": 116,
   "metadata": {},
   "outputs": [
    {
     "data": {
      "text/html": [
       "<div>\n",
       "<style scoped>\n",
       "    .dataframe tbody tr th:only-of-type {\n",
       "        vertical-align: middle;\n",
       "    }\n",
       "\n",
       "    .dataframe tbody tr th {\n",
       "        vertical-align: top;\n",
       "    }\n",
       "\n",
       "    .dataframe thead th {\n",
       "        text-align: right;\n",
       "    }\n",
       "</style>\n",
       "<table border=\"1\" class=\"dataframe\">\n",
       "  <thead>\n",
       "    <tr style=\"text-align: right;\">\n",
       "      <th></th>\n",
       "      <th>Actual Postive</th>\n",
       "      <th>Actual Negative</th>\n",
       "    </tr>\n",
       "  </thead>\n",
       "  <tbody>\n",
       "    <tr>\n",
       "      <th>Predicted Postive</th>\n",
       "      <td>TP:176</td>\n",
       "      <td>FP:82</td>\n",
       "    </tr>\n",
       "    <tr>\n",
       "      <th>Predicted Negative</th>\n",
       "      <td>FN:6</td>\n",
       "      <td>TN:196</td>\n",
       "    </tr>\n",
       "  </tbody>\n",
       "</table>\n",
       "</div>"
      ],
      "text/plain": [
       "                   Actual Postive Actual Negative\n",
       "Predicted Postive          TP:176           FP:82\n",
       "Predicted Negative           FN:6          TN:196"
      ]
     },
     "metadata": {},
     "output_type": "display_data"
    },
    {
     "name": "stdout",
     "output_type": "stream",
     "text": [
      "Accuracy:0.808695652173913\n"
     ]
    }
   ],
   "source": [
    "pred_result1 = GMM_Bayes(X_test, 2, best_weight_1, best_mean_1, best_cov_1, \n",
    "              best_weight_0, best_mean_0, best_cov_0)\n",
    "get_pred_result(pred_result1,y_test.iloc[:,0].tolist())"
   ]
  },
  {
   "cell_type": "markdown",
   "metadata": {},
   "source": [
    "#### 4-Gaussian Mixture Model"
   ]
  },
  {
   "cell_type": "code",
   "execution_count": 117,
   "metadata": {},
   "outputs": [
    {
     "data": {
      "image/png": "[encoded data removed]",
      "text/plain": [
       "<Figure size 576x432 with 1 Axes>"
      ]
     },
     "metadata": {
      "needs_background": "light"
     },
     "output_type": "display_data"
    }
   ],
   "source": [
    "obj_acc_all_1, pi_weight_1, all_init_mean_all_1,init_cov_all_1 = \\\n",
    "    implement_GMM_plot(X_train_1, 4, 30,10)"
   ]
  },
  {
   "cell_type": "code",
   "execution_count": 118,
   "metadata": {},
   "outputs": [
    {
     "data": {
      "image/png": "[encoded data removed]",
      "text/plain": [
       "<Figure size 576x432 with 1 Axes>"
      ]
     },
     "metadata": {
      "needs_background": "light"
     },
     "output_type": "display_data"
    }
   ],
   "source": [
    "obj_acc_all_0, pi_weight_0, all_init_mean_all_0,init_cov_all_0 = \\\n",
    "    implement_GMM_plot(X_train_0, 4, 30,10)"
   ]
  },
  {
   "cell_type": "code",
   "execution_count": 119,
   "metadata": {},
   "outputs": [],
   "source": [
    "ind_1 = find_largest_objective(obj_acc_all_1)\n",
    "best_weight_1 = pi_weight_1[ind_1]\n",
    "best_mean_1 = all_init_mean_all_1[ind_1]\n",
    "best_cov_1 = init_cov_all_1[ind_1]\n",
    "ind_0 = find_largest_objective(obj_acc_all_0)\n",
    "best_weight_0 = pi_weight_0[ind_0]\n",
    "best_mean_0 = all_init_mean_all_0[ind_0]\n",
    "best_cov_0 = init_cov_all_0[ind_0]"
   ]
  },
  {
   "cell_type": "code",
   "execution_count": 120,
   "metadata": {},
   "outputs": [
    {
     "data": {
      "text/html": [
       "<div>\n",
       "<style scoped>\n",
       "    .dataframe tbody tr th:only-of-type {\n",
       "        vertical-align: middle;\n",
       "    }\n",
       "\n",
       "    .dataframe tbody tr th {\n",
       "        vertical-align: top;\n",
       "    }\n",
       "\n",
       "    .dataframe thead th {\n",
       "        text-align: right;\n",
       "    }\n",
       "</style>\n",
       "<table border=\"1\" class=\"dataframe\">\n",
       "  <thead>\n",
       "    <tr style=\"text-align: right;\">\n",
       "      <th></th>\n",
       "      <th>Actual Postive</th>\n",
       "      <th>Actual Negative</th>\n",
       "    </tr>\n",
       "  </thead>\n",
       "  <tbody>\n",
       "    <tr>\n",
       "      <th>Predicted Postive</th>\n",
       "      <td>TP:175</td>\n",
       "      <td>FP:78</td>\n",
       "    </tr>\n",
       "    <tr>\n",
       "      <th>Predicted Negative</th>\n",
       "      <td>FN:7</td>\n",
       "      <td>TN:200</td>\n",
       "    </tr>\n",
       "  </tbody>\n",
       "</table>\n",
       "</div>"
      ],
      "text/plain": [
       "                   Actual Postive Actual Negative\n",
       "Predicted Postive          TP:175           FP:78\n",
       "Predicted Negative           FN:7          TN:200"
      ]
     },
     "metadata": {},
     "output_type": "display_data"
    },
    {
     "name": "stdout",
     "output_type": "stream",
     "text": [
      "Accuracy:0.8152173913043478\n"
     ]
    }
   ],
   "source": [
    "pred_result1 = GMM_Bayes(X_test, 4, best_weight_1, best_mean_1, best_cov_1, \n",
    "              best_weight_0, best_mean_0, best_cov_0)\n",
    "get_pred_result(pred_result1,y_test.iloc[:,0].tolist())"
   ]
  },
  {
   "cell_type": "markdown",
   "metadata": {},
   "source": [
    "# Problem 3 (Matrix factorization)"
   ]
  },
  {
   "cell_type": "markdown",
   "metadata": {},
   "source": [
    "In this problem, you will implement the MAP inference algorithm for the matrix completion problem discussed in class. As a reminder, for users u∈Rd and movies v∈Rd, we have ui∼N(0,λ−1I),  i= 1,...,N1,   vj∼N(0,λ−1I),  j= 1,...,N2.We are given an N1×N2 matrix M with missing values. Given the setΩ ={(i,j) :Mij is measured},for each(i,j)∈Ω we model Mij∼N(uTivj,σ2).You should run your code on the user-movie ratings dataset provided on Courseworks and the coursewebsite. For your algorithm, set σ2= 0.25,d= 10 and λ= 1.  Train the model on the larger training set for 100 iterations.  For each user-movie pair in the test set, predict the rating using the relevant dotproduct. Note that the mean rating has been subtracted from the data and you do not need to round your prediction. Since the equations are in the slides, there’s no need to re-derive it."
   ]
  },
  {
   "cell_type": "code",
   "execution_count": 40,
   "metadata": {},
   "outputs": [],
   "source": [
    "rating_train = pd.read_csv('Prob3_ratings.csv', header=None) \n",
    "movie = pd.read_csv('Prob3_movies.txt',sep=\"\\n\", header=None)\n",
    "rating_train.columns = ['user_id','item_id','rating']\n",
    "rating_test = pd.read_csv('Prob3_ratings_test.csv', header=None)\n",
    "rating_test.columns = ['user_id','item_id','rating']"
   ]
  },
  {
   "cell_type": "code",
   "execution_count": 41,
   "metadata": {},
   "outputs": [
    {
     "data": {
      "text/html": [
       "<div>\n",
       "<style scoped>\n",
       "    .dataframe tbody tr th:only-of-type {\n",
       "        vertical-align: middle;\n",
       "    }\n",
       "\n",
       "    .dataframe tbody tr th {\n",
       "        vertical-align: top;\n",
       "    }\n",
       "\n",
       "    .dataframe thead th {\n",
       "        text-align: right;\n",
       "    }\n",
       "</style>\n",
       "<table border=\"1\" class=\"dataframe\">\n",
       "  <thead>\n",
       "    <tr style=\"text-align: right;\">\n",
       "      <th></th>\n",
       "      <th>user_id</th>\n",
       "      <th>item_id</th>\n",
       "      <th>rating</th>\n",
       "    </tr>\n",
       "  </thead>\n",
       "  <tbody>\n",
       "    <tr>\n",
       "      <th>0</th>\n",
       "      <td>196</td>\n",
       "      <td>242</td>\n",
       "      <td>-0.53039</td>\n",
       "    </tr>\n",
       "    <tr>\n",
       "      <th>1</th>\n",
       "      <td>186</td>\n",
       "      <td>302</td>\n",
       "      <td>-0.53039</td>\n",
       "    </tr>\n",
       "    <tr>\n",
       "      <th>2</th>\n",
       "      <td>244</td>\n",
       "      <td>51</td>\n",
       "      <td>-1.53040</td>\n",
       "    </tr>\n",
       "    <tr>\n",
       "      <th>3</th>\n",
       "      <td>166</td>\n",
       "      <td>346</td>\n",
       "      <td>-2.53040</td>\n",
       "    </tr>\n",
       "    <tr>\n",
       "      <th>4</th>\n",
       "      <td>298</td>\n",
       "      <td>474</td>\n",
       "      <td>0.46960</td>\n",
       "    </tr>\n",
       "  </tbody>\n",
       "</table>\n",
       "</div>"
      ],
      "text/plain": [
       "   user_id  item_id   rating\n",
       "0      196      242 -0.53039\n",
       "1      186      302 -0.53039\n",
       "2      244       51 -1.53040\n",
       "3      166      346 -2.53040\n",
       "4      298      474  0.46960"
      ]
     },
     "execution_count": 41,
     "metadata": {},
     "output_type": "execute_result"
    }
   ],
   "source": [
    "rating_train.head()"
   ]
  },
  {
   "cell_type": "code",
   "execution_count": 42,
   "metadata": {},
   "outputs": [],
   "source": [
    "index = pd.DataFrame(np.arange(1,1683))\n",
    "movie = pd.concat([index, movie], axis=1, sort=False)\n",
    "movie.columns = ['movie_id','movie_name']"
   ]
  },
  {
   "cell_type": "code",
   "execution_count": 43,
   "metadata": {},
   "outputs": [
    {
     "data": {
      "text/html": [
       "<div>\n",
       "<style scoped>\n",
       "    .dataframe tbody tr th:only-of-type {\n",
       "        vertical-align: middle;\n",
       "    }\n",
       "\n",
       "    .dataframe tbody tr th {\n",
       "        vertical-align: top;\n",
       "    }\n",
       "\n",
       "    .dataframe thead th {\n",
       "        text-align: right;\n",
       "    }\n",
       "</style>\n",
       "<table border=\"1\" class=\"dataframe\">\n",
       "  <thead>\n",
       "    <tr style=\"text-align: right;\">\n",
       "      <th></th>\n",
       "      <th>movie_id</th>\n",
       "      <th>movie_name</th>\n",
       "    </tr>\n",
       "  </thead>\n",
       "  <tbody>\n",
       "    <tr>\n",
       "      <th>0</th>\n",
       "      <td>1</td>\n",
       "      <td>Toy Story (1995)</td>\n",
       "    </tr>\n",
       "    <tr>\n",
       "      <th>1</th>\n",
       "      <td>2</td>\n",
       "      <td>GoldenEye (1995)</td>\n",
       "    </tr>\n",
       "    <tr>\n",
       "      <th>2</th>\n",
       "      <td>3</td>\n",
       "      <td>Four Rooms (1995)</td>\n",
       "    </tr>\n",
       "    <tr>\n",
       "      <th>3</th>\n",
       "      <td>4</td>\n",
       "      <td>Get Shorty (1995)</td>\n",
       "    </tr>\n",
       "    <tr>\n",
       "      <th>4</th>\n",
       "      <td>5</td>\n",
       "      <td>Copycat (1995)</td>\n",
       "    </tr>\n",
       "  </tbody>\n",
       "</table>\n",
       "</div>"
      ],
      "text/plain": [
       "   movie_id         movie_name\n",
       "0         1   Toy Story (1995)\n",
       "1         2   GoldenEye (1995)\n",
       "2         3  Four Rooms (1995)\n",
       "3         4  Get Shorty (1995)\n",
       "4         5     Copycat (1995)"
      ]
     },
     "execution_count": 43,
     "metadata": {},
     "output_type": "execute_result"
    }
   ],
   "source": [
    "movie.head()"
   ]
  },
  {
   "cell_type": "code",
   "execution_count": 44,
   "metadata": {},
   "outputs": [
    {
     "data": {
      "text/plain": [
       "(1682, 2)"
      ]
     },
     "execution_count": 44,
     "metadata": {},
     "output_type": "execute_result"
    }
   ],
   "source": [
    "movie.shape"
   ]
  },
  {
   "cell_type": "code",
   "execution_count": 45,
   "metadata": {},
   "outputs": [
    {
     "data": {
      "text/plain": [
       "943"
      ]
     },
     "execution_count": 45,
     "metadata": {},
     "output_type": "execute_result"
    }
   ],
   "source": [
    "len(rating_train.loc[:,'user_id'].unique())"
   ]
  },
  {
   "cell_type": "code",
   "execution_count": 46,
   "metadata": {},
   "outputs": [
    {
     "data": {
      "text/plain": [
       "1676"
      ]
     },
     "execution_count": 46,
     "metadata": {},
     "output_type": "execute_result"
    }
   ],
   "source": [
    "temp =rating_train.loc[:,'item_id'].unique().tolist()\n",
    "len(temp)"
   ]
  },
  {
   "cell_type": "code",
   "execution_count": 47,
   "metadata": {},
   "outputs": [
    {
     "data": {
      "text/plain": [
       "(1682, 2)"
      ]
     },
     "execution_count": 47,
     "metadata": {},
     "output_type": "execute_result"
    }
   ],
   "source": [
    "movie.shape"
   ]
  },
  {
   "cell_type": "code",
   "execution_count": 48,
   "metadata": {},
   "outputs": [
    {
     "data": {
      "text/plain": [
       "838"
      ]
     },
     "execution_count": 48,
     "metadata": {},
     "output_type": "execute_result"
    }
   ],
   "source": [
    "len(rating_test.loc[:,'user_id'].unique())"
   ]
  },
  {
   "cell_type": "code",
   "execution_count": 49,
   "metadata": {},
   "outputs": [
    {
     "data": {
      "text/plain": [
       "1062"
      ]
     },
     "execution_count": 49,
     "metadata": {},
     "output_type": "execute_result"
    }
   ],
   "source": [
    "len(rating_test.loc[:,'item_id'].unique())"
   ]
  },
  {
   "cell_type": "markdown",
   "metadata": {},
   "source": [
    "**Thus, the M matrix should be 943*1682, since there are 943 users and 1682 movies in total**"
   ]
  },
  {
   "cell_type": "markdown",
   "metadata": {},
   "source": [
    "Construct Matrix M_train (train data) and M_test (test data)"
   ]
  },
  {
   "cell_type": "code",
   "execution_count": 50,
   "metadata": {},
   "outputs": [],
   "source": [
    "M_train = np.zeros((943, 1682))"
   ]
  },
  {
   "cell_type": "code",
   "execution_count": 51,
   "metadata": {},
   "outputs": [],
   "source": [
    "for i in range(0, rating_train.shape[0]):\n",
    "    row = rating_train.iloc[i,:]\n",
    "    M_train[int(row[0]-1), int(row[1]-1)] = row[2]"
   ]
  },
  {
   "cell_type": "code",
   "execution_count": 52,
   "metadata": {},
   "outputs": [
    {
     "data": {
      "text/plain": [
       "array([[ 1.4696 , -0.53039,  0.46961, ...,  0.     ,  0.     ,  0.     ],\n",
       "       [ 0.46961,  0.     ,  0.     , ...,  0.     ,  0.     ,  0.     ],\n",
       "       [ 0.     ,  0.     ,  0.     , ...,  0.     ,  0.     ,  0.     ],\n",
       "       ...,\n",
       "       [ 1.4696 ,  0.     ,  0.     , ...,  0.     ,  0.     ,  0.     ],\n",
       "       [ 0.     ,  0.     ,  0.     , ...,  0.     ,  0.     ,  0.     ],\n",
       "       [ 0.     ,  1.4696 ,  0.     , ...,  0.     ,  0.     ,  0.     ]])"
      ]
     },
     "execution_count": 52,
     "metadata": {},
     "output_type": "execute_result"
    }
   ],
   "source": [
    "M_train"
   ]
  },
  {
   "cell_type": "code",
   "execution_count": 53,
   "metadata": {},
   "outputs": [],
   "source": [
    "M_test = np.zeros((943, 1682))"
   ]
  },
  {
   "cell_type": "code",
   "execution_count": 54,
   "metadata": {},
   "outputs": [],
   "source": [
    "for i in range(0, rating_test.shape[0]):\n",
    "    row = rating_test.iloc[i,:]\n",
    "    M_test[int(row[0]-1), int(row[1]-1)] = row[2]"
   ]
  },
  {
   "cell_type": "code",
   "execution_count": 55,
   "metadata": {},
   "outputs": [
    {
     "data": {
      "text/plain": [
       "array([[0., 0., 0., ..., 0., 0., 0.],\n",
       "       [0., 0., 0., ..., 0., 0., 0.],\n",
       "       [0., 0., 0., ..., 0., 0., 0.],\n",
       "       ...,\n",
       "       [0., 0., 0., ..., 0., 0., 0.],\n",
       "       [0., 0., 0., ..., 0., 0., 0.],\n",
       "       [0., 0., 0., ..., 0., 0., 0.]])"
      ]
     },
     "execution_count": 55,
     "metadata": {},
     "output_type": "execute_result"
    }
   ],
   "source": [
    "M_test"
   ]
  },
  {
   "cell_type": "markdown",
   "metadata": {},
   "source": [
    "Implement coordinate ascent algorithm"
   ]
  },
  {
   "cell_type": "code",
   "execution_count": 56,
   "metadata": {},
   "outputs": [],
   "source": [
    "from numpy.linalg import inv"
   ]
  },
  {
   "cell_type": "code",
   "execution_count": 57,
   "metadata": {},
   "outputs": [],
   "source": [
    "def matrix_factorization(data, cov, d, lambda_, num_iteration):\n",
    "    \"\"\"\n",
    "    Return loss fuction and matrix factorization result u, v after num_iterations iteraions\n",
    "    \n",
    "    @data: dataset\n",
    "    @cov: initial cov (sigma_squared)\n",
    "    @d: rank\n",
    "    @lambda_: lambda\n",
    "    @num_iteration: number of iterations\n",
    "    \"\"\"\n",
    "    #data.shape[0] = 943 = N1\n",
    "    #data.shape[1] = 1682 = N2\n",
    "    \n",
    "    #N1 and N2 is hard coded to 943 and 1682 here; if dataset change, modify this function:\n",
    "\n",
    "    \n",
    "    #initialize   \n",
    "    v = np.random.multivariate_normal([0]*1682, np.identity(1682), size = 10) #shape(10,1682)\n",
    "    u = np.repeat(np.NaN,943*10).reshape(943, 10) #shape (943,10)\n",
    "    #u = np.repeat(np.NaN,943*10).reshape(10, 943)\n",
    "    objective_acc = []\n",
    "    \n",
    "    for iteration in range(0,num_iteration):\n",
    "        #update u\n",
    "        for i in range(0,943):\n",
    "            #select step: use  select matrix to only keep vj that has ui\n",
    "            select_matrix = abs(np.sign(data[i])) #(1682,)\n",
    "            v_as = np.multiply(select_matrix,v) #v_after_select, shape: 10*1682\n",
    "            part1 = np.matmul(v_as,v_as.transpose()) #10*10\n",
    "            temp = inv(np.identity(d)*cov + part1) #10*10\n",
    "            #part2 = np.matmul(v, data[i].reshape(-1,1)) #10*1\n",
    "            #result = np.matmul(temp, part2).reshape(1,-1)\n",
    "            part2 = np.matmul(data[i].reshape(-1,1).transpose(),v.transpose()) #Mv term\n",
    "            result = np.matmul(part2, temp) #1*10, need to insert to u(943*10)\n",
    "            u[i] = result #update u row by row\n",
    " \n",
    "        #update v        \n",
    "        for j in range(0,1682):\n",
    "            #select step\n",
    "            select_matrix2 = abs(np.sign(data[:,j])) #data[:,j]: shape(943,)\n",
    "            #temp = np.multiply(select_matrix2.reshape(943,-1),u) #select_matrix2.reshape(943,-1) -> (943,1)\n",
    "            u_as = np.multiply(select_matrix2, u.transpose()) #u after select 10*943\n",
    "            part1 = np.matmul(u_as,u_as.transpose()) #term uT.u 10*10\n",
    "            temp2 = inv(np.identity(d)*cov + part1) #10*10\n",
    "            part2 = np.matmul(data[:,j].reshape(-1,1).transpose(),u) #1*10\n",
    "            result2 = np.matmul(part2,temp2) #1*10          \n",
    "            v[:,j] = result2 #update v column by column\n",
    "        \n",
    "        #loss function\n",
    "        u_loss_acc = 0\n",
    "        for i in range(0, u.shape[0]):\n",
    "            loss_row = u[i]\n",
    "            u_loss_acc+=1/2*np.square(LA.norm(loss_row))\n",
    "            #same: u_loss_acc+=lambda_/2*np.sum(np.square(loss_row))\n",
    "        #same(without loop): u_loss_acc = np.sum(lambda_/2*np.square(u))\n",
    "\n",
    "        v_loss_acc = 0\n",
    "        for j in range(0, v.shape[0]):\n",
    "            loss_col = v[j]\n",
    "            v_loss_acc+=1/2*np.square(LA.norm(loss_col))\n",
    "            #v_loss_acc+=lambda_/2*np.sum(np.square(loss_col))\n",
    "            \n",
    "        select_matrix3 = abs(np.sign(data))\n",
    "        pred = np.matmul(u, v)\n",
    "        subtract = np.multiply(data - pred,select_matrix3)\n",
    "        subtract_norm = np.square(LA.norm(subtract))/(2*cov)\n",
    "        #same: subtract_norm = np.sum(np.square(subtract))/(2*cov)\n",
    "        \n",
    "        L = -subtract_norm-u_loss_acc-v_loss_acc \n",
    "        objective_acc.append(L)\n",
    "        \n",
    "    return objective_acc, u, v  #u:(943,10); v:(10,1682)"
   ]
  },
  {
   "cell_type": "code",
   "execution_count": 62,
   "metadata": {},
   "outputs": [],
   "source": [
    "L, U, V = matrix_factorization(M_train, 0.25, 10, 1, 100)"
   ]
  },
  {
   "cell_type": "markdown",
   "metadata": {},
   "source": [
    "#### a)  Run your code 10 times. For each run, initialize your ui and vj vectors as N(0,I) random vectors. On a single plot, show the the log joint likelihood for iterations 2 to 100 for each run. In a table,show in each row the final value of the training objective function next to the RMSE on the testingset. Sort these rows according to decreasing value of the objective function."
   ]
  },
  {
   "cell_type": "code",
   "execution_count": 63,
   "metadata": {},
   "outputs": [],
   "source": [
    "def matrix_fac_ntimes(data, n_runs):\n",
    "    \"\"\"\n",
    "    Run matrix factorization algorithm n_runs times.\n",
    "    \n",
    "    @n_runs: run n_rums times\n",
    "    \"\"\"\n",
    "    all_obj = []\n",
    "    all_u = []\n",
    "    all_v = []\n",
    "    for interation in range(0, n_runs):\n",
    "        obj_one, u_one, v_one = matrix_factorization(data,0.25,10, 1,100)\n",
    "        all_obj.append(obj_one)\n",
    "        all_u.append(u_one)\n",
    "        all_v.append(v_one)\n",
    "    return all_obj, all_u, all_v"
   ]
  },
  {
   "cell_type": "markdown",
   "metadata": {},
   "source": [
    "Run matrix factorization 10 times and store all results in list"
   ]
  },
  {
   "cell_type": "code",
   "execution_count": 64,
   "metadata": {},
   "outputs": [],
   "source": [
    "all_obj, all_u, all_v = matrix_fac_ntimes(M_train, 10)"
   ]
  },
  {
   "cell_type": "markdown",
   "metadata": {},
   "source": [
    "Plot objective function"
   ]
  },
  {
   "cell_type": "code",
   "execution_count": 65,
   "metadata": {},
   "outputs": [
    {
     "data": {
      "image/png": "[encoded data removed]",
      "text/plain": [
       "<Figure size 720x576 with 1 Axes>"
      ]
     },
     "metadata": {
      "needs_background": "light"
     },
     "output_type": "display_data"
    }
   ],
   "source": [
    "i = 1\n",
    "plt.figure(figsize=(10,8))\n",
    "for item in all_obj:\n",
    "    plt.plot(np.arange(2,101), item[1:], label = 'run '+str(i))\n",
    "    plt.legend()\n",
    "    plt.xlabel('iterations')\n",
    "    plt.ylabel('Log Joint Likelihood')\n",
    "    plt.title('Log Joint Likelihood by Iterations')\n",
    "    i+=1"
   ]
  },
  {
   "cell_type": "code",
   "execution_count": 66,
   "metadata": {},
   "outputs": [],
   "source": [
    "def RMSE(pred, true):\n",
    "    \"\"\"\n",
    "    Return RMSE of prediction result that obtained by matrix factorization and true data\n",
    "    \n",
    "    @pred: obtained by uT*v\n",
    "    @true: true matrix\n",
    "    \"\"\"\n",
    "    subtract = np.multiply(true - pred, abs(np.sign(true)))\n",
    "    N = np.sum(abs(np.sign(true)))\n",
    "    MSE = 1/N*np.sum(np.square(subtract))\n",
    "    RMSE = np.sqrt(MSE)\n",
    "    return RMSE"
   ]
  },
  {
   "cell_type": "code",
   "execution_count": 67,
   "metadata": {},
   "outputs": [],
   "source": [
    "rmse_acc = []\n",
    "for i in range(0, len(all_u)):\n",
    "    u = all_u[i]\n",
    "    v = all_v[i]\n",
    "    pred_result = np.matmul(u, v)\n",
    "    rmse = RMSE(pred_result, M_test)\n",
    "    rmse_acc.append(rmse)"
   ]
  },
  {
   "cell_type": "code",
   "execution_count": 68,
   "metadata": {},
   "outputs": [],
   "source": [
    "last_obj = []\n",
    "for i in range(0, len(all_obj)):\n",
    "    last_obj.append(all_obj[i][-1])"
   ]
  },
  {
   "cell_type": "code",
   "execution_count": 69,
   "metadata": {},
   "outputs": [
    {
     "data": {
      "text/html": [
       "<div>\n",
       "<style scoped>\n",
       "    .dataframe tbody tr th:only-of-type {\n",
       "        vertical-align: middle;\n",
       "    }\n",
       "\n",
       "    .dataframe tbody tr th {\n",
       "        vertical-align: top;\n",
       "    }\n",
       "\n",
       "    .dataframe thead th {\n",
       "        text-align: right;\n",
       "    }\n",
       "</style>\n",
       "<table border=\"1\" class=\"dataframe\">\n",
       "  <thead>\n",
       "    <tr style=\"text-align: right;\">\n",
       "      <th></th>\n",
       "      <th>run</th>\n",
       "      <th>last objective</th>\n",
       "      <th>RMSE</th>\n",
       "    </tr>\n",
       "  </thead>\n",
       "  <tbody>\n",
       "    <tr>\n",
       "      <th>8</th>\n",
       "      <td>9</td>\n",
       "      <td>-90790.909374</td>\n",
       "      <td>1.120636</td>\n",
       "    </tr>\n",
       "    <tr>\n",
       "      <th>1</th>\n",
       "      <td>2</td>\n",
       "      <td>-90965.798667</td>\n",
       "      <td>1.142113</td>\n",
       "    </tr>\n",
       "    <tr>\n",
       "      <th>7</th>\n",
       "      <td>8</td>\n",
       "      <td>-91027.229903</td>\n",
       "      <td>1.122638</td>\n",
       "    </tr>\n",
       "    <tr>\n",
       "      <th>6</th>\n",
       "      <td>7</td>\n",
       "      <td>-91044.853561</td>\n",
       "      <td>1.103026</td>\n",
       "    </tr>\n",
       "    <tr>\n",
       "      <th>5</th>\n",
       "      <td>6</td>\n",
       "      <td>-91148.399908</td>\n",
       "      <td>1.124851</td>\n",
       "    </tr>\n",
       "    <tr>\n",
       "      <th>9</th>\n",
       "      <td>10</td>\n",
       "      <td>-91196.100717</td>\n",
       "      <td>1.129928</td>\n",
       "    </tr>\n",
       "    <tr>\n",
       "      <th>0</th>\n",
       "      <td>1</td>\n",
       "      <td>-91257.085914</td>\n",
       "      <td>1.119807</td>\n",
       "    </tr>\n",
       "    <tr>\n",
       "      <th>4</th>\n",
       "      <td>5</td>\n",
       "      <td>-91295.309259</td>\n",
       "      <td>1.120034</td>\n",
       "    </tr>\n",
       "    <tr>\n",
       "      <th>2</th>\n",
       "      <td>3</td>\n",
       "      <td>-91342.874034</td>\n",
       "      <td>1.149415</td>\n",
       "    </tr>\n",
       "    <tr>\n",
       "      <th>3</th>\n",
       "      <td>4</td>\n",
       "      <td>-91528.608783</td>\n",
       "      <td>1.199044</td>\n",
       "    </tr>\n",
       "  </tbody>\n",
       "</table>\n",
       "</div>"
      ],
      "text/plain": [
       "   run  last objective      RMSE\n",
       "8    9   -90790.909374  1.120636\n",
       "1    2   -90965.798667  1.142113\n",
       "7    8   -91027.229903  1.122638\n",
       "6    7   -91044.853561  1.103026\n",
       "5    6   -91148.399908  1.124851\n",
       "9   10   -91196.100717  1.129928\n",
       "0    1   -91257.085914  1.119807\n",
       "4    5   -91295.309259  1.120034\n",
       "2    3   -91342.874034  1.149415\n",
       "3    4   -91528.608783  1.199044"
      ]
     },
     "execution_count": 69,
     "metadata": {},
     "output_type": "execute_result"
    }
   ],
   "source": [
    "d = {'run': np.arange(1,11),'last objective':last_obj,'RMSE':rmse_acc}\n",
    "df = pd.DataFrame(d)\n",
    "df.sort_values(by=['last objective'],ascending=False)"
   ]
  },
  {
   "cell_type": "markdown",
   "metadata": {},
   "source": [
    "#### b)  For the run with the highest objective value, pick the movies “Star Wars” “My Fair Lady” and“Goodfellas” and for each movie find the 10 closest movies according to Euclidean distance using their respective locations vj.  List the query movie, the ten nearest movies and their distances.  A mapping from index to movie is provided with the data."
   ]
  },
  {
   "cell_type": "code",
   "execution_count": 123,
   "metadata": {},
   "outputs": [],
   "source": [
    "best_u = all_u[0]\n",
    "best_v = all_v[0]"
   ]
  },
  {
   "cell_type": "code",
   "execution_count": 124,
   "metadata": {},
   "outputs": [
    {
     "data": {
      "text/plain": [
       "(943, 1682)"
      ]
     },
     "execution_count": 124,
     "metadata": {},
     "output_type": "execute_result"
    }
   ],
   "source": [
    "pred_matrix = np.matmul(best_u, best_v)\n",
    "pred_matrix.shape"
   ]
  },
  {
   "cell_type": "code",
   "execution_count": 129,
   "metadata": {},
   "outputs": [],
   "source": [
    "best_v_T = best_v.transpose() #shape (1682, 10)"
   ]
  },
  {
   "cell_type": "code",
   "execution_count": 132,
   "metadata": {},
   "outputs": [
    {
     "ename": "NameError",
     "evalue": "name 'dist_acc' is not defined",
     "output_type": "error",
     "traceback": [
      "\u001b[0;31m---------------------------------------------------------------------------\u001b[0m",
      "\u001b[0;31mNameError\u001b[0m                                 Traceback (most recent call last)",
      "\u001b[0;32m<ipython-input-132-3ebe5da170bc>\u001b[0m in \u001b[0;36m<module>\u001b[0;34m\u001b[0m\n\u001b[0;32m----> 1\u001b[0;31m \u001b[0md2\u001b[0m \u001b[0;34m=\u001b[0m \u001b[0;34m{\u001b[0m\u001b[0;34m'movie_id2'\u001b[0m\u001b[0;34m:\u001b[0m\u001b[0mnp\u001b[0m\u001b[0;34m.\u001b[0m\u001b[0marange\u001b[0m\u001b[0;34m(\u001b[0m\u001b[0;36m1\u001b[0m\u001b[0;34m,\u001b[0m\u001b[0;36m1683\u001b[0m\u001b[0;34m)\u001b[0m\u001b[0;34m,\u001b[0m\u001b[0;34m'distance'\u001b[0m\u001b[0;34m:\u001b[0m\u001b[0mdist_acc\u001b[0m\u001b[0;34m}\u001b[0m\u001b[0;34m\u001b[0m\u001b[0;34m\u001b[0m\u001b[0m\n\u001b[0m\u001b[1;32m      2\u001b[0m \u001b[0mdf2\u001b[0m \u001b[0;34m=\u001b[0m \u001b[0mpd\u001b[0m\u001b[0;34m.\u001b[0m\u001b[0mDataFrame\u001b[0m\u001b[0;34m(\u001b[0m\u001b[0md2\u001b[0m\u001b[0;34m)\u001b[0m\u001b[0;34m\u001b[0m\u001b[0;34m\u001b[0m\u001b[0m\n\u001b[1;32m      3\u001b[0m \u001b[0mdf3\u001b[0m \u001b[0;34m=\u001b[0m \u001b[0mpd\u001b[0m\u001b[0;34m.\u001b[0m\u001b[0mconcat\u001b[0m\u001b[0;34m(\u001b[0m\u001b[0;34m[\u001b[0m\u001b[0mdf2\u001b[0m\u001b[0;34m,\u001b[0m \u001b[0mmovie\u001b[0m\u001b[0;34m]\u001b[0m\u001b[0;34m,\u001b[0m \u001b[0maxis\u001b[0m\u001b[0;34m=\u001b[0m\u001b[0;36m1\u001b[0m\u001b[0;34m,\u001b[0m \u001b[0mjoin\u001b[0m\u001b[0;34m=\u001b[0m\u001b[0;34m'inner'\u001b[0m\u001b[0;34m)\u001b[0m\u001b[0;34m\u001b[0m\u001b[0;34m\u001b[0m\u001b[0m\n\u001b[1;32m      4\u001b[0m \u001b[0mdf3\u001b[0m \u001b[0;34m=\u001b[0m \u001b[0mdf3\u001b[0m\u001b[0;34m.\u001b[0m\u001b[0mdrop\u001b[0m\u001b[0;34m(\u001b[0m\u001b[0;34m[\u001b[0m\u001b[0;34m'movie_id2'\u001b[0m\u001b[0;34m]\u001b[0m\u001b[0;34m,\u001b[0m \u001b[0maxis\u001b[0m\u001b[0;34m=\u001b[0m\u001b[0;36m1\u001b[0m\u001b[0;34m)\u001b[0m\u001b[0;34m\u001b[0m\u001b[0;34m\u001b[0m\u001b[0m\n\u001b[1;32m      5\u001b[0m \u001b[0mdf3\u001b[0m\u001b[0;34m.\u001b[0m\u001b[0mhead\u001b[0m\u001b[0;34m(\u001b[0m\u001b[0;34m)\u001b[0m\u001b[0;34m\u001b[0m\u001b[0;34m\u001b[0m\u001b[0m\n",
      "\u001b[0;31mNameError\u001b[0m: name 'dist_acc' is not defined"
     ]
    }
   ],
   "source": [
    "d2 = {'movie_id2':np.arange(1,1683),'distance':dist_acc}\n",
    "df2 = pd.DataFrame(d2)\n",
    "df3 = pd.concat([df2, movie], axis=1, join='inner')\n",
    "df3 = df3.drop(['movie_id2'], axis=1)\n",
    "df3.head()"
   ]
  },
  {
   "cell_type": "code",
   "execution_count": 133,
   "metadata": {},
   "outputs": [],
   "source": [
    "def find_closet_movie(movie_id, best_v_T, best_n, movie_data):\n",
    "    select_movie = best_v_T[movie_id-1]\n",
    "    print(select_movie)\n",
    "    #use dist_acc to store distance\n",
    "    dist_acc = []\n",
    "    for one_movie in best_v_T: #best_v_T.shape[0]=1682\n",
    "        eclu_dist = np.sqrt(np.sum(np.square(select_movie - one_movie)))\n",
    "        dist_acc.append(eclu_dist)\n",
    "    #put result to table\n",
    "    d = {'movie_id':np.arange(1,1683).tolist(),'distance': dist_acc}\n",
    "    return d"
   ]
  },
  {
   "cell_type": "markdown",
   "metadata": {},
   "source": [
    "**Movie Star Wars**"
   ]
  },
  {
   "cell_type": "code",
   "execution_count": 128,
   "metadata": {},
   "outputs": [
    {
     "ename": "NameError",
     "evalue": "name 'df3' is not defined",
     "output_type": "error",
     "traceback": [
      "\u001b[0;31m---------------------------------------------------------------------------\u001b[0m",
      "\u001b[0;31mNameError\u001b[0m                                 Traceback (most recent call last)",
      "\u001b[0;32m<ipython-input-128-0aa01487b854>\u001b[0m in \u001b[0;36m<module>\u001b[0;34m\u001b[0m\n\u001b[0;32m----> 1\u001b[0;31m \u001b[0mdf3\u001b[0m\u001b[0;34m[\u001b[0m\u001b[0mdf3\u001b[0m\u001b[0;34m[\u001b[0m\u001b[0;34m'movie_name'\u001b[0m\u001b[0;34m]\u001b[0m\u001b[0;34m==\u001b[0m\u001b[0;34m'Star Wars (1977)'\u001b[0m\u001b[0;34m]\u001b[0m\u001b[0;34m\u001b[0m\u001b[0;34m\u001b[0m\u001b[0m\n\u001b[0m",
      "\u001b[0;31mNameError\u001b[0m: name 'df3' is not defined"
     ]
    }
   ],
   "source": [
    "df3[df3['movie_name']=='Star Wars (1977)']"
   ]
  },
  {
   "cell_type": "code",
   "execution_count": 135,
   "metadata": {},
   "outputs": [
    {
     "name": "stdout",
     "output_type": "stream",
     "text": [
      "[ 0.03960988 -0.31254683 -1.52665797 -0.5747604   0.46550249 -0.13603489\n",
      " -0.01436167 -0.54878932 -0.24337557  0.07106515]\n"
     ]
    }
   ],
   "source": [
    "d_starwar = find_closet_movie(50, best_v_T, 10, movie)"
   ]
  },
  {
   "cell_type": "code",
   "execution_count": 136,
   "metadata": {},
   "outputs": [
    {
     "data": {
      "text/html": [
       "<div>\n",
       "<style scoped>\n",
       "    .dataframe tbody tr th:only-of-type {\n",
       "        vertical-align: middle;\n",
       "    }\n",
       "\n",
       "    .dataframe tbody tr th {\n",
       "        vertical-align: top;\n",
       "    }\n",
       "\n",
       "    .dataframe thead th {\n",
       "        text-align: right;\n",
       "    }\n",
       "</style>\n",
       "<table border=\"1\" class=\"dataframe\">\n",
       "  <thead>\n",
       "    <tr style=\"text-align: right;\">\n",
       "      <th></th>\n",
       "      <th>movie_id</th>\n",
       "      <th>distance</th>\n",
       "      <th>movie_id</th>\n",
       "      <th>movie_name</th>\n",
       "    </tr>\n",
       "  </thead>\n",
       "  <tbody>\n",
       "    <tr>\n",
       "      <th>49</th>\n",
       "      <td>50</td>\n",
       "      <td>0.000000</td>\n",
       "      <td>50</td>\n",
       "      <td>Star Wars (1977)</td>\n",
       "    </tr>\n",
       "    <tr>\n",
       "      <th>171</th>\n",
       "      <td>172</td>\n",
       "      <td>0.333556</td>\n",
       "      <td>172</td>\n",
       "      <td>Empire Strikes Back, The (1980)</td>\n",
       "    </tr>\n",
       "    <tr>\n",
       "      <th>173</th>\n",
       "      <td>174</td>\n",
       "      <td>0.626898</td>\n",
       "      <td>174</td>\n",
       "      <td>Raiders of the Lost Ark (1981)</td>\n",
       "    </tr>\n",
       "    <tr>\n",
       "      <th>180</th>\n",
       "      <td>181</td>\n",
       "      <td>0.627295</td>\n",
       "      <td>181</td>\n",
       "      <td>Return of the Jedi (1983)</td>\n",
       "    </tr>\n",
       "    <tr>\n",
       "      <th>529</th>\n",
       "      <td>530</td>\n",
       "      <td>0.937108</td>\n",
       "      <td>530</td>\n",
       "      <td>Man Who Would Be King, The (1975)</td>\n",
       "    </tr>\n",
       "    <tr>\n",
       "      <th>193</th>\n",
       "      <td>194</td>\n",
       "      <td>0.965902</td>\n",
       "      <td>194</td>\n",
       "      <td>Sting, The (1973)</td>\n",
       "    </tr>\n",
       "    <tr>\n",
       "      <th>209</th>\n",
       "      <td>210</td>\n",
       "      <td>0.976070</td>\n",
       "      <td>210</td>\n",
       "      <td>Indiana Jones and the Last Crusade (1989)</td>\n",
       "    </tr>\n",
       "    <tr>\n",
       "      <th>611</th>\n",
       "      <td>612</td>\n",
       "      <td>1.002463</td>\n",
       "      <td>612</td>\n",
       "      <td>Lost Horizon (1937)</td>\n",
       "    </tr>\n",
       "    <tr>\n",
       "      <th>428</th>\n",
       "      <td>429</td>\n",
       "      <td>1.050822</td>\n",
       "      <td>429</td>\n",
       "      <td>Day the Earth Stood Still, The (1951)</td>\n",
       "    </tr>\n",
       "    <tr>\n",
       "      <th>86</th>\n",
       "      <td>87</td>\n",
       "      <td>1.110947</td>\n",
       "      <td>87</td>\n",
       "      <td>Searching for Bobby Fischer (1993)</td>\n",
       "    </tr>\n",
       "    <tr>\n",
       "      <th>203</th>\n",
       "      <td>204</td>\n",
       "      <td>1.132705</td>\n",
       "      <td>204</td>\n",
       "      <td>Back to the Future (1985)</td>\n",
       "    </tr>\n",
       "  </tbody>\n",
       "</table>\n",
       "</div>"
      ],
      "text/plain": [
       "     movie_id  distance  movie_id                                 movie_name\n",
       "49         50  0.000000        50                           Star Wars (1977)\n",
       "171       172  0.333556       172            Empire Strikes Back, The (1980)\n",
       "173       174  0.626898       174             Raiders of the Lost Ark (1981)\n",
       "180       181  0.627295       181                  Return of the Jedi (1983)\n",
       "529       530  0.937108       530          Man Who Would Be King, The (1975)\n",
       "193       194  0.965902       194                          Sting, The (1973)\n",
       "209       210  0.976070       210  Indiana Jones and the Last Crusade (1989)\n",
       "611       612  1.002463       612                        Lost Horizon (1937)\n",
       "428       429  1.050822       429      Day the Earth Stood Still, The (1951)\n",
       "86         87  1.110947        87         Searching for Bobby Fischer (1993)\n",
       "203       204  1.132705       204                  Back to the Future (1985)"
      ]
     },
     "execution_count": 136,
     "metadata": {},
     "output_type": "execute_result"
    }
   ],
   "source": [
    "closet_10 = pd.DataFrame(d_starwar).sort_values(by=['distance']).head(11)\n",
    "result_df = pd.concat([closet_10, movie], axis=1, join='inner')\n",
    "result_df"
   ]
  },
  {
   "cell_type": "markdown",
   "metadata": {},
   "source": [
    "**Movie: My Fair Lady**"
   ]
  },
  {
   "cell_type": "code",
   "execution_count": 137,
   "metadata": {},
   "outputs": [
    {
     "ename": "NameError",
     "evalue": "name 'movie_dist_name' is not defined",
     "output_type": "error",
     "traceback": [
      "\u001b[0;31m---------------------------------------------------------------------------\u001b[0m",
      "\u001b[0;31mNameError\u001b[0m                                 Traceback (most recent call last)",
      "\u001b[0;32m<ipython-input-137-08a237cdb528>\u001b[0m in \u001b[0;36m<module>\u001b[0;34m\u001b[0m\n\u001b[0;32m----> 1\u001b[0;31m \u001b[0mmovie_dist_name\u001b[0m\u001b[0;34m[\u001b[0m\u001b[0mmovie_dist_name\u001b[0m\u001b[0;34m[\u001b[0m\u001b[0;34m'movie_name'\u001b[0m\u001b[0;34m]\u001b[0m\u001b[0;34m==\u001b[0m\u001b[0;34m'My Fair Lady (1964)'\u001b[0m\u001b[0;34m]\u001b[0m\u001b[0;34m\u001b[0m\u001b[0;34m\u001b[0m\u001b[0m\n\u001b[0m",
      "\u001b[0;31mNameError\u001b[0m: name 'movie_dist_name' is not defined"
     ]
    }
   ],
   "source": [
    "movie_dist_name[movie_dist_name['movie_name']=='My Fair Lady (1964)']"
   ]
  },
  {
   "cell_type": "code",
   "execution_count": 138,
   "metadata": {},
   "outputs": [
    {
     "name": "stdout",
     "output_type": "stream",
     "text": [
      "[ 0.0040703   0.02947809 -0.36468668  0.68632765  0.43647821 -0.03831968\n",
      "  0.20277546 -0.80008712 -0.98833329 -0.93372242]\n"
     ]
    },
    {
     "data": {
      "text/html": [
       "<div>\n",
       "<style scoped>\n",
       "    .dataframe tbody tr th:only-of-type {\n",
       "        vertical-align: middle;\n",
       "    }\n",
       "\n",
       "    .dataframe tbody tr th {\n",
       "        vertical-align: top;\n",
       "    }\n",
       "\n",
       "    .dataframe thead th {\n",
       "        text-align: right;\n",
       "    }\n",
       "</style>\n",
       "<table border=\"1\" class=\"dataframe\">\n",
       "  <thead>\n",
       "    <tr style=\"text-align: right;\">\n",
       "      <th></th>\n",
       "      <th>movie_id</th>\n",
       "      <th>distance</th>\n",
       "      <th>movie_id</th>\n",
       "      <th>movie_name</th>\n",
       "    </tr>\n",
       "  </thead>\n",
       "  <tbody>\n",
       "    <tr>\n",
       "      <th>484</th>\n",
       "      <td>485</td>\n",
       "      <td>0.000000</td>\n",
       "      <td>485</td>\n",
       "      <td>My Fair Lady (1964)</td>\n",
       "    </tr>\n",
       "    <tr>\n",
       "      <th>142</th>\n",
       "      <td>143</td>\n",
       "      <td>0.690841</td>\n",
       "      <td>143</td>\n",
       "      <td>Sound of Music, The (1965)</td>\n",
       "    </tr>\n",
       "    <tr>\n",
       "      <th>485</th>\n",
       "      <td>486</td>\n",
       "      <td>0.729392</td>\n",
       "      <td>486</td>\n",
       "      <td>Sabrina (1954)</td>\n",
       "    </tr>\n",
       "    <tr>\n",
       "      <th>418</th>\n",
       "      <td>419</td>\n",
       "      <td>0.814966</td>\n",
       "      <td>419</td>\n",
       "      <td>Mary Poppins (1964)</td>\n",
       "    </tr>\n",
       "    <tr>\n",
       "      <th>968</th>\n",
       "      <td>969</td>\n",
       "      <td>0.966124</td>\n",
       "      <td>969</td>\n",
       "      <td>Winnie the Pooh and the Blustery Day (1968)</td>\n",
       "    </tr>\n",
       "    <tr>\n",
       "      <th>419</th>\n",
       "      <td>420</td>\n",
       "      <td>0.970394</td>\n",
       "      <td>420</td>\n",
       "      <td>Alice in Wonderland (1951)</td>\n",
       "    </tr>\n",
       "    <tr>\n",
       "      <th>450</th>\n",
       "      <td>451</td>\n",
       "      <td>0.992786</td>\n",
       "      <td>451</td>\n",
       "      <td>Grease (1978)</td>\n",
       "    </tr>\n",
       "    <tr>\n",
       "      <th>628</th>\n",
       "      <td>629</td>\n",
       "      <td>1.037422</td>\n",
       "      <td>629</td>\n",
       "      <td>Victor/Victoria (1982)</td>\n",
       "    </tr>\n",
       "    <tr>\n",
       "      <th>477</th>\n",
       "      <td>478</td>\n",
       "      <td>1.058954</td>\n",
       "      <td>478</td>\n",
       "      <td>Philadelphia Story, The (1940)</td>\n",
       "    </tr>\n",
       "    <tr>\n",
       "      <th>212</th>\n",
       "      <td>213</td>\n",
       "      <td>1.107621</td>\n",
       "      <td>213</td>\n",
       "      <td>Room with a View, A (1986)</td>\n",
       "    </tr>\n",
       "    <tr>\n",
       "      <th>7</th>\n",
       "      <td>8</td>\n",
       "      <td>1.153945</td>\n",
       "      <td>8</td>\n",
       "      <td>Babe (1995)</td>\n",
       "    </tr>\n",
       "  </tbody>\n",
       "</table>\n",
       "</div>"
      ],
      "text/plain": [
       "     movie_id  distance  movie_id                                   movie_name\n",
       "484       485  0.000000       485                          My Fair Lady (1964)\n",
       "142       143  0.690841       143                   Sound of Music, The (1965)\n",
       "485       486  0.729392       486                               Sabrina (1954)\n",
       "418       419  0.814966       419                          Mary Poppins (1964)\n",
       "968       969  0.966124       969  Winnie the Pooh and the Blustery Day (1968)\n",
       "419       420  0.970394       420                   Alice in Wonderland (1951)\n",
       "450       451  0.992786       451                                Grease (1978)\n",
       "628       629  1.037422       629                       Victor/Victoria (1982)\n",
       "477       478  1.058954       478               Philadelphia Story, The (1940)\n",
       "212       213  1.107621       213                   Room with a View, A (1986)\n",
       "7           8  1.153945         8                                  Babe (1995)"
      ]
     },
     "execution_count": 138,
     "metadata": {},
     "output_type": "execute_result"
    }
   ],
   "source": [
    "d_firstlady = find_closet_movie(485, best_v_T, 10, movie)\n",
    "closet_10 = pd.DataFrame(d_firstlady).sort_values(by=['distance']).head(11)\n",
    "result_df = pd.concat([closet_10, movie], axis=1, join='inner')\n",
    "result_df"
   ]
  },
  {
   "cell_type": "markdown",
   "metadata": {},
   "source": [
    "**Movie: GoodFellas (1990)**"
   ]
  },
  {
   "cell_type": "code",
   "execution_count": 139,
   "metadata": {},
   "outputs": [
    {
     "ename": "NameError",
     "evalue": "name 'movie_dist_name' is not defined",
     "output_type": "error",
     "traceback": [
      "\u001b[0;31m---------------------------------------------------------------------------\u001b[0m",
      "\u001b[0;31mNameError\u001b[0m                                 Traceback (most recent call last)",
      "\u001b[0;32m<ipython-input-139-29a245c4b61f>\u001b[0m in \u001b[0;36m<module>\u001b[0;34m\u001b[0m\n\u001b[0;32m----> 1\u001b[0;31m \u001b[0mmovie_dist_name\u001b[0m\u001b[0;34m[\u001b[0m\u001b[0mmovie_dist_name\u001b[0m\u001b[0;34m[\u001b[0m\u001b[0;34m'movie_name'\u001b[0m\u001b[0;34m]\u001b[0m\u001b[0;34m==\u001b[0m\u001b[0;34m'GoodFellas (1990)'\u001b[0m\u001b[0;34m]\u001b[0m\u001b[0;34m\u001b[0m\u001b[0;34m\u001b[0m\u001b[0m\n\u001b[0m",
      "\u001b[0;31mNameError\u001b[0m: name 'movie_dist_name' is not defined"
     ]
    }
   ],
   "source": [
    "movie_dist_name[movie_dist_name['movie_name']=='GoodFellas (1990)']"
   ]
  },
  {
   "cell_type": "code",
   "execution_count": 140,
   "metadata": {},
   "outputs": [
    {
     "name": "stdout",
     "output_type": "stream",
     "text": [
      "[ 0.14765595 -0.22815132 -0.00135701 -0.39621911  0.12551056  0.05837917\n",
      "  0.96388001 -1.05334879  0.63417636  0.37888296]\n"
     ]
    },
    {
     "data": {
      "text/html": [
       "<div>\n",
       "<style scoped>\n",
       "    .dataframe tbody tr th:only-of-type {\n",
       "        vertical-align: middle;\n",
       "    }\n",
       "\n",
       "    .dataframe tbody tr th {\n",
       "        vertical-align: top;\n",
       "    }\n",
       "\n",
       "    .dataframe thead th {\n",
       "        text-align: right;\n",
       "    }\n",
       "</style>\n",
       "<table border=\"1\" class=\"dataframe\">\n",
       "  <thead>\n",
       "    <tr style=\"text-align: right;\">\n",
       "      <th></th>\n",
       "      <th>movie_id</th>\n",
       "      <th>distance</th>\n",
       "      <th>movie_id</th>\n",
       "      <th>movie_name</th>\n",
       "    </tr>\n",
       "  </thead>\n",
       "  <tbody>\n",
       "    <tr>\n",
       "      <th>181</th>\n",
       "      <td>182</td>\n",
       "      <td>0.000000</td>\n",
       "      <td>182</td>\n",
       "      <td>GoodFellas (1990)</td>\n",
       "    </tr>\n",
       "    <tr>\n",
       "      <th>176</th>\n",
       "      <td>177</td>\n",
       "      <td>0.731355</td>\n",
       "      <td>177</td>\n",
       "      <td>Good, The Bad and The Ugly, The (1966)</td>\n",
       "    </tr>\n",
       "    <tr>\n",
       "      <th>187</th>\n",
       "      <td>188</td>\n",
       "      <td>0.749040</td>\n",
       "      <td>188</td>\n",
       "      <td>Full Metal Jacket (1987)</td>\n",
       "    </tr>\n",
       "    <tr>\n",
       "      <th>134</th>\n",
       "      <td>135</td>\n",
       "      <td>0.795682</td>\n",
       "      <td>135</td>\n",
       "      <td>2001: A Space Odyssey (1968)</td>\n",
       "    </tr>\n",
       "    <tr>\n",
       "      <th>199</th>\n",
       "      <td>200</td>\n",
       "      <td>0.801490</td>\n",
       "      <td>200</td>\n",
       "      <td>Shining, The (1980)</td>\n",
       "    </tr>\n",
       "    <tr>\n",
       "      <th>522</th>\n",
       "      <td>523</td>\n",
       "      <td>0.872653</td>\n",
       "      <td>523</td>\n",
       "      <td>Cool Hand Luke (1967)</td>\n",
       "    </tr>\n",
       "    <tr>\n",
       "      <th>503</th>\n",
       "      <td>504</td>\n",
       "      <td>0.884772</td>\n",
       "      <td>504</td>\n",
       "      <td>Bonnie and Clyde (1967)</td>\n",
       "    </tr>\n",
       "    <tr>\n",
       "      <th>186</th>\n",
       "      <td>187</td>\n",
       "      <td>0.890713</td>\n",
       "      <td>187</td>\n",
       "      <td>Godfather: Part II, The (1974)</td>\n",
       "    </tr>\n",
       "    <tr>\n",
       "      <th>468</th>\n",
       "      <td>469</td>\n",
       "      <td>0.896179</td>\n",
       "      <td>469</td>\n",
       "      <td>Short Cuts (1993)</td>\n",
       "    </tr>\n",
       "    <tr>\n",
       "      <th>204</th>\n",
       "      <td>205</td>\n",
       "      <td>0.910357</td>\n",
       "      <td>205</td>\n",
       "      <td>Patton (1970)</td>\n",
       "    </tr>\n",
       "    <tr>\n",
       "      <th>692</th>\n",
       "      <td>693</td>\n",
       "      <td>0.928311</td>\n",
       "      <td>693</td>\n",
       "      <td>Casino (1995)</td>\n",
       "    </tr>\n",
       "  </tbody>\n",
       "</table>\n",
       "</div>"
      ],
      "text/plain": [
       "     movie_id  distance  movie_id                              movie_name\n",
       "181       182  0.000000       182                       GoodFellas (1990)\n",
       "176       177  0.731355       177  Good, The Bad and The Ugly, The (1966)\n",
       "187       188  0.749040       188                Full Metal Jacket (1987)\n",
       "134       135  0.795682       135            2001: A Space Odyssey (1968)\n",
       "199       200  0.801490       200                     Shining, The (1980)\n",
       "522       523  0.872653       523                   Cool Hand Luke (1967)\n",
       "503       504  0.884772       504                 Bonnie and Clyde (1967)\n",
       "186       187  0.890713       187          Godfather: Part II, The (1974)\n",
       "468       469  0.896179       469                       Short Cuts (1993)\n",
       "204       205  0.910357       205                           Patton (1970)\n",
       "692       693  0.928311       693                           Casino (1995)"
      ]
     },
     "execution_count": 140,
     "metadata": {},
     "output_type": "execute_result"
    }
   ],
   "source": [
    "d_goodfellas = find_closet_movie(182, best_v_T, 10, movie)\n",
    "closet_10 = pd.DataFrame(d_goodfellas).sort_values(by=['distance']).head(11)\n",
    "result_df = pd.concat([closet_10, movie], axis=1, join='inner')\n",
    "result_df"
   ]
  },
  {
   "cell_type": "code",
   "execution_count": null,
   "metadata": {},
   "outputs": [],
   "source": []
  }
 ],
 "metadata": {
  "kernelspec": {
   "display_name": "Python 3",
   "language": "python",
   "name": "python3"
  },
  "language_info": {
   "codemirror_mode": {
    "name": "ipython",
    "version": 3
   },
   "file_extension": ".py",
   "mimetype": "text/x-python",
   "name": "python",
   "nbconvert_exporter": "python",
   "pygments_lexer": "ipython3",
   "version": "3.7.3"
  }
 },
 "nbformat": 4,
 "nbformat_minor": 2
}
